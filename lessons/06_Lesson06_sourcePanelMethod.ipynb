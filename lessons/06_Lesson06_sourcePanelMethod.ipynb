{
 "metadata": {
  "name": "06_Lesson06_sourcePanelMethod"
 },
 "nbformat": 3,
 "nbformat_minor": 0,
 "worksheets": [
  {
   "cells": [
    {
     "cell_type": "markdown",
     "metadata": {},
     "source": [
      "Source panel method - to be written by Olivier"
     ]
    }
   ],
   "metadata": {}
  }
 ]
}