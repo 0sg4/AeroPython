{
 "cells": [
  {
   "cell_type": "raw",
   "metadata": {},
   "source": [
    "Content provided under a Creative Commons Attribution license, CC-BY 4.0; code under MIT license. (c)2014 Lorena A. Barba, Olivier Mesnard. Thanks: NSF for support via CAREER award #1149784."
   ]
  },
  {
   "cell_type": "markdown",
   "metadata": {},
   "source": [
    "##### Version 0.5 -- April 2015"
   ]
  },
  {
   "cell_type": "markdown",
   "metadata": {},
   "source": [
    "# Vortex-source panel method"
   ]
  },
  {
   "cell_type": "markdown",
   "metadata": {},
   "source": [
    "In [Lesson 9](http://nbviewer.ipython.org/urls/github.com/barbagroup/AeroPython/blob/master/lessons/09_Lesson09_flowOverCylinder.ipynb) of _AeroPython_, you learned to use a _source panel method_ to represent a circular cylinder, and in [Lesson 10](http://nbviewer.ipython.org/urls/github.com/barbagroup/AeroPython/blob/master/lessons/10_Lesson10_sourcePanelMethod.ipynb) we used it for a symmetric airfoil at zero angle of attack. But what if we want the airfoil to generate some lift? If we place the airfoil at a non-zero angle of attack, we _should_ get lift, but will a source-panel representation be able to give you lift? Remember the [_Kutta-Joukowski theorem_](http://en.wikipedia.org/wiki/Kutta%E2%80%93Joukowski_theorem)?\n",
    "\n",
    "\n",
    "Historically, the first panel method ever developed was a source-sheet method. At the time, Douglas Aircraft Company was concerned with calculating the flow around bodies of revolution, and it was only later that the method was extended to lifting surfaces. (See the reference below for a nice historical account.)\n",
    "\n",
    "A *source-panel method* leads to a solution with no circulation, therefore no lift. The objective of this lesson is to start with the source panel method we implemented in the previous lesson and add some *circulation* so that we may have a lift force. We introduce an important concept: the **Kutta-condition** that allows us to determine what the right amount of circulation should be."
   ]
  },
  {
   "cell_type": "markdown",
   "metadata": {},
   "source": [
    "##### Reference\n",
    "\n",
    "* Smith, A.M.O., The Panel Method: Its Original Development. In _Applied Computational Aerodynamics_, Vol. 125, edited by P.A. Henne, published by AIAA (1990). [Read it on Google Books.](http://books.google.com/books?id=5Ov2tHj0wxoC&lpg=PA3&ots=SnUiqcdEnb&dq=The%20Panel%20Method%3A%20Its%20Original%20Development&pg=PA3#v=onepage&q&f=false)"
   ]
  },
  {
   "cell_type": "markdown",
   "metadata": {},
   "source": [
    "## A lifting-body panel method"
   ]
  },
  {
   "cell_type": "markdown",
   "metadata": {},
   "source": [
    "If we were to simply increase the angle of attack in the freestream and calculate the flow with a source sheet only, the rear stagnation point will not be located at the trailing edge. Instead, the flow will bend around the trailing edge and the stagnation point will be somewhere on the top surface of the airfoil. This is not a physically possible solution.\n",
    "\n",
    "For example, using the source-sheet panel method of [Lesson 10](http://nbviewer.ipython.org/github/barbagroup/AeroPython/blob/master/lessons/10_Lesson10_sourcePanelMethod.ipynb) with an angle of attack $\\alpha=4^\\circ$ (using 40 panels), and plotting the streamlines in an area close to the trailing edge, we get the following plot:\n",
    "\n",
    "<center><img src=\"./resources/StreamlinesTrailingEdge.png\" width=\"600\"></center>"
   ]
  },
  {
   "cell_type": "markdown",
   "metadata": {},
   "source": [
    "As you can see, the streamlines behave strangely at the trailing edge. We know experimentally that the flow leaves the trailing edge of an airfoil smoothly, so this must be wrong. Well, it's just that we can't use purely sources to calculate potential flow of an airfoil at non-zero angle of attack—we need circulation. But how do we obtain circulation?\n",
    "\n",
    "### The Kutta condition\n",
    "\n",
    "The *Kutta-condition* states that the pressure below and above the airfoil trailing edge must be equal so that the flow does not bend around it, but leaves tangentially. The rear stagnation point must be exactly at the trailing edge.\n",
    "\n",
    "It's natural to be a little perplexed by this. How can we justify this seemingly arbitrary condition? Remember that potential-flow theory completely ignores fluid viscosity, so if we are leaving out this physical effect, we shouldn't be surprised that the theory needs some adjustment for those situations when viscosity does play a role. A real viscous fluid is not able to turn around a sharp corner like an airfoil trailing edge without separating there. The Kutta condition allows us to correct potential-flow theory so that it gives a solution closer to reality.\n",
    "\n",
    "Remember [Lesson 6](http://nbviewer.ipython.org/github/barbagroup/AeroPython/blob/master/lessons/06_Lesson06_vortexLift.ipynb), where we studied lift on a cylinder by combining a doublet and a freestream, plus a vortex. That's when we learned that **lift always requires circulation**. If you experimented with the circulation of the point vortex (which you *did*, right?), you found that the stagnation points moved along the cylinder.\n",
    "\n",
    "Like for the circular cylinder, the amount of circulation we add to an airfoil will move the stagnation points along the surface. And if we add just the right amount, the rear stagnation point can be made to coincide with the trailing edge. This amount of circulation makes the flow a physically relevant solution. And this amount gives the correct lift!\n",
    "\n",
    "To implement the Kutta-condition in our panel method we need to add one more equation to the system, giving the circulation that moves the stagnation point to the trailing edge. By placing a vortex-sheet with the same constant strength at every panel, we can add the circulation to the flow with just one more unknown.\n",
    "\n",
    "How do we enforce this in our code? We can re-use most of the code from Lesson 10, and enforce the Kutta-condition while adding circulation to the flow. Previously, we discretized the geometry into `N` panels, with a constant source strength on each one (varying from panel to panel), and applied a Neumann boundary condition of flow tangency at the `N` panel centers. This led to a linear system of `N` equations and `N` unknowns that we solved with the NumPy function `linalg.solve()`. In the lifting-body case, we will instead have `N+1` equations and `N+1` unknowns. Read on to find out how!\n"
   ]
  },
  {
   "cell_type": "markdown",
   "metadata": {},
   "source": [
    "### Discretization into panels"
   ]
  },
  {
   "cell_type": "markdown",
   "metadata": {},
   "source": [
    "Let's get the preliminaries out of the way. We need to import our favorite libraries, and the function `integrate` from SciPy, as in Lesson 10."
   ]
  },
  {
   "cell_type": "code",
   "execution_count": 1,
   "metadata": {
    "collapsed": false
   },
   "outputs": [],
   "source": [
    "import math\n",
    "import numpy\n",
    "from scipy import integrate\n",
    "from matplotlib import pyplot"
   ]
  },
  {
   "cell_type": "markdown",
   "metadata": {},
   "source": [
    "We start by importing the NACA0012 geometry from a data file, and we plot the airfoil:"
   ]
  },
  {
   "cell_type": "code",
   "execution_count": 2,
   "metadata": {
    "collapsed": false
   },
   "outputs": [
    {
     "data": {
      "image/png": "[encoded data removed]",
      "text/plain": [
       "<matplotlib.figure.Figure at 0x7f269db466d8>"
      ]
     },
     "metadata": {},
     "output_type": "display_data"
    }
   ],
   "source": [
    "# reads of the geometry from a data file\n",
    "with open ('./resources/naca0012.dat') as file_name:\n",
    "    x, y = numpy.loadtxt(file_name, dtype=float, delimiter='\\t', unpack=True)\n",
    "\n",
    "# plots the geometry\n",
    "%matplotlib inline\n",
    "\n",
    "val_x, val_y = 0.1, 0.2\n",
    "x_min, x_max = x.min(), x.max()\n",
    "y_min, y_max = y.min(), y.max()\n",
    "x_start, x_end = x_min-val_x*(x_max-x_min), x_max+val_x*(x_max-x_min)\n",
    "y_start, y_end = y_min-val_y*(y_max-y_min), y_max+val_y*(y_max-y_min)\n",
    "\n",
    "size = 10\n",
    "pyplot.figure(figsize=(size, (y_end-y_start)/(x_end-x_start)*size))\n",
    "pyplot.grid(True)\n",
    "pyplot.xlabel('x', fontsize=16)\n",
    "pyplot.ylabel('y', fontsize=16)\n",
    "pyplot.xlim(x_start, x_end)\n",
    "pyplot.ylim(y_start, y_end)\n",
    "pyplot.plot(x, y, color='k', linestyle='-', linewidth=2);"
   ]
  },
  {
   "cell_type": "markdown",
   "metadata": {},
   "source": [
    "The contour defining the airfoil will be partitioned into `N` panels, using the same method as in the [Lesson 10](http://nbviewer.ipython.org/github/barbagroup/AeroPython/blob/master/lessons/10_Lesson10_sourcePanelMethod.ipynb)."
   ]
  },
  {
   "cell_type": "markdown",
   "metadata": {},
   "source": [
    "We define a class `Panel`  that will store all information about one panel: start and end points, center point, length, orientation, source strength, tangential velocity and pressure coefficient. We don't save the vortex-sheet strength because all panels will have the same value."
   ]
  },
  {
   "cell_type": "code",
   "execution_count": 3,
   "metadata": {
    "collapsed": false
   },
   "outputs": [],
   "source": [
    "class Panel:\n",
    "    \"\"\"Contains information related to one panel.\"\"\"\n",
    "    def __init__(self, xa, ya, xb, yb):\n",
    "        \"\"\"Creates a panel.\n",
    "        \n",
    "        Arguments\n",
    "        ---------\n",
    "        xa, ya -- Cartesian coordinates of the first end-point.\n",
    "        xb, yb -- Cartesian coordinates of the second end-point.\n",
    "        \"\"\"\n",
    "        self.xa, self.ya = xa, ya\n",
    "        self.xb, self.yb = xb, yb\n",
    "        \n",
    "        self.xc, self.yc = (xa+xb)/2, (ya+yb)/2       # control-point (center-point)\n",
    "        self.length = math.sqrt((xb-xa)**2+(yb-ya)**2)     # length of the panel\n",
    "        \n",
    "        # orientation of the panel (angle between x-axis and panel's normal)\n",
    "        if xb-xa <= 0.:\n",
    "            self.beta = math.acos((yb-ya)/self.length)\n",
    "        elif xb-xa > 0.:\n",
    "            self.beta = math.pi + math.acos(-(yb-ya)/self.length)\n",
    "        \n",
    "        # location of the panel\n",
    "        if self.beta <= math.pi:\n",
    "            self.loc = 'extrados'\n",
    "        else:\n",
    "            self.loc = 'intrados'\n",
    "        \n",
    "        self.sigma = 0.                             # source strength\n",
    "        self.vt = 0.                                # tangential velocity\n",
    "        self.cp = 0.                                # pressure coefficient"
   ]
  },
  {
   "cell_type": "markdown",
   "metadata": {},
   "source": [
    "Like before, we call the function `define_panels()` to discretize the airfoil geometry in `N` panels. The function will return a NumPy array of `N` objects of the type `Panel`."
   ]
  },
  {
   "cell_type": "code",
   "execution_count": 4,
   "metadata": {
    "collapsed": false
   },
   "outputs": [],
   "source": [
    "def define_panels(x, y, N=40):\n",
    "    \"\"\"Discretizes the geometry into panels using 'cosine' method.\n",
    "    \n",
    "    Arguments\n",
    "    ---------\n",
    "    x, y -- Cartesian coordinates of the geometry (1D arrays).\n",
    "    N - number of panels (default 40).\n",
    "    \n",
    "    Returns\n",
    "    -------\n",
    "    panels -- Numpy array of panels.\n",
    "    \"\"\"\n",
    "    R = (x.max()-x.min())/2                                    # radius of the circle\n",
    "    x_center = (x.max()+x.min())/2                             # x-coord of the center\n",
    "    x_circle = x_center + R*numpy.cos(numpy.linspace(0, 2*math.pi, N+1))  # x-coord of the circle points\n",
    "    \n",
    "    x_ends = numpy.copy(x_circle)      # projection of the x-coord on the surface\n",
    "    y_ends = numpy.empty_like(x_ends)  # initialization of the y-coord Numpy array\n",
    "\n",
    "    x, y = numpy.append(x, x[0]), numpy.append(y, y[0])    # extend arrays using numpy.append\n",
    "    \n",
    "    # computes the y-coordinate of end-points\n",
    "    I = 0\n",
    "    for i in range(N):\n",
    "        while I < len(x)-1:\n",
    "            if (x[I] <= x_ends[i] <= x[I+1]) or (x[I+1] <= x_ends[i] <= x[I]):\n",
    "                break\n",
    "            else:\n",
    "                I += 1\n",
    "        a = (y[I+1]-y[I])/(x[I+1]-x[I])\n",
    "        b = y[I+1] - a*x[I+1]\n",
    "        y_ends[i] = a*x_ends[i] + b\n",
    "    y_ends[N] = y_ends[0]\n",
    "    \n",
    "    panels = numpy.empty(N, dtype=object)\n",
    "    for i in range(N):\n",
    "        panels[i] = Panel(x_ends[i], y_ends[i], x_ends[i+1], y_ends[i+1])\n",
    "    \n",
    "    return panels"
   ]
  },
  {
   "cell_type": "markdown",
   "metadata": {},
   "source": [
    "Now we can use our new function to define the geometry for the airfoil panels, and then plot the panel nodes on the geometry."
   ]
  },
  {
   "cell_type": "code",
   "execution_count": 5,
   "metadata": {
    "collapsed": false
   },
   "outputs": [
    {
     "data": {
      "image/png": "[encoded data removed]",
      "text/plain": [
       "<matplotlib.figure.Figure at 0x7f269db75cf8>"
      ]
     },
     "metadata": {},
     "output_type": "display_data"
    }
   ],
   "source": [
    "N = 40                            # number of panels\n",
    "panels = define_panels(x, y, N)  # discretizes of the geometry into panels\n",
    "\n",
    "# plots the geometry and the panels\n",
    "val_x, val_y = 0.1, 0.2\n",
    "x_min, x_max = min( panel.xa for panel in panels ), max( panel.xa for panel in panels )\n",
    "y_min, y_max = min( panel.ya for panel in panels ), max( panel.ya for panel in panels )\n",
    "x_start, x_end = x_min-val_x*(x_max-x_min), x_max+val_x*(x_max-x_min)\n",
    "y_start, y_end = y_min-val_y*(y_max-y_min), y_max+val_y*(y_max-y_min)\n",
    "\n",
    "size = 10\n",
    "pyplot.figure(figsize=(size, (y_end-y_start)/(x_end-x_start)*size))\n",
    "pyplot.grid(True)\n",
    "pyplot.xlabel('x', fontsize=16)\n",
    "pyplot.ylabel('y', fontsize=16)\n",
    "pyplot.xlim(x_start, x_end)\n",
    "pyplot.ylim(y_start, y_end)\n",
    "pyplot.plot(x, y, color='k', linestyle='-', linewidth=2)\n",
    "pyplot.plot(numpy.append([panel.xa for panel in panels], panels[0].xa), \n",
    "         numpy.append([panel.ya for panel in panels], panels[0].ya), \n",
    "         linestyle='-', linewidth=1, marker='o', markersize=6, color='#CD2305');"
   ]
  },
  {
   "cell_type": "markdown",
   "metadata": {},
   "source": [
    "### Free-stream conditions"
   ]
  },
  {
   "cell_type": "markdown",
   "metadata": {},
   "source": [
    "The airfoil is immersed in a free-stream ($U_\\infty$,$\\alpha$) where $U_\\infty$ and $\\alpha$ are the velocity magnitude and angle of attack, respectively. Like before, we create a class for the free stream, even though we will only have one object that uses this class. It makes it easier to pass the free stream to other functions later on."
   ]
  },
  {
   "cell_type": "code",
   "execution_count": 6,
   "metadata": {
    "collapsed": false
   },
   "outputs": [],
   "source": [
    "class Freestream:\n",
    "    \"\"\"Freestream conditions.\"\"\"\n",
    "    def __init__(self, u_inf=1.0, alpha=0.0):\n",
    "        \"\"\"Sets the freestream conditions.\n",
    "        \n",
    "        Arguments\n",
    "        ---------\n",
    "        u_inf -- Farfield speed (default 1.0).\n",
    "        alpha -- Angle of attack in degrees (default 0.0).\n",
    "        \"\"\"\n",
    "        self.u_inf = u_inf\n",
    "        self.alpha = alpha*math.pi/180          # degrees --> radians"
   ]
  },
  {
   "cell_type": "code",
   "execution_count": 7,
   "metadata": {
    "collapsed": false
   },
   "outputs": [],
   "source": [
    "# defines and creates the object freestream\n",
    "u_inf = 1.0                                # freestream spee\n",
    "alpha = 4.0                                # angle of attack (in degrees)\n",
    "freestream = Freestream(u_inf, alpha)      # instantiation of the object freestream"
   ]
  },
  {
   "cell_type": "markdown",
   "metadata": {},
   "source": [
    "### Flow tangency boundary condition"
   ]
  },
  {
   "cell_type": "markdown",
   "metadata": {},
   "source": [
    "A constant vortex strength $\\gamma$ will be added to each panel (all panels have the same, constant vortex-sheet strength). Thus, using the principle of superposition, the velocity potential becomes:\n",
    "\n",
    "$$\n",
    "\\begin{align*}\n",
    "\\phi\\left(x_{c_i},y_{c_i}\\right) &= V_\\infty x_{c_i} \\cos \\alpha + V_\\infty y_{c_i} \\sin \\alpha \\\\\n",
    "&+ \\sum_{j=1}^N \\frac{\\sigma_j}{2\\pi} \\int_j \\ln \\left(\\sqrt{(x_{c_i}-x_j(s_j))^2+(y_{c_i}-y_j(s_j))^2} \\right) {\\rm d}s_j \\\\\n",
    "&- \\sum_{j=1}^N \\frac{\\gamma}{2\\pi} \\int_j \\tan^{-1} \\left(\\frac{y_{c_i}-y_j(s_j)}{x_{c_i}-x_j(s_j)}\\right) {\\rm d}s_j\n",
    "\\end{align*}\n",
    "$$"
   ]
  },
  {
   "cell_type": "markdown",
   "metadata": {},
   "source": [
    "The flow tangency boundary condition is applied at every panel center:\n",
    "\n",
    "$$0 = \\underline{V}\\cdot\\underline{n}_i = \\frac{\\partial}{\\partial n_i} \\left\\{ \\phi\\left(x_{c_i},y_{c_i}\\right) \\right\\}$$\n",
    "\n",
    "i.e.\n",
    "\n",
    "$$\n",
    "\\begin{align*}\n",
    "0 &= V_\\infty \\cos \\left(\\alpha-\\beta_i\\right) + \\frac{\\sigma_i}{2} \\\\\n",
    "&+ \\sum_{j=1,j\\neq i}^N \\frac{\\sigma_j}{2\\pi} \\int_j \\frac{\\partial}{\\partial n_i} \\ln \\left(\\sqrt{(x_{c_i}-x_j(s_j))^2+(y_{c_i}-y_j(s_j))^2} \\right) {\\rm d}s_j \\\\\n",
    "&- \\sum_{j=1,j\\neq i}^N \\frac{\\gamma}{2\\pi} \\int_j \\frac{\\partial}{\\partial n_i} \\tan^{-1} \\left(\\frac{y_{c_i}-y_j(s_j)}{x_{c_i}-x_j(s_j)}\\right) {\\rm d}s_j\n",
    "\\end{align*}\n",
    "$$"
   ]
  },
  {
   "cell_type": "markdown",
   "metadata": {},
   "source": [
    "We already worked the first integral in the previous lesson:\n",
    "\n",
    "$$\\frac{\\partial}{\\partial n_i} \\ln \\left(\\sqrt{(x_{c_i}-x_j(s_j))^2+(y_{c_i}-y_j(s_j))^2} \\right) = \\frac{\\left(x_{c_i}-x_j\\right)\\frac{\\partial x_{c_i}}{\\partial n_i} + \\left(y_{c_i}-y_j\\right)\\frac{\\partial y_{c_i}}{\\partial n_i}}{\\left(x_{c_i}-x_j\\right)^2 + \\left(x_{c_i}-x_j\\right)^2}$$\n",
    "\n",
    "where $\\frac{\\partial x_{c_i}}{\\partial n_i} = \\cos \\beta_i$ and $\\frac{\\partial y_{c_i}}{\\partial n_i} = \\sin \\beta_i$, and:\n",
    "\n",
    "$$x_j(s_j) = x_{b_j} - s_j \\sin \\beta_j$$\n",
    "\n",
    "$$y_j(s_j) = y_{b_j} + s_j \\cos \\beta_j$$\n",
    "\n",
    "We now need to derive the last integral of the boundary equation:\n",
    "\n",
    "$$\\frac{\\partial}{\\partial n_i} \\tan^{-1} \\left(\\frac{y_{c_i}-y_j(s_j)}{x_{c_i}-x_j(s_j)}\\right)= \\frac{\\left(x_{c_i}-x_j\\right)\\frac{\\partial y_{c_i}}{\\partial n_i} - \\left(y_{c_i}-y_j\\right)\\frac{\\partial x_{c_i}}{\\partial n_i}}{\\left(x_{c_i}-x_j\\right)^2 + \\left(y_{c_i}-y_j\\right)^2}$$\n",
    "\n",
    "where $\\frac{\\partial x_{c_i}}{\\partial n_i} = \\cos \\beta_i$ and $\\frac{\\partial y_{c_i}}{\\partial n_i} = \\sin \\beta_i$."
   ]
  },
  {
   "cell_type": "markdown",
   "metadata": {},
   "source": [
    "### Enforcing the Kutta-condition"
   ]
  },
  {
   "cell_type": "markdown",
   "metadata": {},
   "source": [
    "To enforce the *Kutta-condition*, we state that the pressure coefficient on the first panel must be equal to that on the last panel:\n",
    "\n",
    "$$C_{p_1} = C_{p_{N}}$$\n",
    "\n",
    "Using the definition of the pressure coefficient $C_p = 1-\\left(\\frac{V}{U_\\infty}\\right)^2$, the Kutta-condition implies that the magnitude of the velocity at the first panel center must equal the magnitude of the last panel center:\n",
    "\n",
    "$$V_1^2 = V_N^2$$\n",
    "\n",
    "Since the flow tangency condition requires that $V_{n_1} = V_{n_N} = 0$, we end up with the following *Kutta-condition*:\n",
    "\n",
    "$$V_{t_1} = - V_{t_N}$$\n",
    "\n",
    "(the minus sign comes from the reference axis we chose for the normal and tangential vectors).\n"
   ]
  },
  {
   "cell_type": "markdown",
   "metadata": {},
   "source": [
    "Therefore, we need to evaluate the tangential velocity at the first and last panels. \n",
    "\n",
    "In [Lesson 8](http://nbviewer.ipython.org/github/barbagroup/AeroPython/blob/master/lessons/08_Lesson08_sourceSheet.ipynb), we saw that the normal velocity induced by a source sheet panel on itself is $\\frac{\\sigma}{2}$. In a similar fashion, we can show that the tangential velocity induced by a vortex sheet panel on itself is $-\\frac{\\gamma}{2}$.\n",
    "\n",
    "Let's derive the tangential velocity for every panel, since it will be useful to compute the pressure coefficient.\n",
    "\n",
    "$$V_{t_i} = \\frac{\\partial}{\\partial t_i} \\left(\\phi\\left(x_{c_i},y_{c_i}\\right)\\right)$$\n",
    "\n",
    "i.e.,\n",
    "\n",
    "$$\n",
    "\\begin{align*}\n",
    "V_{t_i} &= V_\\infty \\sin \\left(\\alpha-\\beta_i\\right) \\\\\n",
    "&+ \\sum_{j=1,j\\neq i}^N \\frac{\\sigma_j}{2\\pi} \\int_j \\frac{\\partial}{\\partial t_i} \\ln \\left(\\sqrt{(x_{c_i}-x_j(s_j))^2+(y_{c_i}-y_j(s_j))^2} \\right) {\\rm d}s_j \\\\\n",
    "&- \\sum_{j=1,j\\neq i}^N \\frac{\\gamma}{2\\pi} \\int_j \\frac{\\partial}{\\partial t_i} \\tan^{-1} \\left(\\frac{y_{c_i}-y_j(s_j)}{x_{c_i}-x_j(s_j)}\\right) {\\rm d}s_j \\\\\n",
    "&-\\frac{\\gamma}{2}\n",
    "\\end{align*}\n",
    "$$\n",
    "\n",
    "\n",
    "which gives\n",
    "\n",
    "$$\n",
    "\\begin{align*}\n",
    "V_{t_i} &= V_\\infty \\sin \\left(\\alpha-\\beta_i\\right) \\\\\n",
    "&+ \\sum_{j=1,j\\neq i}^N \\frac{\\sigma_j}{2\\pi} \\int_j \\frac{\\left(x_{c_i}-x_j\\right)\\frac{\\partial x_{c_i}}{\\partial t_i} + \\left(y_{c_i}-y_j\\right)\\frac{\\partial y_{c_i}}{\\partial t_i}}{\\left(x_{c_i}-x_j\\right)^2 + \\left(x_{c_i}-x_j\\right)^2} {\\rm d}s_j \\\\\n",
    "&- \\sum_{j=1,j\\neq i}^N \\frac{\\gamma}{2\\pi} \\int_j \\frac{\\left(x_{c_i}-x_j\\right)\\frac{\\partial y_{c_i}}{\\partial t_i} - \\left(y_{c_i}-y_j\\right)\\frac{\\partial x_{c_i}}{\\partial t_i}}{\\left(x_{c_i}-x_j\\right)^2 + \\left(x_{c_i}-x_j\\right)^2} {\\rm d}s_j \\\\\n",
    "&-\\frac{\\gamma}{2}\n",
    "\\end{align*}\n",
    "$$\n",
    "\n",
    "where $\\frac{\\partial x_{c_i}}{\\partial t_i} = -\\sin \\beta_i$ and $\\frac{\\partial y_{c_i}}{\\partial t_i} = \\cos \\beta_i$."
   ]
  },
  {
   "cell_type": "markdown",
   "metadata": {},
   "source": [
    "### Building the linear system"
   ]
  },
  {
   "cell_type": "markdown",
   "metadata": {},
   "source": [
    "Here, we build and solve the linear system of equations of the form\n",
    "\n",
    "$$[A][\\sigma,\\gamma] = [b]$$\n",
    "\n",
    "where the $N+1 \\times N+1$ matrix $[A]$ contains three blocks: an $N \\times N$ source matrix (the same one of Lesson 10), an $N \\times 1$ vortex array to store the weight of the variable $\\gamma$ at each panel, and a $1 \\times N+1$ Kutta array that repesents our Kutta-condition."
   ]
  },
  {
   "cell_type": "markdown",
   "metadata": {},
   "source": [
    "We are going to re-use the function `integral()` from Lesson 10 to compute the different integrals with the NumPy function `integrate.quad()`:"
   ]
  },
  {
   "cell_type": "code",
   "execution_count": 8,
   "metadata": {
    "collapsed": false
   },
   "outputs": [],
   "source": [
    "def integral(x, y, panel, dxdz, dydz):\n",
    "    \"\"\"Evaluates the contribution of a panel at one point.\n",
    "    \n",
    "    Arguments\n",
    "    ---------\n",
    "    x, y -- Cartesian coordinates of the point.\n",
    "    panel -- panel which contribution is evaluated.\n",
    "    dxdz -- derivative of x in the z-direction.\n",
    "    dydz -- derivative of y in the z-direction.\n",
    "    \n",
    "    Returns\n",
    "    -------\n",
    "    Integral over the panel of the influence at one point.\n",
    "    \"\"\"\n",
    "    def func(s):\n",
    "        return ( ((x - (panel.xa - math.sin(panel.beta)*s))*dxdz \n",
    "                  + (y - (panel.ya + math.cos(panel.beta)*s))*dydz)\n",
    "                / ((x - (panel.xa - math.sin(panel.beta)*s))**2 \n",
    "                   + (y - (panel.ya + math.cos(panel.beta)*s))**2) )\n",
    "    return integrate.quad(lambda s:func(s), 0., panel.length)[0]"
   ]
  },
  {
   "cell_type": "markdown",
   "metadata": {},
   "source": [
    "We first build the source matrix:"
   ]
  },
  {
   "cell_type": "code",
   "execution_count": 9,
   "metadata": {
    "collapsed": false
   },
   "outputs": [],
   "source": [
    "def source_matrix(panels):\n",
    "    \"\"\"Builds the source matrix.\n",
    "    \n",
    "    Arguments\n",
    "    ---------\n",
    "    panels -- array of panels.\n",
    "    \n",
    "    Returns\n",
    "    -------\n",
    "    A -- NxN matrix (N is the number of panels).\n",
    "    \"\"\"\n",
    "    A = numpy.empty((panels.size, panels.size), dtype=float)\n",
    "    numpy.fill_diagonal(A, 0.5)\n",
    "    \n",
    "    for i, p_i in enumerate(panels):\n",
    "        for j, p_j in enumerate(panels):\n",
    "            if i != j:\n",
    "                A[i,j] = 0.5/math.pi*integral(p_i.xc, p_i.yc, \n",
    "                                              p_j, \n",
    "                                              math.cos(p_i.beta), math.sin(p_i.beta))\n",
    "    \n",
    "    return A"
   ]
  },
  {
   "cell_type": "markdown",
   "metadata": {},
   "source": [
    "then the vortex array:"
   ]
  },
  {
   "cell_type": "code",
   "execution_count": 10,
   "metadata": {
    "collapsed": false
   },
   "outputs": [],
   "source": [
    "def vortex_array(panels):\n",
    "    \"\"\"Builds the vortex array.\n",
    "    \n",
    "    Arguments\n",
    "    ---------\n",
    "    panels - array of panels.\n",
    "    \n",
    "    Returns\n",
    "    -------\n",
    "    a -- 1D array (Nx1, N is the number of panels).\n",
    "    \"\"\"\n",
    "    a = numpy.zeros(panels.size, dtype=float)\n",
    "    \n",
    "    for i, p_i in enumerate(panels):\n",
    "        for j, p_j in enumerate(panels):\n",
    "            if i != j:\n",
    "                a[i] -= 0.5/math.pi*integral(p_i.xc, p_i.yc, \n",
    "                                             p_j, \n",
    "                                             math.sin(p_i.beta), -math.cos(p_i.beta))\n",
    "    return a"
   ]
  },
  {
   "cell_type": "markdown",
   "metadata": {},
   "source": [
    "and finally the Kutta array:"
   ]
  },
  {
   "cell_type": "code",
   "execution_count": 11,
   "metadata": {
    "collapsed": false
   },
   "outputs": [],
   "source": [
    "def kutta_array(panels):\n",
    "    \"\"\"Builds the Kutta-condition array.\n",
    "    \n",
    "    Arguments\n",
    "    ---------\n",
    "    panels -- array of panels.\n",
    "    \n",
    "    Returns\n",
    "    -------\n",
    "    a -- 1D array (Nx1, N is the number of panels).\n",
    "    \"\"\"\n",
    "    N = panels.size\n",
    "    a = numpy.zeros(N+1, dtype=float)\n",
    "    # contribution from the source sheet of the first panel on the last one\n",
    "    a[0] = 0.5/math.pi*integral(panels[N-1].xc, panels[N-1].yc, panels[0], \n",
    "                           -math.sin(panels[N-1].beta), +math.cos(panels[N-1].beta))\n",
    "    # contribution from the source sheet of the last panel on the first one\n",
    "    a[N-1] = 0.5/math.pi*integral(panels[0].xc, panels[0].yc, panels[N-1], \n",
    "                             -math.sin(panels[0].beta), +math.cos(panels[0].beta))\n",
    "    # contribution from the vortex sheet of the first panel on the last one\n",
    "    a[N] -= 0.5/math.pi*integral(panels[-1].xc, panels[-1].yc, panels[0], \n",
    "                               +math.cos(panels[-1].beta), math.sin(panels[-1].beta))\n",
    "    # contribution from the vortex sheet of the last panel on the first one\n",
    "    a[N] -= 0.5/math.pi*integral(panels[0].xc, panels[0].yc, panels[-1], \n",
    "                               +math.cos(panels[0].beta), math.sin(panels[0].beta))\n",
    "    # contribution from the vortex sheet of the first panel on itself\n",
    "    a[N] -= 0.5\n",
    "    # contribution from the vortex sheet of the last panel on itself\n",
    "    a[N] -= 0.5\n",
    " \n",
    "    # contribution from the other panels on the first and last ones\n",
    "    for i, panel in enumerate(panels[1:-1]):\n",
    "        # contribution from the source sheet\n",
    "        a[i+1] = 0.5/math.pi*(integral(panels[0].xc, panels[0].yc, panel, \n",
    "                               -math.sin(panels[0].beta), +math.cos(panels[0].beta))\n",
    "                     + integral(panels[N-1].xc, panels[N-1].yc, panel, \n",
    "                               -math.sin(panels[N-1].beta), +math.cos(panels[N-1].beta)) )\n",
    "\n",
    "        # contribution from the vortex sheet\n",
    "        a[N] -= 0.5/math.pi*(integral(panels[0].xc, panels[0].yc, panel, \n",
    "                               +math.cos(panels[0].beta), math.sin(panels[0].beta))\n",
    "                             + integral(panels[-1].xc, panels[-1].yc, panel, \n",
    "                               +math.cos(panels[-1].beta), math.sin(panels[-1].beta)) )\n",
    "        \n",
    "    return a"
   ]
  },
  {
   "cell_type": "markdown",
   "metadata": {},
   "source": [
    "Now that the three blocks have be defined, we can assemble the matrix $[A]$:"
   ]
  },
  {
   "cell_type": "code",
   "execution_count": 12,
   "metadata": {
    "collapsed": false
   },
   "outputs": [],
   "source": [
    "def build_matrix(panels):\n",
    "    \"\"\"Builds the matrix of the linear system.\n",
    "    \n",
    "    Arguments\n",
    "    ---------\n",
    "    panels -- array of panels.\n",
    "    \n",
    "    Returns\n",
    "    -------\n",
    "    A -- (N+1)x(N+1) matrix (N is the number of panels).\n",
    "    \"\"\"\n",
    "    N = len(panels)\n",
    "    A = numpy.empty((N+1, N+1), dtype=float)\n",
    "    \n",
    "    AS = source_matrix(panels)\n",
    "    av = vortex_array(panels)\n",
    "    ak = kutta_array(panels)\n",
    "    \n",
    "    A[0:N,0:N], A[0:N,N], A[N,:] = AS[:,:], av[:], ak[:]\n",
    "    \n",
    "    return A"
   ]
  },
  {
   "cell_type": "markdown",
   "metadata": {},
   "source": [
    "On the right hand-side, we store the free-stream conditions that do not depend on the unknowns strengths:"
   ]
  },
  {
   "cell_type": "code",
   "execution_count": 13,
   "metadata": {
    "collapsed": false
   },
   "outputs": [],
   "source": [
    "def build_rhs(panels, freestream):\n",
    "    \"\"\"Builds the RHS of the linear system.\n",
    "    \n",
    "    Arguments\n",
    "    ---------\n",
    "    panels -- array of panels.\n",
    "    freestream -- farfield conditions.\n",
    "    \n",
    "    Returns\n",
    "    -------\n",
    "    b -- 1D array ((N+1)x1, N is the number of panels).\n",
    "    \"\"\"\n",
    "    N = len(panels)\n",
    "    b = numpy.empty(N+1,dtype=float)\n",
    "    \n",
    "    for i, panel in enumerate(panels):\n",
    "        b[i] = - freestream.u_inf * math.cos(freestream.alpha - panel.beta)\n",
    "    b[N] = -freestream.u_inf*( math.sin(freestream.alpha-panels[0].beta)\n",
    "                              +math.sin(freestream.alpha-panels[N-1].beta) )\n",
    "    \n",
    "    return b"
   ]
  },
  {
   "cell_type": "markdown",
   "metadata": {},
   "source": [
    "All in all, the system has been defined with the functions `source_matrix()`, `vortex_array()`, `kutta_array()` and `build_rhs()`, which we have to call to build the complete system:"
   ]
  },
  {
   "cell_type": "code",
   "execution_count": 14,
   "metadata": {
    "collapsed": false
   },
   "outputs": [],
   "source": [
    "A = build_matrix(panels)                  # calculates the singularity matrix\n",
    "b = build_rhs(panels, freestream)         # calculates the freestream RHS"
   ]
  },
  {
   "cell_type": "markdown",
   "metadata": {},
   "source": [
    "The linear system is then solved using the NumPy function `linalg.solve()`and we store the results in the attribute `sigma` of each object. We also create a variable `gamma` to store the value of the constant vortex strength. "
   ]
  },
  {
   "cell_type": "code",
   "execution_count": 15,
   "metadata": {
    "collapsed": false
   },
   "outputs": [],
   "source": [
    "# solves the linear system\n",
    "variables = numpy.linalg.solve(A, b)\n",
    "\n",
    "for i, panel in enumerate(panels):\n",
    "    panel.sigma = variables[i]\n",
    "gamma = variables[-1]"
   ]
  },
  {
   "cell_type": "markdown",
   "metadata": {},
   "source": [
    "### Surface pressure coefficient"
   ]
  },
  {
   "cell_type": "markdown",
   "metadata": {},
   "source": [
    "The pressure coefficient at the $i$-th panel center is:\n",
    "\n",
    "$$C_{p_i} = 1 - \\left(\\frac{V_{t_i}}{U_\\infty}\\right)^2$$\n",
    "\n",
    "So, we have to compute the tangential velocity at each panel center using the function `get_tangential_velocity()`:"
   ]
  },
  {
   "cell_type": "code",
   "execution_count": 16,
   "metadata": {
    "collapsed": false
   },
   "outputs": [],
   "source": [
    "def get_tangential_velocity(panels, freestream, gamma):\n",
    "    \"\"\"Computes the tangential velocity on the surface.\n",
    "    \n",
    "    Arguments\n",
    "    ---------\n",
    "    panels -- array of panels.\n",
    "    freestream -- farfield conditions.\n",
    "    gamma -- circulation density.\n",
    "    \"\"\"\n",
    "    N = len(panels)\n",
    "    A = numpy.empty((N, N+1), dtype=float)\n",
    "    numpy.fill_diagonal(A, 0.0)\n",
    "    \n",
    "    for i, p_i in enumerate(panels):\n",
    "        # contribution from vortex on itself\n",
    "        A[i, N] = -0.5\n",
    "        for j, p_j in enumerate(panels):\n",
    "            if i != j:\n",
    "                # contribution from the sources\n",
    "                A[i,j] = 0.5/math.pi*integral(p_i.xc, p_i.yc, \n",
    "                                              p_j, \n",
    "                                              -math.sin(p_i.beta), math.cos(p_i.beta))\n",
    "                # contribution the vortices\n",
    "                A[i,N] -= 0.5/math.pi*integral(p_i.xc, p_i.yc, \n",
    "                                               p_j, \n",
    "                                               math.cos(p_i.beta), math.sin(p_i.beta))\n",
    "\n",
    "    b = freestream.u_inf * numpy.sin([freestream.alpha - panel.beta for panel in panels])\n",
    "    \n",
    "    var = numpy.append([panel.sigma for panel in panels], gamma)\n",
    "    \n",
    "    vt = numpy.dot(A, var) + b\n",
    "    for i, panel in enumerate(panels):\n",
    "        panel.vt = vt[i]"
   ]
  },
  {
   "cell_type": "code",
   "execution_count": 17,
   "metadata": {
    "collapsed": false
   },
   "outputs": [],
   "source": [
    "# computes the tangential velocity at each panel center.\n",
    "get_tangential_velocity(panels, freestream, gamma)"
   ]
  },
  {
   "cell_type": "markdown",
   "metadata": {},
   "source": [
    "And we define a function `get_pressure_coefficient()` to compute the surface pressure coefficient:"
   ]
  },
  {
   "cell_type": "code",
   "execution_count": 18,
   "metadata": {
    "collapsed": false
   },
   "outputs": [],
   "source": [
    "def get_pressure_coefficient(panels, freestream):\n",
    "    \"\"\"Computes the surface pressure coefficients.\n",
    "    \n",
    "    Arguments\n",
    "    ---------\n",
    "    panels -- array of panels.\n",
    "    freestream -- farfield conditions.\n",
    "    \"\"\"\n",
    "    for panel in panels:\n",
    "        panel.cp = 1.0 - (panel.vt/freestream.u_inf)**2"
   ]
  },
  {
   "cell_type": "code",
   "execution_count": 19,
   "metadata": {
    "collapsed": false
   },
   "outputs": [],
   "source": [
    "# computes surface pressure coefficient\n",
    "get_pressure_coefficient(panels, freestream)"
   ]
  },
  {
   "cell_type": "markdown",
   "metadata": {},
   "source": [
    "Time to plot the result!"
   ]
  },
  {
   "cell_type": "code",
   "execution_count": 20,
   "metadata": {
    "collapsed": false
   },
   "outputs": [
    {
     "data": {
      "image/png": "[encoded data removed]",
      "text/plain": [
       "<matplotlib.figure.Figure at 0x7f269ba06080>"
      ]
     },
     "metadata": {},
     "output_type": "display_data"
    }
   ],
   "source": [
    "# plots the surface pressure coefficient\n",
    "val_x, val_y = 0.1, 0.2\n",
    "x_min, x_max = min( panel.xa for panel in panels ), max( panel.xa for panel in panels )\n",
    "cp_min, cp_max = min( panel.cp for panel in panels ), max( panel.cp for panel in panels )\n",
    "x_start, x_end = x_min-val_x*(x_max-x_min), x_max+val_x*(x_max-x_min)\n",
    "y_start, y_end = cp_min-val_y*(cp_max-cp_min), cp_max+val_y*(cp_max-cp_min)\n",
    "\n",
    "pyplot.figure(figsize=(10, 6))\n",
    "pyplot.grid(True)\n",
    "pyplot.xlabel('x', fontsize=16)\n",
    "pyplot.ylabel('$C_p$', fontsize=16)\n",
    "pyplot.plot([panel.xc for panel in panels if panel.loc == 'extrados'], \n",
    "         [panel.cp for panel in panels if panel.loc == 'extrados'], \n",
    "         color='r', linestyle='-', linewidth=2, marker='o', markersize=6)\n",
    "pyplot.plot([panel.xc for panel in panels if panel.loc == 'intrados'], \n",
    "         [panel.cp for panel in panels if panel.loc == 'intrados'], \n",
    "         color='b', linestyle='-', linewidth=1, marker='o', markersize=6)\n",
    "pyplot.legend(['extrados', 'intrados'], loc='best', prop={'size':14})\n",
    "pyplot.xlim(x_start, x_end)\n",
    "pyplot.ylim(y_start, y_end)\n",
    "pyplot.gca().invert_yaxis()\n",
    "pyplot.title('Number of panels : %d' % N);"
   ]
  },
  {
   "cell_type": "markdown",
   "metadata": {},
   "source": [
    "##### Accuracy check"
   ]
  },
  {
   "cell_type": "markdown",
   "metadata": {},
   "source": [
    "For a closed body, the sum of all the source strengths must be zero. If not, it means the body would be adding or absorbing mass from the flow! Therfore, we should have\n",
    "\n",
    "$$\\sum_{i=1}^{N} \\sigma_i l_i = 0$$\n",
    "\n",
    "where $l_i$ is the length of the $i^{\\text{th}}$ panel.\n",
    "\n",
    "With this, we can get a measure of the accuracy of the source panel method."
   ]
  },
  {
   "cell_type": "code",
   "execution_count": 21,
   "metadata": {
    "collapsed": false
   },
   "outputs": [
    {
     "name": "stdout",
     "output_type": "stream",
     "text": [
      "--> sum of source/sink strengths: 0.00460578431939\n"
     ]
    }
   ],
   "source": [
    "# calculates the accuracy\n",
    "accuracy = sum([panel.sigma*panel.length for panel in panels])\n",
    "print('--> sum of source/sink strengths:', accuracy)"
   ]
  },
  {
   "cell_type": "markdown",
   "metadata": {},
   "source": [
    "### Lift coefficient"
   ]
  },
  {
   "cell_type": "markdown",
   "metadata": {},
   "source": [
    "The lift  is given by the Kutta-Joukowski theorem, $L = \\rho \\Gamma U_\\infty$, \n",
    "where $\\rho$ is the fluid density. The total circulation $\\Gamma$ is given by:\n",
    "\n",
    "$$\\Gamma = \\sum_{i=1}^N \\gamma l_i$$\n",
    "\n",
    "Finally, the lift coefficient is given by:\n",
    "\n",
    "$$C_l = \\frac{\\sum_{i=1}^N \\gamma l_i}{\\frac{1}{2}U_\\infty c}$$\n",
    "\n",
    " with $c$ the chord-length of the airoil"
   ]
  },
  {
   "cell_type": "code",
   "execution_count": 22,
   "metadata": {
    "collapsed": false
   },
   "outputs": [
    {
     "name": "stdout",
     "output_type": "stream",
     "text": [
      "--> Lift coefficient: Cl = 0.506\n"
     ]
    }
   ],
   "source": [
    "# calculates of the lift\n",
    "cl = gamma*sum(panel.length for panel in panels)/(0.5*freestream.u_inf*(x_max-x_min))\n",
    "print('--> Lift coefficient: Cl = %.3f' % cl)"
   ]
  },
  {
   "cell_type": "markdown",
   "metadata": {},
   "source": [
    "##### Challenge task"
   ]
  },
  {
   "cell_type": "markdown",
   "metadata": {},
   "source": [
    "Based on what has been done in the previous notebook, compute and plot the streamlines and the pressure coefficient on a Cartesian grid."
   ]
  },
  {
   "cell_type": "markdown",
   "metadata": {},
   "source": [
    "---"
   ]
  },
  {
   "cell_type": "raw",
   "metadata": {},
   "source": [
    "Please ignore the cell below. It just loads our style for the notebook."
   ]
  },
  {
   "cell_type": "code",
   "execution_count": 23,
   "metadata": {
    "collapsed": false
   },
   "outputs": [
    {
     "data": {
      "text/html": [
       "<link href='http://fonts.googleapis.com/css?family=Fenix' rel='stylesheet' type='text/css'>\n",
       "<link href='http://fonts.googleapis.com/css?family=Alegreya+Sans:100,300,400,500,700,800,900,100italic,300italic,400italic,500italic,700italic,800italic,900italic' rel='stylesheet' type='text/css'>\n",
       "<link href='http://fonts.googleapis.com/css?family=Source+Code+Pro:300,400' rel='stylesheet' type='text/css'>\n",
       "<style>\n",
       "\n",
       "@font-face {\n",
       "    font-family: \"Computer Modern\";\n",
       "    src: url('http://mirrors.ctan.org/fonts/cm-unicode/fonts/otf/cmunss.otf');\n",
       "}\n",
       "\n",
       "\n",
       "#notebook_panel { /* main background */\n",
       "    background: rgb(245,245,245);\n",
       "}\n",
       "\n",
       "div.cell { /* set cell width */\n",
       "    width: 750px;\n",
       "}\n",
       "\n",
       "div #notebook { /* centre the content */\n",
       "    background: #fff; /* white background for content */\n",
       "    width: 1000px;\n",
       "    margin: auto;\n",
       "    padding-left: 0em;\n",
       "}\n",
       "\n",
       "#notebook li { /* More space between bullet points */\n",
       "margin-top:0.8em;\n",
       "}\n",
       "\n",
       "/* draw border around running cells */\n",
       "div.cell.border-box-sizing.code_cell.running { \n",
       "    border: 1px solid #111;\n",
       "}\n",
       "\n",
       "/* Put a solid color box around each cell and its output, visually linking them*/\n",
       "div.cell.code_cell {\n",
       "    background-color: rgb(256,256,256); \n",
       "    border-radius: 0px; \n",
       "    padding: 0.5em;\n",
       "    margin-left:1em;\n",
       "    margin-top: 1em;\n",
       "}\n",
       "\n",
       "\n",
       "div.text_cell_render{\n",
       "    font-family: 'Alegreya Sans' sans-serif;\n",
       "    line-height: 140%;\n",
       "    font-size: 125%;\n",
       "    font-weight: 400;\n",
       "    width:600px;\n",
       "    margin-left:auto;\n",
       "    margin-right:auto;\n",
       "}\n",
       "\n",
       "/* Formatting for header cells */\n",
       ".text_cell_render h1 {\n",
       "    font-family: 'Alegreya Sans', sans-serif;\n",
       "    font-style:regular;\n",
       "    font-weight: 200;    \n",
       "    font-size: 50pt;\n",
       "    line-height: 100%;\n",
       "    color:#CD2305;\n",
       "    margin-bottom: 0.5em;\n",
       "    margin-top: 0.5em;\n",
       "    display: block;\n",
       "}\t\n",
       ".text_cell_render h2 {\n",
       "    font-family: 'Fenix', serif;\n",
       "    font-size: 22pt;\n",
       "    line-height: 100%;\n",
       "    margin-bottom: 0.1em;\n",
       "    margin-top: 0.3em;\n",
       "    display: block;\n",
       "}\t\n",
       "\n",
       ".text_cell_render h3 {\n",
       "    font-family: 'Fenix', serif;\n",
       "    margin-top:12px;\n",
       "\tfont-size: 16pt;\n",
       "    margin-bottom: 3px;\n",
       "    font-style: regular;\n",
       "}\n",
       "\n",
       ".text_cell_render h4 {    /*Use this for captions*/\n",
       "    font-family: 'Fenix', serif;\n",
       "    font-size: 2pt;\n",
       "    text-align: center;\n",
       "    margin-top: 0em;\n",
       "    margin-bottom: 2em;\n",
       "    font-style: regular;\n",
       "}\n",
       "\n",
       ".text_cell_render h5 {  /*Use this for small titles*/\n",
       "    font-family: 'Alegreya Sans', sans-serif;\n",
       "    font-weight: 300;\n",
       "    font-size: 16pt;\n",
       "    color: #CD2305;\n",
       "    font-style: italic;\n",
       "    margin-bottom: .5em;\n",
       "    margin-top: 0.5em;\n",
       "    display: block;\n",
       "}\n",
       "\n",
       ".text_cell_render h6 { /*use this for copyright note*/\n",
       "    font-family: 'Source Code Pro', sans-serif;\n",
       "    font-weight: 300;\n",
       "    font-size: 9pt;\n",
       "    line-height: 100%;\n",
       "    color: grey;\n",
       "    margin-bottom: 1px;\n",
       "    margin-top: 1px;\n",
       "}\n",
       "\n",
       "    .CodeMirror{\n",
       "            font-family: \"Source Code Pro\";\n",
       "\t\t\tfont-size: 90%;\n",
       "    }\n",
       "/*    .prompt{\n",
       "        display: None;\n",
       "    }*/\n",
       "\t\n",
       "    \n",
       "    .warning{\n",
       "        color: rgb( 240, 20, 20 )\n",
       "        }  \n",
       "</style>\n",
       "<script>\n",
       "    MathJax.Hub.Config({\n",
       "                        TeX: {\n",
       "                           extensions: [\"AMSmath.js\"], \n",
       "                           equationNumbers: { autoNumber: \"AMS\", useLabelIds: true}\n",
       "                           },\n",
       "                tex2jax: {\n",
       "                    inlineMath: [ ['$','$'], [\"\\\\(\",\"\\\\)\"] ],\n",
       "                    displayMath: [ ['$$','$$'], [\"\\\\[\",\"\\\\]\"] ]\n",
       "                },\n",
       "                displayAlign: 'center', // Change this to 'center' to center equations.\n",
       "                \"HTML-CSS\": {\n",
       "                    styles: {'.MathJax_Display': {\"margin\": 4}}\n",
       "                }\n",
       "        });\n",
       "</script>\n"
      ],
      "text/plain": [
       "<IPython.core.display.HTML object>"
      ]
     },
     "execution_count": 23,
     "metadata": {},
     "output_type": "execute_result"
    }
   ],
   "source": [
    "from IPython.core.display import HTML\n",
    "def css_styling():\n",
    "    styles = open('../styles/custom.css', 'r').read()\n",
    "    return HTML(styles)\n",
    "css_styling()"
   ]
  }
 ],
 "metadata": {
  "kernelspec": {
   "display_name": "Python 3",
   "language": "python",
   "name": "python3"
  },
  "language_info": {
   "codemirror_mode": {
    "name": "ipython",
    "version": 3
   },
   "file_extension": ".py",
   "mimetype": "text/x-python",
   "name": "python",
   "nbconvert_exporter": "python",
   "pygments_lexer": "ipython3",
   "version": "3.4.4"
  }
 },
 "nbformat": 4,
 "nbformat_minor": 0
}
