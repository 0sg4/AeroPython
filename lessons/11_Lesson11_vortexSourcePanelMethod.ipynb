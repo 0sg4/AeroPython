{
 "metadata": {
  "name": ""
 },
 "nbformat": 3,
 "nbformat_minor": 0,
 "worksheets": [
  {
   "cells": [
    {
     "cell_type": "raw",
     "metadata": {},
     "source": [
      "Content provided under a Creative Commons Attribution license, CC-BY 4.0; code under MIT license. (c)2014 Lorena A. Barba, Olivier Mesnard. Thanks: NSF for support via CAREER award #1149784."
     ]
    },
    {
     "cell_type": "markdown",
     "metadata": {},
     "source": [
      "[@LorenaABarba](https://twitter.com/LorenaABarba)"
     ]
    },
    {
     "cell_type": "heading",
     "level": 5,
     "metadata": {},
     "source": [
      "Version 0.2 -- April 2014"
     ]
    },
    {
     "cell_type": "heading",
     "level": 1,
     "metadata": {},
     "source": [
      "Source-vortex panel method"
     ]
    },
    {
     "cell_type": "markdown",
     "metadata": {},
     "source": [
      "In [Lesson 9](http://nbviewer.ipython.org/urls/github.com/barbagroup/AeroPython/blob/master/lessons/09_Lesson09_flowOverCylinder.ipynb) of _AeroPython_, you learned to use a _source panel method_ to represent a circular cylinder, and in [Lesson 10](http://nbviewer.ipython.org/urls/github.com/barbagroup/AeroPython/blob/master/lessons/10_Lesson10_sourcePanelMethod.ipynb) we used it for a symmetric airfoil at zero angle of attack. But what if we want the airfoil to generate some lift? If we place the airfoil at a non-zero angle of attack, we _should_ get lift, but will a source-panel representation be able to give you lift? Remember the _Kutta-Joukowski theorem_?\n",
      "\n",
      "\n",
      "Historically, the first panel method ever developed was a source-sheet method. At the time, Douglas Aircraft Company was concerned with calculating the flow around bodies of revolution, and it was only later that the method was extended to lifting surfaces. (See the reference below for a nice historical account.)\n",
      "\n",
      "A *source-panel method* leads to a solution with no circulation, therefore no lift. The objective of this lesson is to start with the source panel method we implemented in the previous lesson and add some *circulation* so that we may have a lift force. We introduce an important concept: the *Kutta-condition* that allows us to determine what the right amount of circulation should be.\n",
      "\n",
      "If we simply increase the angle of attack in the freestream and calculate the flow with a source sheet only, the rear stagnation point will not be located at the trailing edge. Instead, the flow will bend around the trailing edge and the stagnation point will be somewhere on the top surface of the airfoil. This is not a physically possible soltution.\n",
      "\n",
      "We know experimentally that the flow leaves the trailing edge of an airfoil smoothly. The *Kutta-condition* states that the pressure below and above the airfoil trailing edge must be equal so that the flow does not bend around it, but leaves tangentially. The rear stagnation point must be exactly at the trailing edge.\n",
      "\n",
      "How do we enforce this in our code? In the previous notebook, we discretized the geometry into `N` panels, with a constant source strength on each one (varying from panel to panel), and applied a Neumann boundary condition of flow tangency at the `N` panel centers. This leads to a linear system of `N` equations and `N` unknowns that we solved with the NumPy function `linalg.solve()`.\n",
      "\n",
      "To implement the Kutta-condition we need to add one more equation to the system: it will give the circulation needed to have the stagnation point at the trailing edge. By placing a vortex-sheet at every panel with constant strength from one panel to another, we will add circulation to the flow with just one more unknown.\n",
      "\n",
      "The new system to be solved will have `N+1` equations and `N+1` unknowns. Here, we are going to re-use most of the code that has been implemented in the last lesson, and enforce the *Kutta-condition* while adding circulation to the flow."
     ]
    },
    {
     "cell_type": "markdown",
     "metadata": {},
     "source": [
      "##### Reference\n",
      "\n",
      "* Smith, A.M.O., The Panel Method: Its Original Development. In _Applied Computational Aerodynamics_, Vol. 125, edited by P.A. Henne, published by AIAA (1990). [Read it on Google Books.](http://books.google.com/books?id=5Ov2tHj0wxoC&lpg=PA3&ots=SnUiqcdEnb&dq=The%20Panel%20Method%3A%20Its%20Original%20Development&pg=PA3#v=onepage&q&f=false)"
     ]
    },
    {
     "cell_type": "markdown",
     "metadata": {},
     "source": [
      "Start by importing our favorite libraries, and the function `integrate` from SciPy, as in Lesson 10."
     ]
    },
    {
     "cell_type": "code",
     "collapsed": false,
     "input": [
      "import numpy as np\n",
      "from scipy import integrate\n",
      "from math import *\n",
      "import matplotlib.pyplot as plt"
     ],
     "language": "python",
     "metadata": {},
     "outputs": [],
     "prompt_number": 1
    },
    {
     "cell_type": "heading",
     "level": 3,
     "metadata": {},
     "source": [
      "Discretization into panels"
     ]
    },
    {
     "cell_type": "markdown",
     "metadata": {},
     "source": [
      "We start by importing the NACA0012 geometry from a data file, and we plot the airfoil:"
     ]
    },
    {
     "cell_type": "code",
     "collapsed": false,
     "input": [
      "# read of the geometry from a data file\n",
      "coords = np.loadtxt(fname='../resources/naca0012.dat')\n",
      "xp,yp = coords[:,0],coords[:,1]\n",
      "\n",
      "# plotting the geometry\n",
      "valX,valY = 0.1,0.2\n",
      "xmin,xmax = min(xp),max(xp)\n",
      "ymin,ymax = min(yp),max(yp)\n",
      "xStart,xEnd = xmin-valX*(xmax-xmin),xmax+valX*(xmax-xmin)\n",
      "yStart,yEnd = ymin-valY*(ymax-ymin),ymax+valY*(ymax-ymin)\n",
      "size = 10\n",
      "plt.figure(figsize=(size,(yEnd-yStart)/(xEnd-xStart)*size))\n",
      "plt.grid(True)\n",
      "plt.xlabel('x',fontsize=16)\n",
      "plt.ylabel('y',fontsize=16)\n",
      "plt.xlim(xStart,xEnd)\n",
      "plt.ylim(yStart,yEnd)\n",
      "plt.plot(xp,yp,'k-',linewidth=2);"
     ],
     "language": "python",
     "metadata": {},
     "outputs": [
      {
       "output_type": "display_data",
       "png": "[encoded data removed]"
      }
     ],
     "prompt_number": 2
    },
    {
     "cell_type": "markdown",
     "metadata": {},
     "source": [
      "The contour defining the object is partitioned into `N` panels, using the same method as in the previous notebook."
     ]
    },
    {
     "cell_type": "markdown",
     "metadata": {},
     "source": [
      "We define a class `Panel`  that will store all information about one panel: start and end points, center point, length, orientation, source strength, tangential velocity and pressure coefficient. We don't save the vortex-sheet strength because all panels will have the same value."
     ]
    },
    {
     "cell_type": "code",
     "collapsed": false,
     "input": [
      "# class Panel containing the info about one panel\n",
      "class Panel:\n",
      "    def __init__(self,xa,ya,xb,yb):\n",
      "        self.xa,self.ya = xa,ya                     # 1st end-point\n",
      "        self.xb,self.yb = xb,yb                     # 2nd end-point\n",
      "        self.xc,self.yc = (xa+xb)/2,(ya+yb)/2       # control point\n",
      "        self.length = sqrt((xb-xa)**2+(yb-ya)**2)   # length of the panel\n",
      "        \n",
      "        # orientation of the panel\n",
      "        if (xb-xa<=0.): self.beta = acos((yb-ya)/self.length)\n",
      "        elif (xb-xa>0.): self.beta = pi+acos(-(yb-ya)/self.length)\n",
      "        \n",
      "        # location of the panel\n",
      "        if (self.beta<=pi): self.loc = 'extrados'\n",
      "        else: self.loc = 'intrados'\n",
      "        \n",
      "        self.sigma = 0.                             # source strength\n",
      "        self.vt = 0.                                # tangential velocity\n",
      "        self.Cp = 0.                                # pressure coefficient"
     ],
     "language": "python",
     "metadata": {},
     "outputs": [],
     "prompt_number": 3
    },
    {
     "cell_type": "markdown",
     "metadata": {},
     "source": [
      "Like before, we call the function `definePanels()` to discretize the airfoil geometry in `N` panels. The function will return a NumPy array of `N` objects of the type `Panel`."
     ]
    },
    {
     "cell_type": "code",
     "collapsed": false,
     "input": [
      "# function to discretize the geometry into panels\n",
      "def definePanels(N,xp,yp):\n",
      "    \n",
      "    R = (max(xp)-min(xp))/2                           #radius of the circle\n",
      "    xCenter = (max(xp)+min(xp))/2                       #x-coord of the center\n",
      "    xCircle = xCenter + R*np.cos(np.linspace(0,2*pi,N+1))  #x-coord of the circle points\n",
      "    \n",
      "    x = np.copy(xCircle) #projection of the x-coord on the surface\n",
      "    y = np.empty_like(x) #initialization of the y-coord Numpy array\n",
      "\n",
      "    xp,yp = np.append(xp,xp[0]),np.append(yp,yp[0])    #extend arrays using np.append\n",
      "    \n",
      "    I = 0\n",
      "    for i in range(N):\n",
      "        while (I<len(xp)-1):\n",
      "            if (xp[I]<=x[i]<=xp[I+1] or xp[I+1]<=x[i]<=xp[I]): break\n",
      "            else: I += 1\n",
      "        a = (yp[I+1]-yp[I])/(xp[I+1]-xp[I])\n",
      "        b = yp[I+1]-a*xp[I+1]\n",
      "        y[i] = a*x[i]+b\n",
      "    y[N] = y[0]\n",
      "    \n",
      "    panel = np.empty(N,dtype=object)\n",
      "    for i in range(N):\n",
      "        panel[i] = Panel(x[i],y[i],x[i+1],y[i+1])\n",
      "    \n",
      "    return panel"
     ],
     "language": "python",
     "metadata": {},
     "outputs": [],
     "prompt_number": 4
    },
    {
     "cell_type": "markdown",
     "metadata": {},
     "source": [
      "Now we can use our function to define the geometry for the airfoil panels, and then plot the panel nodes on the geometry."
     ]
    },
    {
     "cell_type": "code",
     "collapsed": false,
     "input": [
      "N = 20                       # number of panels\n",
      "panel = definePanels(N,xp,yp)  # discretization of the geometry into panels\n",
      "\n",
      "# plotting the geometry with the panels\n",
      "valX,valY = 0.1,0.2\n",
      "xmin,xmax = min([p.xa for p in panel]),max([p.xa for p in panel])\n",
      "ymin,ymax = min([p.ya for p in panel]),max([p.ya for p in panel])\n",
      "xStart,xEnd = xmin-valX*(xmax-xmin),xmax+valX*(xmax-xmin)\n",
      "yStart,yEnd = ymin-valY*(ymax-ymin),ymax+valY*(ymax-ymin)\n",
      "size = 10\n",
      "plt.figure(figsize=(size,(yEnd-yStart)/(xEnd-xStart)*size))\n",
      "plt.grid(True)\n",
      "plt.xlabel('x',fontsize=16)\n",
      "plt.ylabel('y',fontsize=16)\n",
      "plt.xlim(xStart,xEnd)\n",
      "plt.ylim(yStart,yEnd)\n",
      "plt.plot(xp,yp,'k-',linewidth=2)\n",
      "plt.plot(np.append([p.xa for p in panel],panel[0].xa),\\\n",
      "        np.append([p.ya for p in panel],panel[0].ya),\\\n",
      "        linestyle='-',linewidth=1,\\\n",
      "        marker='o',markersize=6,color='#CD2305');"
     ],
     "language": "python",
     "metadata": {},
     "outputs": [
      {
       "output_type": "display_data",
       "png": "[encoded data removed]"
      }
     ],
     "prompt_number": 5
    },
    {
     "cell_type": "heading",
     "level": 3,
     "metadata": {},
     "source": [
      "Free-stream conditions"
     ]
    },
    {
     "cell_type": "markdown",
     "metadata": {},
     "source": [
      "The airfoil is immersed in a free-stream ($U_\\infty$,$\\alpha$) where $U_\\infty$ and $\\alpha$ are the velocity magnitude and angle of attack, respectively. Like before, we create a class for the free stream, even though we will only have one object that uses this class. It makes it easier to pass the free stream to other functions later on."
     ]
    },
    {
     "cell_type": "code",
     "collapsed": false,
     "input": [
      "# class Freestream containing the freestream conditions\n",
      "class Freestream:\n",
      "\tdef __init__(self,Uinf,alpha):\n",
      "\t\tself.Uinf = Uinf                   # velocity magnitude\n",
      "\t\tself.alpha = alpha*pi/180          # angle of attack (degrees --> radians)"
     ],
     "language": "python",
     "metadata": {},
     "outputs": [],
     "prompt_number": 6
    },
    {
     "cell_type": "code",
     "collapsed": false,
     "input": [
      "# definition of the object freestream\n",
      "Uinf = 1.0                               # freestream speed\n",
      "alpha = 1.0                              # angle of attack (in degrees)\n",
      "freestream = Freestream(Uinf,alpha)      # instantiation of the object freestream"
     ],
     "language": "python",
     "metadata": {},
     "outputs": [],
     "prompt_number": 7
    },
    {
     "cell_type": "heading",
     "level": 3,
     "metadata": {},
     "source": [
      "Flow tangency boundary condition"
     ]
    },
    {
     "cell_type": "markdown",
     "metadata": {},
     "source": [
      "A constant vortex strength $\\gamma$ is added to each panel (all panels have the same, constant vortex-sheet strength). Thus, using the principle of superposition, the velocity potential becomes:\n",
      "\n",
      "$$\n",
      "\\begin{align*}\n",
      "\\phi\\left(x_{c_i},y_{c_i}\\right) &= V_\\infty x_{c_i} \\cos \\alpha + V_\\infty y_{c_i} \\sin \\alpha \\\\\n",
      "&+ \\sum_{j=1}^N \\frac{\\sigma_j}{2\\pi} \\int_j \\ln \\left(\\sqrt{(x_{c_i}-x_j(s_j))^2+(y_{c_i}-y_j(s_j))^2} \\right) {\\rm d}s_j \\\\\n",
      "&- \\sum_{j=1}^N \\frac{\\gamma}{2\\pi} \\int_j \\tan^{-1} \\left(\\frac{y_{c_i}-y_j(s_j)}{x_{c_i}-x_j(s_j)}\\right) {\\rm d}s_j\n",
      "\\end{align*}\n",
      "$$"
     ]
    },
    {
     "cell_type": "markdown",
     "metadata": {},
     "source": [
      "The flow tangency boundary condition is applied at every panel center:\n",
      "\n",
      "$$0 = \\underline{V}\\cdot\\underline{n}_i = \\frac{\\partial}{\\partial n_i} \\left\\{ \\phi\\left(x_{c_i},y_{c_i}\\right) \\right\\}$$\n",
      "\n",
      "i.e.\n",
      "\n",
      "$$\n",
      "\\begin{align*}\n",
      "0 &= V_\\infty \\cos \\left(\\alpha-\\beta_i\\right) + \\frac{\\sigma_i}{2} \\\\\n",
      "&+ \\sum_{j=1,j\\neq i}^N \\frac{\\sigma_j}{2\\pi} \\int_j \\frac{\\partial}{\\partial n_i} \\ln \\left(\\sqrt{(x_{c_i}-x_j(s_j))^2+(y_{c_i}-y_j(s_j))^2} \\right) {\\rm d}s_j \\\\\n",
      "&- \\sum_{j=1,j\\neq i}^N \\frac{\\gamma}{2\\pi} \\int_j \\frac{\\partial}{\\partial n_i} \\tan^{-1} \\left(\\frac{y_{c_i}-y_j(s_j)}{x_{c_i}-x_j(s_j)}\\right) {\\rm d}s_j\n",
      "\\end{align*}\n",
      "$$"
     ]
    },
    {
     "cell_type": "markdown",
     "metadata": {},
     "source": [
      "We already worked the first integral in the previous lesson:\n",
      "\n",
      "$$\\frac{\\partial}{\\partial n_i} \\ln \\left(\\sqrt{(x_{c_i}-x_j(s_j))^2+(y_{c_i}-y_j(s_j))^2} \\right) = \\frac{\\left(x_{c_i}-x_j\\right)\\frac{\\partial x_{c_i}}{\\partial n_i} + \\left(y_{c_i}-y_j\\right)\\frac{\\partial y_{c_i}}{\\partial n_i}}{\\left(x_{c_i}-x_j\\right)^2 + \\left(x_{c_i}-x_j\\right)^2}$$\n",
      "\n",
      "where $\\frac{\\partial x_{c_i}}{\\partial n_i} = \\cos \\beta_i$ and $\\frac{\\partial y_{c_i}}{\\partial n_i} = \\sin \\beta_i$, and:\n",
      "\n",
      "$$x_j(s_j) = x_{b_j} - s_j \\sin \\beta_j$$\n",
      "\n",
      "$$y_j(s_j) = y_{b_j} + s_j \\cos \\beta_j$$\n",
      "\n",
      "We now need to derive the last integral of the boundary equation:\n",
      "\n",
      "$$\\frac{\\partial}{\\partial n_i} \\tan^{-1} \\left(\\frac{y_{c_i}-y_j(s_j)}{x_{c_i}-x_j(s_j)}\\right)$$\n",
      "\n",
      "This leads to:\n",
      "\n",
      "$$\\frac{\\partial}{\\partial n_i} \\tan^{-1} \\left(\\frac{y_{c_i}-y_j(s_j)}{x_{c_i}-x_j(s_j)}\\right) = \\frac{\\left(x_{c_i}-x_j\\right)\\frac{\\partial y_{c_i}}{\\partial n_i} - \\left(y_{c_i}-y_j\\right)\\frac{\\partial x_{c_i}}{\\partial n_i}}{\\left(x_{c_i}-x_j\\right)^2 + \\left(x_{c_i}-x_j\\right)^2}$$\n",
      "\n",
      "where $\\frac{\\partial x_{c_i}}{\\partial n_i} = \\cos \\beta_i$ and $\\frac{\\partial y_{c_i}}{\\partial n_i} = \\sin \\beta_i$"
     ]
    },
    {
     "cell_type": "heading",
     "level": 3,
     "metadata": {},
     "source": [
      "Kutta-condition"
     ]
    },
    {
     "cell_type": "markdown",
     "metadata": {},
     "source": [
      "To enforce the *Kutta-condition*, we state that the pressure coefficient on the fisrt panel must be equal to one on the last panel:\n",
      "\n",
      "$$C_{p_1} = C_{p_{N}}$$\n",
      "\n",
      "Using the definition of the pressure coefficient $C_p = 1-\\left(\\frac{V}{U_\\infty}\\right)^2$, the Kutta-condition implies that the magnitude of the velocity at the first panel center must equal the magnitude of the last panel center:\n",
      "\n",
      "$$V_1^2 = V_N^2$$\n",
      "\n",
      "Since the flow tangency condition requires that $V_{n_1} = V_{n_N} = 0$, we end up with the following *Kutta-condition*:\n",
      "\n",
      "$$V_{t_1} = - V_{t_N}$$\n",
      "\n",
      "(the minus sign comes from the reference axis we chose for the normal and tangential vectors).\n"
     ]
    },
    {
     "cell_type": "markdown",
     "metadata": {},
     "source": [
      "Therefore, we need to evaluate the tangential velocity at the first and last panels. lets derive it for every panels, since it will be useful to compute the pressure coefficient.\n",
      "\n",
      "$$V_{t_i} = \\frac{\\partial}{\\partial t_i} \\left(\\phi\\left(x_{c_i},y_{c_i}\\right)\\right)$$\n",
      "\n",
      "i.e.\n",
      "\n",
      "$$V_{t_i} = V_\\infty \\sin \\left(\\alpha-\\beta_i\\right) + \\sum_{j=1,j\\neq i}^N \\frac{\\sigma_j}{2\\pi} \\int_j \\frac{\\partial}{\\partial t_i} \\ln \\left(\\sqrt{(x_{c_i}-x_j(s_j))^2+(y_{c_i}-y_j(s_j))^2} \\right) ds_j - \\sum_{j=1,j\\neq i}^N \\frac{\\gamma}{2\\pi} \\int_j \\frac{\\partial}{\\partial t_i} \\tan^{-1} \\left(\\frac{y_{c_i}-y_j(s_j)}{x_{c_i}-x_j(s_j)}\\right)ds_j$$\n",
      "\n",
      "\n",
      "which gives\n",
      "\n",
      "$$V_{t_i} = V_\\infty \\sin \\left(\\alpha-\\beta_i\\right) + \\sum_{j=1,j\\neq i}^N \\frac{\\sigma_j}{2\\pi} \\int_j \\frac{\\left(x_{c_i}-x_j\\right)\\frac{\\partial x_{c_i}}{\\partial t_i} + \\left(y_{c_i}-y_j\\right)\\frac{\\partial y_{c_i}}{\\partial t_i}}{\\left(x_{c_i}-x_j\\right)^2 + \\left(x_{c_i}-x_j\\right)^2} ds_j - \\sum_{j=1,j\\neq i}^N \\frac{\\gamma}{2\\pi} \\int_j \\frac{\\left(x_{c_i}-x_j\\right)\\frac{\\partial y_{c_i}}{\\partial t_i} - \\left(y_{c_i}-y_j\\right)\\frac{\\partial x_{c_i}}{\\partial t_i}}{\\left(x_{c_i}-x_j\\right)^2 + \\left(x_{c_i}-x_j\\right)^2} ds_j $$\n",
      "\n",
      "where $\\frac{\\partial x_{c_i}}{\\partial t_i} = -\\sin \\beta_i$ and $\\frac{\\partial y_{c_i}}{\\partial t_i} = \\cos \\beta_i$"
     ]
    },
    {
     "cell_type": "heading",
     "level": 3,
     "metadata": {},
     "source": [
      "Building the linear system"
     ]
    },
    {
     "cell_type": "markdown",
     "metadata": {},
     "source": [
      "Here, we build and solve the linear system of equations of the form\n",
      "\n",
      "$$[A][\\sigma,\\gamma] = [b]$$\n",
      "\n",
      "where the $N+1 \\times N+1$ matrix $[A]$ contains three blocks: a $N \\times N$ source matrix (the same one of the last lesson), a $N \\times 1$ vortex array to store the weight of the variable $\\gamma$ at each panel, and a $1 \\times N+1$ Kutta array that repesents our Kutta-condition."
     ]
    },
    {
     "cell_type": "markdown",
     "metadata": {},
     "source": [
      "We are going to re-use the function `I()` to compute the different integrals with the Numpy function `integrate.quad()`:"
     ]
    },
    {
     "cell_type": "code",
     "collapsed": false,
     "input": [
      "# function to evaluate the integral Iij(zi)\n",
      "def I(xci,yci,pj,dxdz,dydz):\n",
      "\tdef func(s):\n",
      "\t\treturn (+(xci-(pj.xa-sin(pj.beta)*s))*dxdz\\\n",
      "\t\t\t\t+(yci-(pj.ya+cos(pj.beta)*s))*dydz)\\\n",
      "\t\t\t   /((xci-(pj.xa-sin(pj.beta)*s))**2\\\n",
      "\t\t\t   + (yci-(pj.ya+cos(pj.beta)*s))**2)\n",
      "\treturn integrate.quad(lambda s:func(s),0.,pj.length)[0]"
     ],
     "language": "python",
     "metadata": {},
     "outputs": [],
     "prompt_number": 8
    },
    {
     "cell_type": "markdown",
     "metadata": {},
     "source": [
      "We first build the source matrix:"
     ]
    },
    {
     "cell_type": "code",
     "collapsed": false,
     "input": [
      "# function to build the source matrix\n",
      "def sourceMatrix(p):\n",
      "\tN = len(p)\n",
      "\tA = np.empty((N,N),dtype=float)\n",
      "\tnp.fill_diagonal(A,0.5)\n",
      "\tfor i in range(N):\n",
      "\t\tfor j in range(N):\n",
      "\t\t\tif (i!=j):\n",
      "\t\t\t\tA[i,j] = 0.5/pi*I(p[i].xc,p[i].yc,p[j],+cos(p[i].beta),+sin(p[i].beta))\n",
      "\treturn A"
     ],
     "language": "python",
     "metadata": {},
     "outputs": [],
     "prompt_number": 9
    },
    {
     "cell_type": "markdown",
     "metadata": {},
     "source": [
      "then the vortex array:"
     ]
    },
    {
     "cell_type": "code",
     "collapsed": false,
     "input": [
      "# function to build the vortex array\n",
      "def vortexArray(p):\n",
      "\tN = len(p)\n",
      "\tB = np.zeros(N,dtype=float)\n",
      "\tfor i in range(N):\n",
      "\t\tfor j in range(N):\n",
      "\t\t\tif (j!=i):\n",
      "\t\t\t\tB[i] -= 0.5/pi*I(p[i].xc,p[i].yc,p[j],+sin(p[i].beta),-cos(p[i].beta))\n",
      "\treturn B"
     ],
     "language": "python",
     "metadata": {},
     "outputs": [],
     "prompt_number": 10
    },
    {
     "cell_type": "markdown",
     "metadata": {},
     "source": [
      "and finally the Kutta array:"
     ]
    },
    {
     "cell_type": "code",
     "collapsed": false,
     "input": [
      "# function to build the Kutta condition array\n",
      "def kuttaArray(p):\n",
      "    N = len(p)\n",
      "    B = np.zeros(N+1,dtype=float)\n",
      "    for j in range(N):\n",
      "        if (j==0):\n",
      "            B[j] = 0.5/pi*I(p[N-1].xc,p[N-1].yc,p[j],-sin(p[N-1].beta),+cos(p[N-1].beta))\n",
      "        elif (j==N-1):\n",
      "            B[j] = 0.5/pi*I(p[0].xc,p[0].yc,p[j],-sin(p[0].beta),+cos(p[0].beta))\n",
      "        else:\n",
      "            B[j] = 0.5/pi*I(p[0].xc,p[0].yc,p[j],-sin(p[0].beta),+cos(p[0].beta))\\\n",
      "                + 0.5/pi*I(p[N-1].xc,p[N-1].yc,p[j],-sin(p[N-1].beta),+cos(p[N-1].beta))\n",
      "            B[N] -= 0.5/pi*I(p[0].xc,p[0].yc,p[j],+cos(p[0].beta),+sin(p[0].beta))\\\n",
      "                + 0.5/pi*I(p[N-1].xc,p[N-1].yc,p[j],+cos(p[N-1].beta),+sin(p[N-1].beta))\n",
      "    return B"
     ],
     "language": "python",
     "metadata": {},
     "outputs": [],
     "prompt_number": 11
    },
    {
     "cell_type": "markdown",
     "metadata": {},
     "source": [
      "Now that the three blocks have be defined, we can assemble the matrix $[A]$:"
     ]
    },
    {
     "cell_type": "code",
     "collapsed": false,
     "input": [
      "# function to assemble the global matrix\n",
      "def buildMatrix(panel):\n",
      "\tN = len(panel)\n",
      "\tA = np.empty((N+1,N+1),dtype=float)\n",
      "\tAS = sourceMatrix(panel)\n",
      "\tBV = vortexArray(panel)\n",
      "\tBK = kuttaArray(panel)\n",
      "\tA[0:N,0:N],A[0:N,N],A[N,:] = AS[:,:],BV[:],BK[:]\n",
      "\treturn A"
     ],
     "language": "python",
     "metadata": {},
     "outputs": [],
     "prompt_number": 12
    },
    {
     "cell_type": "markdown",
     "metadata": {},
     "source": [
      "In the right hand-side, we store the free-stream conditions that do not depend on the unknowns strengths:"
     ]
    },
    {
     "cell_type": "code",
     "collapsed": false,
     "input": [
      "# function to build the right hand-side of the linear system\n",
      "def buildRHS(p,fs):\n",
      "\tN = len(p)\n",
      "\tB = np.zeros(N+1,dtype=float)\n",
      "\tfor i in range(N):\n",
      "\t\tB[i] = -fs.Uinf*cos(fs.alpha-p[i].beta)\n",
      "\tB[N] = -fs.Uinf*(sin(fs.alpha-p[0].beta)+sin(fs.alpha-p[N-1].beta))\n",
      "\treturn B"
     ],
     "language": "python",
     "metadata": {},
     "outputs": [],
     "prompt_number": 13
    },
    {
     "cell_type": "markdown",
     "metadata": {},
     "source": [
      "All, the system has been defined with functions (`sourceMatrix()`, `vortexArray()`, `kuttaArray()` and `buildRHS()`) that we have to call to build the system:"
     ]
    },
    {
     "cell_type": "code",
     "collapsed": false,
     "input": [
      "A = buildMatrix(panel)\t\t\t\t\t# calculate the singularity matrix\n",
      "B = buildRHS(panel,freestream)\t\t\t# calculate the freestream RHS"
     ],
     "language": "python",
     "metadata": {},
     "outputs": [],
     "prompt_number": 14
    },
    {
     "cell_type": "markdown",
     "metadata": {},
     "source": [
      "The linear system is then solved using the Numpy function `linalg.solve()`and we store the results in the attribute `sigma` of each object. We also create a variable `gamma` to store the value of the constant vortex strength. "
     ]
    },
    {
     "cell_type": "code",
     "collapsed": false,
     "input": [
      "# solve the linear system\n",
      "var = np.linalg.solve(A,B)\n",
      "for i in range(len(panel)):\n",
      "\tpanel[i].sigma = var[i]\n",
      "gamma = var[-1]"
     ],
     "language": "python",
     "metadata": {},
     "outputs": [],
     "prompt_number": 15
    },
    {
     "cell_type": "heading",
     "level": 3,
     "metadata": {},
     "source": [
      "Surface pressure coefficient"
     ]
    },
    {
     "cell_type": "markdown",
     "metadata": {},
     "source": [
      "The pressure coefficient at the $i$-th panel center is:\n",
      "\n",
      "$$C_{p_i} = 1 - \\left(\\frac{V_{t_i}}{U_\\infty}\\right)^2$$\n",
      "\n",
      "So, we have to compute the tangential velocity at each panel center using the function `getTangentialVelocity()`:"
     ]
    },
    {
     "cell_type": "code",
     "collapsed": false,
     "input": [
      "# function to calculate the tangential velocity at each control point\n",
      "def getTangentVelocity(p,fs,gamma):\n",
      "\tN = len(p)\n",
      "\tA = np.zeros((N,N+1),dtype=float)\n",
      "\tfor i in range(N):\n",
      "\t\tfor j in range(N):\n",
      "\t\t\tif (i!=j):\n",
      "\t\t\t\tA[i,j] = 0.5/pi*I(p[i].xc,p[i].yc,p[j],-sin(p[i].beta),+cos(p[i].beta))\n",
      "\t\t\t\tA[i,N] -= 0.5/pi*I(p[i].xc,p[i].yc,p[j],+cos(p[i].beta),+sin(p[i].beta))\n",
      "\tB = fs.Uinf*np.sin([fs.alpha-pp.beta for pp in p])\n",
      "\tvar = np.empty(N+1,dtype=float)\n",
      "\tvar = np.append([pp.sigma for pp in p],gamma)\n",
      "\tvt = np.dot(A,var)+B\n",
      "\tfor i in range(N):\n",
      "\t\tp[i].vt = vt[i]"
     ],
     "language": "python",
     "metadata": {},
     "outputs": [],
     "prompt_number": 16
    },
    {
     "cell_type": "code",
     "collapsed": false,
     "input": [
      "getTangentVelocity(panel,freestream,gamma)\t# get tangential velocity"
     ],
     "language": "python",
     "metadata": {},
     "outputs": [],
     "prompt_number": 17
    },
    {
     "cell_type": "code",
     "collapsed": false,
     "input": [
      "# function to calculate the pressure coefficient at each control point\n",
      "def getPressureCoefficient(p,fs):\n",
      "\tfor i in range(len(p)):\n",
      "\t\tp[i].Cp = 1-(p[i].vt/fs.Uinf)**2"
     ],
     "language": "python",
     "metadata": {},
     "outputs": [],
     "prompt_number": 18
    },
    {
     "cell_type": "code",
     "collapsed": false,
     "input": [
      "getPressureCoefficient(panel,freestream)\t# get pressure coefficient"
     ],
     "language": "python",
     "metadata": {},
     "outputs": [],
     "prompt_number": 19
    },
    {
     "cell_type": "code",
     "collapsed": false,
     "input": [
      "# plotting the coefficient of pressure\n",
      "valX,valY = 0.1,0.2\n",
      "xmin,xmax = min([p.xa for p in panel]),max([p.xa for p in panel])\n",
      "Cpmin,Cpmax = min([p.Cp for p in panel]),max([p.Cp for p in panel])\n",
      "xStart,xEnd = xmin-valX*(xmax-xmin),xmax+valX*(xmax-xmin)\n",
      "yStart,yEnd = Cpmin-valY*(Cpmax-Cpmin),Cpmax+valY*(Cpmax-Cpmin)\n",
      "plt.figure(figsize=(10,6))\n",
      "plt.grid(True)\n",
      "plt.xlabel('x',fontsize=16)\n",
      "plt.ylabel('$C_p$',fontsize=16)\n",
      "plt.plot([p.xc for p in panel if p.loc=='extrados'],\\\n",
      "\t\t[p.Cp for p in panel if p.loc=='extrados'],\\\n",
      "\t\t'ro-',linewidth=2)\n",
      "plt.plot([p.xc for p in panel if p.loc=='intrados'],\\\n",
      "\t\t[p.Cp for p in panel if p.loc=='intrados'],\\\n",
      "\t\t'bo-',linewidth=1)\n",
      "plt.legend(['extrados','intrados'],'best',prop={'size':14})\n",
      "plt.xlim(xStart,xEnd)\n",
      "plt.ylim(yStart,yEnd)\n",
      "plt.gca().invert_yaxis()\n",
      "plt.title('Number of panels : %d'%len(panel));"
     ],
     "language": "python",
     "metadata": {},
     "outputs": [
      {
       "output_type": "display_data",
       "png": "[encoded data removed]"
      }
     ],
     "prompt_number": 20
    },
    {
     "cell_type": "heading",
     "level": 5,
     "metadata": {},
     "source": [
      "Accuracy check"
     ]
    },
    {
     "cell_type": "markdown",
     "metadata": {},
     "source": [
      "For a closed body, the sum of all the source strengths must be zero. If not, it means the body would be adding or absorbing mass from the flow! Therfore, we should have\n",
      "\n",
      "$$\\sum_{i=1}^{N} \\sigma_i l_i = 0$$\n",
      "\n",
      "where $l_i$ is the length of the $i^{\\text{th}}$ panel.\n",
      "\n",
      "With this, we can get a measure of the accuracy of the source panel method."
     ]
    },
    {
     "cell_type": "code",
     "collapsed": false,
     "input": [
      "# sum of all source/sink strengths\n",
      "print '--> sum of source/sink strengths:',sum([p.sigma*p.length for p in panel])"
     ],
     "language": "python",
     "metadata": {},
     "outputs": [
      {
       "output_type": "stream",
       "stream": "stdout",
       "text": [
        "--> sum of source/sink strengths: 0.00938742417489\n"
       ]
      }
     ],
     "prompt_number": 21
    },
    {
     "cell_type": "heading",
     "level": 5,
     "metadata": {},
     "source": [
      "Lift coefficient"
     ]
    },
    {
     "cell_type": "markdown",
     "metadata": {},
     "source": [
      "The lift  is given by the Kutta-Joukowski theorem:\n",
      "\n",
      "$$L = \\rho \\Gamma U_\\infty$$\n",
      "\n",
      "where $\\rho$ is the fluid density. The vorticity $\\Gamma$ is given by:\n",
      "\n",
      "$$\\Gamma = \\sum_{i=1}^N \\gamma l_i$$\n",
      "\n",
      "Finally, the lift coefficient is given by:\n",
      "\n",
      "$$C_l = \\frac{\\sum_{i=1}^N \\gamma l_i}{\\frac{1}{2}U_\\infty L}$$\n",
      "\n",
      " with $L$ the chord-length of the airoil"
     ]
    },
    {
     "cell_type": "code",
     "collapsed": false,
     "input": [
      "# calculation of the lift\n",
      "Cl = gamma*sum([p.length for p in panel])/(0.5*freestream.Uinf*(xmax-xmin))\n",
      "print '--> Lift coefficient: Cl =',Cl"
     ],
     "language": "python",
     "metadata": {},
     "outputs": [
      {
       "output_type": "stream",
       "stream": "stdout",
       "text": [
        "--> Lift coefficient: Cl = 0.161238272894\n"
       ]
      }
     ],
     "prompt_number": 22
    },
    {
     "cell_type": "heading",
     "level": 5,
     "metadata": {},
     "source": [
      "Challenge task"
     ]
    },
    {
     "cell_type": "markdown",
     "metadata": {},
     "source": [
      "Based on what has been done in the previous notebook, compute and plot the streamlines and the pressure coefficient on a Cartesian grid."
     ]
    },
    {
     "cell_type": "markdown",
     "metadata": {},
     "source": [
      "---"
     ]
    },
    {
     "cell_type": "code",
     "collapsed": false,
     "input": [
      "from IPython.core.display import HTML\n",
      "def css_styling():\n",
      "    styles = open('../styles/custom.css', 'r').read()\n",
      "    return HTML(styles)\n",
      "css_styling()"
     ],
     "language": "python",
     "metadata": {},
     "outputs": [
      {
       "html": [
        "<link href='http://fonts.googleapis.com/css?family=Fenix' rel='stylesheet' type='text/css'>\n",
        "<link href='http://fonts.googleapis.com/css?family=Alegreya+Sans:100,300,400,500,700,800,900,100italic,300italic,400italic,500italic,700italic,800italic,900italic' rel='stylesheet' type='text/css'>\n",
        "<link href='http://fonts.googleapis.com/css?family=Source+Code+Pro:300,400' rel='stylesheet' type='text/css'>\n",
        "<style>\n",
        "    @font-face {\n",
        "        font-family: \"Computer Modern\";\n",
        "        src: url('http://mirrors.ctan.org/fonts/cm-unicode/fonts/otf/cmunss.otf');\n",
        "    }\n",
        "    div.cell{\n",
        "        width:800px;\n",
        "        margin-left:16% !important;\n",
        "        margin-right:auto;\n",
        "    }\n",
        "    h1 {\n",
        "        font-family: 'Alegreya Sans', sans-serif;\n",
        "    }\n",
        "    h2 {\n",
        "        font-family: 'Fenix', serif;\n",
        "    }\n",
        "    h3{\n",
        "\t\tfont-family: 'Fenix', serif;\n",
        "        margin-top:12px;\n",
        "        margin-bottom: 3px;\n",
        "       }\n",
        "\th4{\n",
        "\t\tfont-family: 'Fenix', serif;\n",
        "       }\n",
        "    h5 {\n",
        "        font-family: 'Alegreya Sans', sans-serif;\n",
        "    }\t   \n",
        "    div.text_cell_render{\n",
        "        font-family: 'Alegreya Sans',Computer Modern, \"Helvetica Neue\", Arial, Helvetica, Geneva, sans-serif;\n",
        "        line-height: 135%;\n",
        "        font-size: 120%;\n",
        "        width:600px;\n",
        "        margin-left:auto;\n",
        "        margin-right:auto;\n",
        "    }\n",
        "    .CodeMirror{\n",
        "            font-family: \"Source Code Pro\";\n",
        "\t\t\tfont-size: 90%;\n",
        "    }\n",
        "/*    .prompt{\n",
        "        display: None;\n",
        "    }*/\n",
        "    .text_cell_render h1 {\n",
        "        font-weight: 200;\n",
        "        font-size: 50pt;\n",
        "\t\tline-height: 100%;\n",
        "        color:#CD2305;\n",
        "        margin-bottom: 0.5em;\n",
        "        margin-top: 0.5em;\n",
        "        display: block;\n",
        "    }\t\n",
        "    .text_cell_render h5 {\n",
        "        font-weight: 300;\n",
        "        font-size: 16pt;\n",
        "        color: #CD2305;\n",
        "        font-style: italic;\n",
        "        margin-bottom: .5em;\n",
        "        margin-top: 0.5em;\n",
        "        display: block;\n",
        "    }\n",
        "    \n",
        "    .warning{\n",
        "        color: rgb( 240, 20, 20 )\n",
        "        }  \n",
        "</style>\n",
        "<script>\n",
        "    MathJax.Hub.Config({\n",
        "                        TeX: {\n",
        "                           extensions: [\"AMSmath.js\"]\n",
        "                           },\n",
        "                tex2jax: {\n",
        "                    inlineMath: [ ['$','$'], [\"\\\\(\",\"\\\\)\"] ],\n",
        "                    displayMath: [ ['$$','$$'], [\"\\\\[\",\"\\\\]\"] ]\n",
        "                },\n",
        "                displayAlign: 'center', // Change this to 'center' to center equations.\n",
        "                \"HTML-CSS\": {\n",
        "                    styles: {'.MathJax_Display': {\"margin\": 4}}\n",
        "                }\n",
        "        });\n",
        "</script>\n"
       ],
       "output_type": "pyout",
       "prompt_number": 23,
       "text": [
        "<IPython.core.display.HTML at 0x2986510>"
       ]
      }
     ],
     "prompt_number": 23
    },
    {
     "cell_type": "code",
     "collapsed": false,
     "input": [],
     "language": "python",
     "metadata": {},
     "outputs": [],
     "prompt_number": 23
    }
   ],
   "metadata": {}
  }
 ]
}