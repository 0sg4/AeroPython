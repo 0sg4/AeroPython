{
 "metadata": {
  "name": "",
  "signature": "sha256:f7fe1ca4984fbffa8849527a60959c5f99d1ff1dec9180893c2626c14ec4522e"
 },
 "nbformat": 3,
 "nbformat_minor": 0,
 "worksheets": [
  {
   "cells": [
    {
     "cell_type": "markdown",
     "metadata": {},
     "source": [
      "The potential at location $(x, y)$ induced by an uniform flow, a source sheet, and a vortex sheet can be represented as"
     ]
    },
    {
     "cell_type": "markdown",
     "metadata": {},
     "source": [
      "\\begin{equation}\n",
      "\\phi(x, y) = \\phi_{uniform\\ flow}(x, y) + \\phi_{source\\ sheet}(x, y) + \\phi_{vortex\\ sheet}(x, y)\n",
      "\\end{equation}"
     ]
    },
    {
     "cell_type": "markdown",
     "metadata": {},
     "source": [
      "That is"
     ]
    },
    {
     "cell_type": "markdown",
     "metadata": {},
     "source": [
      "\\begin{equation}\n",
      "\\phi(x, y) = xU_{\\infty}\\cos(\\alpha) + yU_{\\infty}\\sin(\\alpha)\n",
      "+\n",
      "\\frac{1}{2\\pi} \\int_{sheet} \\sigma(s)\\ln\\left[(x-\\xi(s))^2+(y-\\eta(s))^2\\right]^{\\frac{1}{2}}ds\n",
      "-\n",
      "\\frac{1}{2\\pi} \\int_{sheet} \\gamma(s)\\tan^{-1} \\frac{y-\\eta(s)}{x-\\xi(s)}ds\n",
      "\\end{equation}"
     ]
    },
    {
     "cell_type": "markdown",
     "metadata": {},
     "source": [
      "where $s$ is local coordinate on the sheet, and $\\xi(s)$ and $\\eta(s)$ are coordinate of the infinite source and vortex on the sheet. In the above equation, we assume the source sheet and the vortex sheet overlap."
     ]
    },
    {
     "cell_type": "markdown",
     "metadata": {},
     "source": [
      "------------------------------------------------------"
     ]
    },
    {
     "cell_type": "heading",
     "level": 3,
     "metadata": {},
     "source": [
      "Q1:"
     ]
    },
    {
     "cell_type": "markdown",
     "metadata": {},
     "source": [
      "If we discretize the sheet into $N$ panels, re-write the above equation using discretized integral. Assume $l_j$ represents the length of the panel $j$. And so that\n",
      "\n",
      "\\begin{equation}\n",
      "\\left\\{\n",
      "\\begin{array}{l}\n",
      "\\xi_j(s)=x_j-s\\sin\\beta_j \\\\\n",
      "\\eta_j(s)=y_j+s\\cos\\beta_j\n",
      "\\end{array}\n",
      ",\\ \\ \\ \n",
      "0\\le s \\le l_j\n",
      "\\right.\n",
      "\\end{equation}\n",
      "\n",
      "The following figure shows the panel $j$:\n",
      "\n",
      "(Hint: for example, consider the integral $\\int_0^L f(x) dx$, if we discretize the domain $0~L$ into 3 panels, the integral can be writen as: $\\int_0^L f(x) dx = \\int_0^{L/3} f(x)dx+\\int_{L/3}^{2L/3} f(x)dx+\\int_{2L/3}^{L} f(x)dx = \\sum_{j=1}^3 \\int_{l_j}f(x)dx$.)"
     ]
    },
    {
     "cell_type": "heading",
     "level": 3,
     "metadata": {},
     "source": [
      "ANS:"
     ]
    },
    {
     "cell_type": "markdown",
     "metadata": {},
     "source": [
      "\\begin{equation}\n",
      "\\phi(x, y) = xU_{\\infty}\\cos(\\alpha) + yU_{\\infty}\\sin(\\alpha)\n",
      "+\n",
      "\\frac{1}{2\\pi} \n",
      "\\sum_{j=1}^{N}\n",
      "\\int_{l_j} \\sigma_j(s)\\ln\\left[(x-\\xi_j(s))^2+(y-\\eta_j(s))^2\\right]^{\\frac{1}{2}}ds\n",
      "-\n",
      "\\frac{1}{2\\pi} \n",
      "\\sum_{j=1}^{N}\n",
      "\\int_{l_j} \\gamma_j(s)\\tan^{-1} \\frac{y-\\eta_j(s)}{x-\\xi_j(s)}ds\n",
      "\\end{equation}"
     ]
    },
    {
     "cell_type": "markdown",
     "metadata": {},
     "source": [
      "----------------------------"
     ]
    },
    {
     "cell_type": "markdown",
     "metadata": {},
     "source": [
      "Now let's assume\n",
      "\n",
      "1. $\\sigma_j(s) = constant = \\sigma_j$\n",
      "2. $\\gamma_1(s) = \\gamma_2(s) = ... = \\gamma_N(s) = \\gamma$"
     ]
    },
    {
     "cell_type": "markdown",
     "metadata": {},
     "source": [
      "------------------------------------------------"
     ]
    },
    {
     "cell_type": "heading",
     "level": 3,
     "metadata": {},
     "source": [
      "Q2:"
     ]
    },
    {
     "cell_type": "markdown",
     "metadata": {},
     "source": [
      "Apply the above assumption into the equation of $\\phi(x, y)$ you derived in Q1."
     ]
    },
    {
     "cell_type": "heading",
     "level": 3,
     "metadata": {},
     "source": [
      "ANS:"
     ]
    },
    {
     "cell_type": "markdown",
     "metadata": {},
     "source": [
      "\\begin{equation}\n",
      "\\phi(x, y) = xU_{\\infty}\\cos(\\alpha) + yU_{\\infty}\\sin(\\alpha)\n",
      "+\n",
      "\\frac{1}{2\\pi} \n",
      "\\sum_{j=1}^{N}\n",
      "\\int_{l_j} \\sigma_j\\ln\\left[(x-\\xi_j(s))^2+(y-\\eta_j(s))^2\\right]^{\\frac{1}{2}}ds\n",
      "-\n",
      "\\frac{\\gamma_j}{2\\pi} \n",
      "\\sum_{j=1}^{N}\n",
      "\\int_{l_j} \\tan^{-1} \\frac{y-\\eta_j(s)}{x-\\xi_j(s)}ds\n",
      "\\end{equation}"
     ]
    },
    {
     "cell_type": "markdown",
     "metadata": {},
     "source": [
      "---------------------------"
     ]
    },
    {
     "cell_type": "markdown",
     "metadata": {},
     "source": [
      "The normal velocity $U_n$ can be derived from the chain tule:"
     ]
    },
    {
     "cell_type": "markdown",
     "metadata": {},
     "source": [
      "\\begin{equation}\n",
      "U_n = \\frac{\\partial \\phi}{\\partial \\vec{n}}\n",
      "=\n",
      "\\frac{\\partial \\phi}{\\partial x}\\frac{\\partial x}{\\partial \\vec{n}}\n",
      "+\n",
      "\\frac{\\partial \\phi}{\\partial y}\\frac{\\partial y}{\\partial \\vec{n}}\n",
      "=\n",
      "\\frac{\\partial \\phi}{\\partial x}\\nabla x\\cdot \\vec{n}\n",
      "+\n",
      "\\frac{\\partial \\phi}{\\partial y}\\nabla y\\cdot \\vec{n}\n",
      "=\n",
      "\\frac{\\partial \\phi}{\\partial x}n_x\n",
      "+\n",
      "\\frac{\\partial \\phi}{\\partial y}n_y\n",
      "\\end{equation}"
     ]
    },
    {
     "cell_type": "markdown",
     "metadata": {},
     "source": [
      "The tangential velocity can also be obtained using the same technique. So we can have the normal and tangential velocity at the point $(x, y)$ using:"
     ]
    },
    {
     "cell_type": "markdown",
     "metadata": {},
     "source": [
      "\\begin{equation}\n",
      "\\left\\{\n",
      "\\begin{array}{l}\n",
      "U_n(x, y)=\\frac{\\partial \\phi}{\\partial x}(x, y) n_x(x, y)+\\frac{\\partial \\phi}{\\partial y}(x, y) n_y(x, y) \\\\\n",
      "U_t(x, y)=\\frac{\\partial \\phi}{\\partial x}(x, y) t_x(x, y)+\\frac{\\partial \\phi}{\\partial y}(x, y) t_y(x, y)\n",
      "\\end{array}\n",
      "\\right.\n",
      "\\end{equation}"
     ]
    },
    {
     "cell_type": "markdown",
     "metadata": {},
     "source": [
      "-------------------------------------"
     ]
    },
    {
     "cell_type": "heading",
     "level": 3,
     "metadata": {},
     "source": [
      "Q3:"
     ]
    },
    {
     "cell_type": "markdown",
     "metadata": {},
     "source": [
      "Using the above equation, derive the $U_n(x,y)$ and $U_t(x,y)$ from the equation you obtained from Q2."
     ]
    },
    {
     "cell_type": "heading",
     "level": 3,
     "metadata": {},
     "source": [
      "ANS:"
     ]
    },
    {
     "cell_type": "markdown",
     "metadata": {},
     "source": [
      "\\begin{equation}\n",
      "U_n(x,y)\n",
      "=\n",
      "U_{\\infty}\\cos(\\alpha)t_x + U_{\\infty}\\sin{\\alpha}t_y\n",
      "+\n",
      "\\frac{1}{2\\pi}\n",
      "\\sum_{j=1}^{N}\n",
      "\\int_{l_j} \\sigma_j \\frac{(x-\\xi_j(s))n_x+(y-\\eta(s))n_y}{(x-\\xi_j(s))^2+(y-\\eta(s))^2} ds\n",
      "-\n",
      "\\frac{\\gamma}{2\\pi}\n",
      "\\sum_{j=1}^{N}\n",
      "\\int_{l_j} \\frac{(x-\\xi_j(s))n_y+(y-\\eta(s))(-n_x)}{(x-\\xi_j(s))^2+(y-\\eta(s))^2} ds\n",
      "\\end{equation}\n",
      "\n",
      "\\begin{equation}\n",
      "U_t(x,y)\n",
      "=\n",
      "U_{\\infty}\\cos(\\alpha)t_x + U_{\\infty}\\sin{\\alpha}t_y\n",
      "+\n",
      "\\frac{1}{2\\pi}\n",
      "\\sum_{j=1}^{N}\n",
      "\\int_{l_j} \\sigma_j \\frac{(x-\\xi_j(s))t_x+(y-\\eta(s))t_y}{(x-\\xi_j(s))^2+(y-\\eta(s))^2} ds\n",
      "-\n",
      "\\frac{\\gamma}{2\\pi}\n",
      "\\sum_{j=1}^{N}\n",
      "\\int_{l_j} \\frac{(x-\\xi_j(s))t_y+(y-\\eta(s))(-t_x)}{(x-\\xi_j(s))^2+(y-\\eta(s))^2} ds\n",
      "\\end{equation}"
     ]
    },
    {
     "cell_type": "markdown",
     "metadata": {},
     "source": [
      "-----------------------------------------"
     ]
    },
    {
     "cell_type": "heading",
     "level": 3,
     "metadata": {},
     "source": [
      "Q4:"
     ]
    },
    {
     "cell_type": "markdown",
     "metadata": {},
     "source": [
      "Consider the normal velocity at the center of $i$-th panel, i.e., $(x_{c,i}, y_{c,i})$, after replacing $(x_{c,i}, y_{c,i})$ with $(x, y)$ in the equation you derived in the Q3, we can re-write the equation in matrix form: "
     ]
    },
    {
     "cell_type": "markdown",
     "metadata": {},
     "source": [
      "\\begin{equation}\n",
      "U_n(x_{c,i}, y_{c,i}) = U_{n,i}\n",
      "=\n",
      "b^n_i \n",
      "+ \n",
      "\\left[\\begin{matrix} A^n_{i1} && A^n_{i2} && ... && A^n_{iN}\\end{matrix}\\right]\\left[\\begin{matrix} \\sigma_1 \\\\ \\sigma_2 \\\\ \\vdots \\\\ \\sigma_N \\end{matrix}\\right]\n",
      "+\n",
      "\\left(\\sum_{j=1}^N B^n_{ij}\\right)\\gamma\n",
      "=\n",
      "b^n_i \n",
      "+ \n",
      "\\left[\\begin{matrix} A^n_{i1} && A^n_{i2} && ... && A^n_{iN} && \\left(\\sum_{j=1}^N B^n_{ij}\\right) \\end{matrix}\\right]\\left[\\begin{matrix} \\sigma_1 \\\\ \\sigma_2 \\\\ \\vdots \\\\ \\sigma_N \\\\ \\gamma \\end{matrix}\\right]\n",
      "\\end{equation}"
     ]
    },
    {
     "cell_type": "markdown",
     "metadata": {},
     "source": [
      "\\begin{equation}\n",
      "U_t(x_{c,i}, y_{c,i}) = U_{t,i}\n",
      "=\n",
      "b^t_i \n",
      "+ \n",
      "\\left[\\begin{matrix} A^t_{i1} && A^t_{i2} && ... && A^t_{iN}\\end{matrix}\\right]\\left[\\begin{matrix} \\sigma_1 \\\\ \\sigma_2 \\\\ \\vdots \\\\ \\sigma_N \\end{matrix}\\right]\n",
      "+\n",
      "\\left(\\sum_{j=1}^N B^t_{ij}\\right)\\gamma\n",
      "=\n",
      "b^t_i \n",
      "+ \n",
      "\\left[\\begin{matrix} A^t_{i1} && A^t_{i2} && ... && A^t_{iN} && \\left(\\sum_{j=1}^N B^t_{ij}\\right) \\end{matrix}\\right]\\left[\\begin{matrix} \\sigma_1 \\\\ \\sigma_2 \\\\ \\vdots \\\\ \\sigma_N \\\\ \\gamma \\end{matrix}\\right]\n",
      "\\end{equation}"
     ]
    },
    {
     "cell_type": "markdown",
     "metadata": {},
     "source": [
      "What is the $b^n_i$, $A^n_{ij}$, $B^n_{ij}$, $b^t_i$, $A^t_{ij}$, and $B^t_{ij}$? "
     ]
    },
    {
     "cell_type": "heading",
     "level": 4,
     "metadata": {},
     "source": [
      "ANS:"
     ]
    },
    {
     "cell_type": "markdown",
     "metadata": {},
     "source": [
      "\\begin{equation}\n",
      "\\left\\{\n",
      "\\begin{array}{l}\n",
      "b^n_i = U_{\\infty}\\cos(\\alpha)n_{x,i} + U_{\\infty}\\sin{\\alpha}n_{y,i}\n",
      "\\\\\n",
      "A^n_{ij}=\n",
      "\\frac{1}{2\\pi}\n",
      "\\int_{l_j} \\frac{(x_{c,i}-\\xi_j(s))n_{x,i}+(y_{c,i}-\\eta(s))n_{y,i}}{(x-\\xi_j(s))^2+(y-\\eta(s))^2} ds\n",
      "\\\\\n",
      "B^n_{ij}=\n",
      "-\\frac{1}{2\\pi}\n",
      "\\int_{l_j} \\frac{(x_{c,i}-\\xi_j(s))n_{y,i}+(y_{c,i}-\\eta(s))(-n_{x,i})}{(x-\\xi_j(s))^2+(y-\\eta(s))^2} ds\n",
      "\\end{array}\n",
      "\\right.\n",
      ",\\ and\\ \n",
      "\\left\\{\n",
      "\\begin{array}{l}\n",
      "b^t_i = U_{\\infty}\\cos(\\alpha)t_{x,i} + U_{\\infty}\\sin{\\alpha}t_{y,i}\n",
      "\\\\\n",
      "A^t_{ij}=\n",
      "\\frac{1}{2\\pi}\n",
      "\\int_{l_j} \\frac{(x_{c,i}-\\xi_j(s))t_{x,i}+(y_{c,i}-\\eta(s))t_{y,i}}{(x-\\xi_j(s))^2+(y-\\eta(s))^2} ds\n",
      "\\\\\n",
      "B^n_{ij}=\n",
      "-\\frac{1}{2\\pi}\n",
      "\\int_{l_j} \\frac{(x_{c,i}-\\xi_j(s))t_{y,i}+(y_{c,i}-\\eta(s))(-t_{x,i})}{(x-\\xi_j(s))^2+(y-\\eta(s))^2} ds\n",
      "\\end{array}\n",
      "\\right.\n",
      "\\end{equation}"
     ]
    },
    {
     "cell_type": "markdown",
     "metadata": {},
     "source": [
      "-----------------------"
     ]
    },
    {
     "cell_type": "markdown",
     "metadata": {},
     "source": [
      "Given the fact that (from the Fig. 1) $\\left\\{\\begin{matrix} \\vec{n}_i=n_{x,i}\\vec{i}+n_{y,i}\\vec{j} = \\cos(\\beta_i)\\vec{i}+n_y\\sin(\\beta_i) \\\\ \\vec{t}_i=t_{x,i}\\vec{i}+t_{y,i}\\vec{j} = -\\sin(\\beta_i)\\vec{i}+t_y\\cos(\\beta_i) \\end{matrix}\\right.$, we have\n",
      "\n",
      "\\begin{equation}\n",
      "\\left\\{\n",
      "\\begin{matrix}\n",
      "n_{x,i}=t_{y,i} \\\\\n",
      "n_{y,i}=-t_{x,i}\n",
      "\\end{matrix}\n",
      "\\right.\n",
      ",\\ or\\ \n",
      "\\left\\{\n",
      "\\begin{matrix}\n",
      "t_{x,i}=-n_{y,i} \\\\\n",
      "t_{y,i}=n_{x,i}\n",
      "\\end{matrix}\n",
      "\\right.\n",
      "\\end{equation}"
     ]
    },
    {
     "cell_type": "markdown",
     "metadata": {},
     "source": [
      "-----------------------"
     ]
    },
    {
     "cell_type": "heading",
     "level": 3,
     "metadata": {},
     "source": [
      "Q5:"
     ]
    },
    {
     "cell_type": "markdown",
     "metadata": {},
     "source": [
      "Applying the above relationship between $\\vec{n}_i$ and $\\vec{t}_i$ to the your answer of the Q4, you should find that relationships exist between $B^n_{ij}$ and $A^t_{ij}$ and between $B^t_{ij}$ and $A^n_{ij}$. This means, in your codes, you don't have to actually calculate the $B^n_{ij}$ and $B^t_{ij}$. What are the relationship?"
     ]
    },
    {
     "cell_type": "heading",
     "level": 4,
     "metadata": {},
     "source": [
      "ANS:"
     ]
    },
    {
     "cell_type": "markdown",
     "metadata": {},
     "source": [
      "\\begin{equation}\n",
      "B^n_{ij}=-A^t_{ij}, \\ \\ and\\ B^t_{ij}=A^n_{ij}\n",
      "\\end{equation}"
     ]
    },
    {
     "cell_type": "markdown",
     "metadata": {},
     "source": [
      "-------------------------"
     ]
    },
    {
     "cell_type": "markdown",
     "metadata": {},
     "source": [
      "Now, note that when $i=j$, there is a singular point in the integration domain when calculating $A^n_{ii}$ and $A^t_{ii}$. This singular point occurs when $s=l_i/2$, i.e., $\\xi_i(l_i/2)=x_{c,i}$ and $\\eta_i(l_i/2)=y_{c,i}$. This means we need to calculate $A^n_{ii}$ and $A^t_{ii}$ analytically."
     ]
    },
    {
     "cell_type": "markdown",
     "metadata": {},
     "source": [
      "--------------------------"
     ]
    },
    {
     "cell_type": "heading",
     "level": 3,
     "metadata": {},
     "source": [
      "Q6:"
     ]
    },
    {
     "cell_type": "markdown",
     "metadata": {},
     "source": [
      "What is the exact values of $A^n_{ii}$ and $A^t_{ii}$?"
     ]
    },
    {
     "cell_type": "heading",
     "level": 3,
     "metadata": {},
     "source": [
      "ANS:"
     ]
    },
    {
     "cell_type": "markdown",
     "metadata": {},
     "source": [
      "\\begin{equation}\n",
      "A^n_{ii} = 0.5,\\ \\ and\\ A^t_{ii}=0\n",
      "\\end{equation}"
     ]
    },
    {
     "cell_type": "markdown",
     "metadata": {},
     "source": [
      "------------------------------"
     ]
    },
    {
     "cell_type": "markdown",
     "metadata": {},
     "source": [
      "In our problem, there are $N+1$ unknowns, that is, $\\sigma_1, \\sigma_2, ..., \\sigma_N, \\gamma$. We'll need $N+1$ linear equations to solve the unknowns. The first $N$ linear equations can be obtained from the non-penetration condition on the canter of each panel. That is\n",
      "\n",
      "\\begin{equation}\n",
      "U_{n,i}=0\n",
      "=\n",
      "b^n_i \n",
      "+ \n",
      "\\left[\\begin{matrix} A^n_{i1} && A^n_{i2} && ... && A^n_{iN} && \\left(\\sum_{j=1}^N B^n_{ij}\\right) \\end{matrix}\\right]\\left[\\begin{matrix} \\sigma_1 \\\\ \\sigma_2 \\\\ \\vdots \\\\ \\sigma_N \\\\ \\gamma \\end{matrix}\\right]\n",
      ",\\ \\ for\\  \n",
      "i=1\\sim N\n",
      "\\end{equation}\n",
      "\n",
      "or\n",
      "\n",
      "\\begin{equation}\n",
      "\\left[\\begin{matrix} A^n_{i1} && A^n_{i2} && ... && A^n_{iN} && \\left(\\sum_{j=1}^N B^n_{ij}\\right) \\end{matrix}\\right]\\left[\\begin{matrix} \\sigma_1 \\\\ \\sigma_2 \\\\ \\vdots \\\\ \\sigma_N \\\\ \\gamma \\end{matrix}\\right]\n",
      "=-b^n_i\n",
      ",\\ \\ for\\  \n",
      "i=1\\sim N\n",
      "\\end{equation}"
     ]
    },
    {
     "cell_type": "markdown",
     "metadata": {},
     "source": [
      "For the last equation, we use Kutta-condition to obtain that.\n",
      "\n",
      "\\begin{equation}\n",
      "U_{t,1} = - U_{t_N}\n",
      "\\end{equation}"
     ]
    },
    {
     "cell_type": "markdown",
     "metadata": {},
     "source": [
      "----------------------"
     ]
    },
    {
     "cell_type": "heading",
     "level": 3,
     "metadata": {},
     "source": [
      "Q7:"
     ]
    },
    {
     "cell_type": "markdown",
     "metadata": {},
     "source": [
      "Apply the matrix form of the $U_{t,i}$ and $U_{t,N}$ to the Kutta-condition and obtain the last linear equation. Re-arrange the equation so that unknowns are always on the LHS while the knowns on LHS."
     ]
    },
    {
     "cell_type": "heading",
     "level": 3,
     "metadata": {},
     "source": [
      "ANS:"
     ]
    },
    {
     "cell_type": "markdown",
     "metadata": {},
     "source": [
      "\\begin{equation}\n",
      "\\left[\n",
      "\\begin{matrix}\n",
      "\\left( A^t_{11}+A^t_{N1} \\right) &&\n",
      "\\left( A^t_{12}+A^t_{N2} \\right) &&\n",
      "... &&\n",
      "\\left( A^t_{1N}+A^t_{NN} \\right) &&\n",
      "\\sum_{j=1}^N \\left( B^t_{1j}+B^t_{Nj}  \\right)\n",
      "\\end{matrix}\n",
      "\\right]\n",
      "\\left[\n",
      "\\begin{matrix}\n",
      "\\sigma_1 \\\\\n",
      "\\sigma_2 \\\\\n",
      "\\vdots \\\\\n",
      "\\sigma_N \\\\\n",
      "\\gamma\n",
      "\\end{matrix}\n",
      "\\right]\n",
      "=\n",
      "- \\left( b^t_N + b^t_1 \\right)\n",
      "\\end{equation}"
     ]
    },
    {
     "cell_type": "markdown",
     "metadata": {},
     "source": [
      "---------------------"
     ]
    },
    {
     "cell_type": "heading",
     "level": 3,
     "metadata": {},
     "source": [
      "Q8:"
     ]
    },
    {
     "cell_type": "markdown",
     "metadata": {},
     "source": [
      "Now you have $N+1$ linear equations and can solve the $N+1$ unknowns. Try to combine the first $N$ linear equations and the last one (i.e. the Kutta-condition) in the Q7 and obtain the matrix form of the whole system of linear equations."
     ]
    },
    {
     "cell_type": "heading",
     "level": 3,
     "metadata": {},
     "source": [
      "ANS:"
     ]
    },
    {
     "cell_type": "markdown",
     "metadata": {},
     "source": [
      "\\begin{equation}\n",
      "\\left[\n",
      "\\begin{matrix}\n",
      "A^n_{11} && A^n_{12} && \\cdots && A^n_{1N} && \\sum_{j=1}^N B^n_{1j} \\\\\n",
      "\\vdots && && && && \\vdots \\\\\n",
      "A^n_{N1} && A^n_{N2} && \\cdots && A^n_{NN} && \\sum_{j=1}^N B^n_{Nj} \\\\\n",
      "\\left( A^t_{11}+A^t_{N1} \\right) &&\n",
      "\\left( A^t_{12}+A^t_{N2} \\right) &&\n",
      "... &&\n",
      "\\left( A^t_{1N}+A^t_{NN} \\right) &&\n",
      "\\sum_{j=1}^N \\left( B^t_{1j}+B^t_{Nj}  \\right)\n",
      "\\end{matrix}\n",
      "\\right]\n",
      "\\left[\n",
      "\\begin{matrix}\n",
      "\\sigma_1 \\\\\n",
      "\\sigma_2 \\\\\n",
      "\\vdots \\\\\n",
      "\\sigma_N \\\\\n",
      "\\gamma\n",
      "\\end{matrix}\n",
      "\\right]\n",
      "=\n",
      "\\left[\n",
      "\\begin{matrix}\n",
      "-b^n_1 \\\\\n",
      "-b^n_2 \\\\\n",
      "\\vdots \\\\\n",
      "-b^n_N \\\\\n",
      "- \\left( b^t_N + b^t_1 \\right)\n",
      "\\end{matrix}\n",
      "\\right]\n",
      "\\end{equation}"
     ]
    },
    {
     "cell_type": "markdown",
     "metadata": {},
     "source": [
      "----------------------------"
     ]
    },
    {
     "cell_type": "markdown",
     "metadata": {},
     "source": [
      "Now try to solve the unknowns! This is the vortex-source panel method."
     ]
    }
   ],
   "metadata": {}
  }
 ]
}