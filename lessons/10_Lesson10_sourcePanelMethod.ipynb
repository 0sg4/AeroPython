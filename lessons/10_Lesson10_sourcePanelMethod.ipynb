{
 "metadata": {
  "name": ""
 },
 "nbformat": 3,
 "nbformat_minor": 0,
 "worksheets": [
  {
   "cells": [
    {
     "cell_type": "raw",
     "metadata": {},
     "source": [
      "Content provided under a Creative Commons Attribution license, CC-BY 4.0; code under MIT license. (c)2014 Lorena A. Barba, Olivier Mesnard. Thanks: NSF for support via CAREER award #1149784."
     ]
    },
    {
     "cell_type": "markdown",
     "metadata": {},
     "source": [
      "[@LorenaABarba](https://twitter.com/LorenaABarba)"
     ]
    },
    {
     "cell_type": "heading",
     "level": 5,
     "metadata": {},
     "source": [
      "Version 0.2 -- March 2014"
     ]
    },
    {
     "cell_type": "heading",
     "level": 1,
     "metadata": {},
     "source": [
      "Source panel method"
     ]
    },
    {
     "cell_type": "markdown",
     "metadata": {},
     "source": [
      "We are now getting close to the finish line with *AeroPython*! Our first few lessons introduced the fundamental flow solutions of potential flow, and we quickly learned that using our superposition powers we could get some useful results in aerodynamics. \n",
      "\n",
      "The superposition of a [doublet](http://nbviewer.ipython.org/urls/github.com/barbagroup/AeroPython/blob/master/lessons/03_Lesson03_doublet.ipynb) and a free stream gave the flow around a circular cylinder, and we learned about the *D'Alembert paradox*: the result of zero drag for potential flow around a cylinder. Adding a [vortex](http://nbviewer.ipython.org/urls/github.com/barbagroup/AeroPython/blob/master/lessons/06_Lesson06_vortexLift.ipynb) at the center of the cylinder, we learned about lift and the *Kutta-Joukowski theorem* stating that lift is proporional to circulation: $L=\\rho U \\Gamma$. A most important result!\n",
      "\n",
      "Adding together fundamental solutions of potential flow and seeing what we get when interpreting a dividing streamline as a solid body is often called an *indirect method*. This method goes all the way back to Rankine in 1871! But its applicability is limited because we can't stipulate a geometry and find the flow associated to it.\n",
      "\n",
      "In [Lesson 9](http://nbviewer.ipython.org/urls/github.com/barbagroup/AeroPython/blob/master/lessons/09_Lesson09_flowOverCylinder.ipynb), we learned that it is possible to stipulate first the geometry, and then solve for the source strengths on a panel discretization of the body that makes the flow tangent at the boundary. This is called a *direct method* and it took off in the 1960s at Douglas Aircraft Company.\n",
      "\n",
      "A set of panels can represent the surface of any solid body immersed in a potential flow by making the source-sheet strengths such that the normal velocity at each panel is equal to zero. This is a very powerful idea! But you should realize that all the panel strengths are coupled to each other, which is why we end up with a linear system of equations.\n",
      "\n",
      "For an arbitrary geometry, we need to build a set of panels according to some points that define  the geometry. In this lesson, we will read from a file a geometry definition corresponding to a NACA0012 airfoil, create a set of panels, and solve for the source-sheet strengths to get flow around the airfoil.\n",
      "\n",
      "First, load our favorite Python libraries, and the `integrate` module from SciPy:"
     ]
    },
    {
     "cell_type": "code",
     "collapsed": false,
     "input": [
      "import numpy as np\n",
      "import matplotlib.pyplot as plt\n",
      "from scipy import integrate\n",
      "from math import *"
     ],
     "language": "python",
     "metadata": {},
     "outputs": [],
     "prompt_number": 7
    },
    {
     "cell_type": "markdown",
     "metadata": {},
     "source": [
      "Next, we create a function that reads the body geometry from a file, in this case a `.dat` file that we are providing in the `resources` folder. This file comes from the [Airfoil Tools](http://airfoiltools.com/airfoil/details?airfoil=n0012-il) website and it contains a set of coordinates for the standard NACA0012 symmetric profile.\n",
      "\n",
      "The geometry points are saved in two NumPy arrays, `xp,yp`. The subsequent code will plot the geometry of the airfoil."
     ]
    },
    {
     "cell_type": "code",
     "collapsed": false,
     "input": [
      "# read of the geometry from a data file\n",
      "coords = np.loadtxt(fname='../resources/naca0012.dat')\n",
      "xp,yp = coords[:,0],coords[:,1]\n",
      "\n",
      "# plotting the geometry\n",
      "%matplotlib inline\n",
      "\n",
      "valX,valY = 0.1,0.2\n",
      "xmin,xmax = min(xp),max(xp)\n",
      "ymin,ymax = min(yp),max(yp)\n",
      "xStart,xEnd = xmin-valX*(xmax-xmin),xmax+valX*(xmax-xmin)\n",
      "yStart,yEnd = ymin-valY*(ymax-ymin),ymax+valY*(ymax-ymin)\n",
      "size = 10\n",
      "plt.figure(figsize=(size,(yEnd-yStart)/(xEnd-xStart)*size))\n",
      "plt.grid(True)\n",
      "plt.xlabel('x',fontsize=16)\n",
      "plt.ylabel('y',fontsize=16)\n",
      "plt.xlim(xStart,xEnd)\n",
      "plt.ylim(yStart,yEnd)\n",
      "plt.plot(xp,yp,'k-',linewidth=2);"
     ],
     "language": "python",
     "metadata": {},
     "outputs": [
      {
       "metadata": {},
       "output_type": "display_data",
       "png": "[encoded data removed]",
       "text": [
        "<matplotlib.figure.Figure at 0x1082c9490>"
       ]
      }
     ],
     "prompt_number": 37
    },
    {
     "cell_type": "markdown",
     "metadata": {},
     "source": [
      "We can modify the `Panel` class from our previous notebook slightly, to work better with an airfoil. The only difference is that we identify points on the top or bottom surfaces with the keywords `extrados` and `intrados`, which is only used later for plotting results with different colors for the top and bottom surfaces of the profile."
     ]
    },
    {
     "cell_type": "code",
     "collapsed": false,
     "input": [
      "# class Panel containing the info about one panel\n",
      "class Panel:\n",
      "    def __init__(self,xa,ya,xb,yb):\n",
      "        self.xa,self.ya = xa,ya                     # 1st end-point\n",
      "        self.xb,self.yb = xb,yb                     # 2nd end-point\n",
      "        self.xc,self.yc = (xa+xb)/2,(ya+yb)/2       # control point\n",
      "        self.length = sqrt((xb-xa)**2+(yb-ya)**2)   # length of the panel\n",
      "        \n",
      "        # orientation of the panel\n",
      "        if (xb-xa<=0.): self.beta = acos((yb-ya)/self.length)\n",
      "        elif (xb-xa>0.): self.beta = pi+acos(-(yb-ya)/self.length)\n",
      "        \n",
      "        # location of the panel\n",
      "        if (self.beta<=pi): self.loc = 'extrados'\n",
      "        else: self.loc = 'intrados'\n",
      "        \n",
      "        self.sigma = 0.                             # source strength\n",
      "        self.vt = 0.                                # tangential velocity\n",
      "        self.Cp = 0.                                # pressure coefficient"
     ],
     "language": "python",
     "metadata": {},
     "outputs": [],
     "prompt_number": 10
    },
    {
     "cell_type": "markdown",
     "metadata": {},
     "source": [
      "For the circular cylinder, the discretization into panels was really easy. This is the part that gets more complicated when you want to compute the flow around a general geometry, while the solution part is effectively the same as in Lesson 9.\n",
      "\n",
      "The following function creates the panels from the geometry data that was read from a file."
     ]
    },
    {
     "cell_type": "code",
     "collapsed": false,
     "input": [
      "# function to descretize the geometry into panels\n",
      "def definePanels(N,xp,yp):\n",
      "    Np = len(xp)\n",
      "    length = sum(np.sqrt((xp[1:Np]-xp[0:Np-1])**2+(yp[1:Np]-yp[0:Np-1])**2))\n",
      "    length += sqrt((xp[0]-xp[Np-1])**2+(yp[0]-yp[Np-1])**2)\n",
      "    lc = length/N\n",
      "    \n",
      "    x,y = np.empty(N,dtype=float),np.empty(N,dtype=float)\n",
      "    x[0],y[0] = xp[0],yp[0]\n",
      "    i = 0\n",
      "    for j in range(N-1):\n",
      "        xStart,yStart = x[j],y[j]\n",
      "        xEnd,yEnd = xp[i+1],yp[i+1]\n",
      "        d = sqrt((xStart-xEnd)**2+(yStart-yEnd)**2)\n",
      "        if (d>=lc): d = 0\n",
      "        elif (d<lc):\n",
      "            while (i<Np-1):\n",
      "                i += 1\n",
      "                xStart,yStart = xEnd,yEnd\n",
      "                if (i<Np-2): xEnd,yEnd = xp[i+1],yp[i+1]\n",
      "                else: xEnd,yEnd = xp[0],yp[0]\n",
      "                dd = sqrt((xStart-xEnd)**2+(yStart-yEnd)**2)\n",
      "                if (d+dd<lc): d += dd\n",
      "                else: break\n",
      "        x[j+1] = xStart+(lc-d)/sqrt((xEnd-xStart)**2+(yEnd-yStart)**2)*(xEnd-xStart)\n",
      "        y[j+1] = yStart+(lc-d)/sqrt((xEnd-xStart)**2+(yEnd-yStart)**2)*(yEnd-yStart)\n",
      "                \n",
      "    panel = np.empty(N,dtype=object)\n",
      "    for i in range(N-1):\n",
      "        panel[i] = Panel(x[i],y[i],x[i+1],y[i+1])\n",
      "    panel[N-1] = Panel(x[N-1],y[N-1],x[0],y[0])\n",
      "    \n",
      "    return panel"
     ],
     "language": "python",
     "metadata": {},
     "outputs": [],
     "prompt_number": 11
    },
    {
     "cell_type": "code",
     "collapsed": false,
     "input": [
      "N = 100                        # number of panels\n",
      "panel = definePanels(N,xp,yp)  # discretization of the geometry into panels\n",
      "\n",
      "# plotting the geometry with the panels\n",
      "valX,valY = 0.1,0.2\n",
      "xmin,xmax = min([p.xa for p in panel]),max([p.xa for p in panel])\n",
      "ymin,ymax = min([p.ya for p in panel]),max([p.ya for p in panel])\n",
      "xStart,xEnd = xmin-valX*(xmax-xmin),xmax+valX*(xmax-xmin)\n",
      "yStart,yEnd = ymin-valY*(ymax-ymin),ymax+valY*(ymax-ymin)\n",
      "size = 10\n",
      "plt.figure(figsize=(size,(yEnd-yStart)/(xEnd-xStart)*size))\n",
      "plt.grid(True)\n",
      "plt.xlabel('x',fontsize=16)\n",
      "plt.ylabel('y',fontsize=16)\n",
      "plt.xlim(xStart,xEnd)\n",
      "plt.ylim(yStart,yEnd)\n",
      "plt.plot(xp,yp,'k-',linewidth=2)\n",
      "plt.plot(np.append([p.xa for p in panel],panel[0].xa),\\\n",
      "        np.append([p.ya for p in panel],panel[0].ya),\\\n",
      "        linestyle='-',linewidth=1,\\\n",
      "        marker='o',markersize=6,color='#CD2305');"
     ],
     "language": "python",
     "metadata": {},
     "outputs": [
      {
       "metadata": {},
       "output_type": "display_data",
       "png": "[encoded data removed]",
       "text": [
        "<matplotlib.figure.Figure at 0x106b77090>"
       ]
      }
     ],
     "prompt_number": 39
    },
    {
     "cell_type": "markdown",
     "metadata": {},
     "source": [
      "Even though it may seem like overkill to create a class for the freestream, we'll do it anyway. Later on you'll see why ..."
     ]
    },
    {
     "cell_type": "code",
     "collapsed": false,
     "input": [
      "# class Freestream containing the freestream conditions\n",
      "class Freestream:\n",
      "\tdef __init__(self,Uinf,alpha):\n",
      "\t\tself.Uinf = Uinf                   # velocity magnitude\n",
      "\t\tself.alpha = alpha*pi/180          # angle of attack (degrees --> radians)"
     ],
     "language": "python",
     "metadata": {},
     "outputs": [],
     "prompt_number": 18
    },
    {
     "cell_type": "code",
     "collapsed": false,
     "input": [
      "# definition of the object freestream\n",
      "Uinf = 1.0                               # freestream speed\n",
      "alpha = 5.0                              # angle of attack (in degrees)\n",
      "freestream = Freestream(Uinf,alpha)      # instantiation of the object freestream"
     ],
     "language": "python",
     "metadata": {},
     "outputs": [],
     "prompt_number": 19
    },
    {
     "cell_type": "markdown",
     "metadata": {},
     "source": [
      "This function is similar to one used in [Lesson 9](http://nbviewer.ipython.org/github/barbagroup/AeroPython/blob/master/lessons/09_Lesson09_flowOverCylinder.ipynb) to obtain the integrals along each panel, but we've generalized the function to both calculate the derivative in the tangential or in the normal direction, depending on the values given to the parameters `dxdz` and `dydz`. It can also calculate the integral in the $x$ or $y$ direction. The function is also more general in the sense of allowing any evaluation point, not just a control point on a panel."
     ]
    },
    {
     "cell_type": "code",
     "collapsed": false,
     "input": [
      "# function to evaluate the integral Iij(zi)\n",
      "def I(xci,yci,pj,dxdz,dydz):\n",
      "\tdef func(s):\n",
      "\t\treturn (+(xci-(pj.xa-sin(pj.beta)*s))*dxdz\\\n",
      "\t\t\t\t+(yci-(pj.ya+cos(pj.beta)*s))*dydz)\\\n",
      "\t\t\t   /((xci-(pj.xa-sin(pj.beta)*s))**2\\\n",
      "\t\t\t   + (yci-(pj.ya+cos(pj.beta)*s))**2)\n",
      "\treturn integrate.quad(lambda s:func(s),0.,pj.length)[0]"
     ],
     "language": "python",
     "metadata": {},
     "outputs": [],
     "prompt_number": 20
    },
    {
     "cell_type": "markdown",
     "metadata": {},
     "source": [
      "In building the matrix, below, we call the `I()` function with the correct values for the last parameters: $\\cos \\beta_i$ and $\\sin\\beta_i$."
     ]
    },
    {
     "cell_type": "code",
     "collapsed": false,
     "input": [
      "# function to build the source matrix\n",
      "def buildMatrix(p):\n",
      "\tN = len(p)\n",
      "\tA = np.empty((N,N),dtype=float)\n",
      "\tnp.fill_diagonal(A,0.5)\n",
      "\tfor i in range(N):\n",
      "\t\tfor j in range(N):\n",
      "\t\t\tif (i!=j):\n",
      "\t\t\t\tA[i,j] = 0.5/pi*I(p[i].xc,p[i].yc,p[j],cos(p[i].beta),sin(p[i].beta))\n",
      "\treturn A\n",
      "\n",
      "# function to build the right hand-side of the linear system\n",
      "def buildRHS(p,fs):\n",
      "\tN = len(p)\n",
      "\tB = np.zeros(N,dtype=float)\n",
      "\tfor i in range(N):\n",
      "\t\tB[i] = -fs.Uinf*cos(fs.alpha-p[i].beta)\n",
      "\treturn B"
     ],
     "language": "python",
     "metadata": {},
     "outputs": [],
     "prompt_number": 21
    },
    {
     "cell_type": "code",
     "collapsed": false,
     "input": [
      "A = buildMatrix(panel)\t\t\t\t\t# calculate the singularity matrix\n",
      "B = buildRHS(panel,freestream)\t\t\t# calculate the freestream RHS"
     ],
     "language": "python",
     "metadata": {},
     "outputs": [],
     "prompt_number": 22
    },
    {
     "cell_type": "code",
     "collapsed": false,
     "input": [
      "# solve the linear system\n",
      "var = np.linalg.solve(A,B)\n",
      "for i in range(len(panel)):\n",
      "\tpanel[i].sigma = var[i]"
     ],
     "language": "python",
     "metadata": {},
     "outputs": [],
     "prompt_number": 23
    },
    {
     "cell_type": "markdown",
     "metadata": {},
     "source": [
      "Notice that below we call the function `I()` with different arguments: $-\\sin\\beta_i$ and $\\cos\\beta_i$."
     ]
    },
    {
     "cell_type": "code",
     "collapsed": false,
     "input": [
      "# function to calculate the tangential velocity at each control point\n",
      "def getTangentVelocity(p,fs,gamma):\n",
      "\tN = len(p)\n",
      "\tA = np.zeros((N,N),dtype=float)\n",
      "\tfor i in range(N):\n",
      "\t\tfor j in range(N):\n",
      "\t\t\tif (i!=j):\n",
      "\t\t\t\tA[i,j] = 0.5/pi*I(p[i].xc,p[i].yc,p[j],-sin(p[i].beta),cos(p[i].beta))\n",
      "\tB = fs.Uinf*np.sin([fs.alpha-pp.beta for pp in p])\n",
      "\tvar = np.array([pp.sigma for pp in p])\n",
      "\tvt = np.dot(A,var)+B\n",
      "\tfor i in range(N):\n",
      "\t\tp[i].vt = vt[i]"
     ],
     "language": "python",
     "metadata": {},
     "outputs": [],
     "prompt_number": 24
    },
    {
     "cell_type": "code",
     "collapsed": false,
     "input": [
      "getTangentVelocity(panel,freestream,gamma)\t# get tangential velocity"
     ],
     "language": "python",
     "metadata": {},
     "outputs": [],
     "prompt_number": 25
    },
    {
     "cell_type": "code",
     "collapsed": false,
     "input": [
      "# function to calculate the pressure coefficient at each control point\n",
      "def getPressureCoefficient(p,fs):\n",
      "\tfor i in range(len(p)):\n",
      "\t\tp[i].Cp = 1-(p[i].vt/fs.Uinf)**2"
     ],
     "language": "python",
     "metadata": {},
     "outputs": [],
     "prompt_number": 26
    },
    {
     "cell_type": "code",
     "collapsed": false,
     "input": [
      "getPressureCoefficient(panel,freestream)\t# get pressure coefficient"
     ],
     "language": "python",
     "metadata": {},
     "outputs": [],
     "prompt_number": 27
    },
    {
     "cell_type": "code",
     "collapsed": false,
     "input": [
      "# plotting the coefficient of pressure\n",
      "valX,valY = 0.1,0.2\n",
      "xmin,xmax = min([p.xa for p in panel]),max([p.xa for p in panel])\n",
      "Cpmin,Cpmax = min([p.Cp for p in panel]),max([p.Cp for p in panel])\n",
      "xStart,xEnd = xmin-valX*(xmax-xmin),xmax+valX*(xmax-xmin)\n",
      "yStart,yEnd = Cpmin-valY*(Cpmax-Cpmin),Cpmax+valY*(Cpmax-Cpmin)\n",
      "plt.figure(figsize=(10,6))\n",
      "plt.grid(True)\n",
      "plt.xlabel('x',fontsize=16)\n",
      "plt.ylabel('$C_p$',fontsize=16)\n",
      "plt.plot([p.xc for p in panel if p.loc=='extrados'],\\\n",
      "\t\t[p.Cp for p in panel if p.loc=='extrados'],\\\n",
      "\t\t'ro-',linewidth=2)\n",
      "plt.plot([p.xc for p in panel if p.loc=='intrados'],\\\n",
      "\t\t[p.Cp for p in panel if p.loc=='intrados'],\\\n",
      "\t\t'bo-',linewidth=1)\n",
      "plt.legend(['extrados','intrados'],'best',prop={'size':14})\n",
      "plt.xlim(xStart,xEnd)\n",
      "plt.ylim(yStart,yEnd)\n",
      "plt.title('Number of panels : %d'%len(panel))\n",
      "print min([p.Cp for p in panel])"
     ],
     "language": "python",
     "metadata": {},
     "outputs": [
      {
       "output_type": "stream",
       "stream": "stdout",
       "text": [
        "-1.61064917572\n"
       ]
      },
      {
       "metadata": {},
       "output_type": "display_data",
       "png": "[encoded data removed]",
       "text": [
        "<matplotlib.figure.Figure at 0x10649a110>"
       ]
      }
     ],
     "prompt_number": 28
    },
    {
     "cell_type": "markdown",
     "metadata": {},
     "source": [
      "A measure of the accuracy of the panel method calculation is the sum of all strengths (EXPLAIN MORE)."
     ]
    },
    {
     "cell_type": "code",
     "collapsed": false,
     "input": [
      "# sum of all source/sink strengths\n",
      "print '--> sum of source/sink strengths:',sum([p.sigma*p.length for p in panel])"
     ],
     "language": "python",
     "metadata": {},
     "outputs": [
      {
       "output_type": "stream",
       "stream": "stdout",
       "text": [
        "--> sum of source/sink strengths: 0.0\n"
       ]
      }
     ],
     "prompt_number": 40
    },
    {
     "cell_type": "markdown",
     "metadata": {},
     "source": [
      "Notice that here we call the funcion `I()` with $1,0$ as the final arguments when calculating the derivatives in the $x$-direction, and $0,1$ for the derivatives in th $y$-direction."
     ]
    },
    {
     "cell_type": "code",
     "collapsed": false,
     "input": [
      "# function to calculate the velocity field given a mesh grid\n",
      "def getVelocityField(panel,freestream,gamma,X,Y):\n",
      "    Nx,Ny = X.shape\n",
      "    u,v = np.empty((Nx,Ny),dtype=float),np.empty((Nx,Ny),dtype=float)\n",
      "    for i in range(Nx):\n",
      "        for j in range(Ny):\n",
      "            u[i,j] = freestream.Uinf*cos(freestream.alpha)\\\n",
      "\t\t\t\t+ 0.5/pi*sum([p.sigma*I(X[i,j],Y[i,j],p,1,0) for p in panel])\n",
      "            v[i,j] = freestream.Uinf*sin(freestream.alpha)\\\n",
      "\t\t\t\t+ 0.5/pi*sum([p.sigma*I(X[i,j],Y[i,j],p,0,1) for p in panel])\n",
      "    return u,v"
     ],
     "language": "python",
     "metadata": {},
     "outputs": [],
     "prompt_number": 30
    },
    {
     "cell_type": "code",
     "collapsed": false,
     "input": [
      "# definition of the mesh grid\n",
      "Nx,Ny = 20,20\n",
      "valX,valY = 1.0,2.0\n",
      "xmin,xmax = min([p.xa for p in panel]),max([p.xa for p in panel])\n",
      "ymin,ymax = min([p.ya for p in panel]),max([p.ya for p in panel])\n",
      "xStart,xEnd = xmin-valX*(xmax-xmin),xmax+valX*(xmax-xmin)\n",
      "yStart,yEnd = ymin-valY*(ymax-ymin),ymax+valY*(ymax-ymin)\n",
      "X,Y = np.meshgrid(np.linspace(xStart,xEnd,Nx),np.linspace(yStart,yEnd,Ny))\n",
      "\n",
      "# get the velicity field on the mesh grid\n",
      "u,v = getVelocityField(panel,freestream,gamma,X,Y)"
     ],
     "language": "python",
     "metadata": {},
     "outputs": [],
     "prompt_number": 31
    },
    {
     "cell_type": "code",
     "collapsed": false,
     "input": [
      "# plotting the velocity field\n",
      "size=12\n",
      "plt.figure(figsize=(size,(yEnd-yStart)/(xEnd-xStart)*size))\n",
      "plt.xlabel('x',fontsize=16)\n",
      "plt.ylabel('y',fontsize=16)\n",
      "plt.streamplot(X,Y,u,v,density=1,linewidth=1,arrowsize=1,arrowstyle='->')\n",
      "plt.fill([p.xa for p in panel],[p.ya for p in panel],'ko-',linewidth=2,zorder=2)\n",
      "plt.xlim(xStart,xEnd)\n",
      "plt.ylim(yStart,yEnd)\n",
      "plt.title('Contour of velocity field');"
     ],
     "language": "python",
     "metadata": {},
     "outputs": [
      {
       "metadata": {},
       "output_type": "display_data",
       "png": "[encoded data removed]",
       "text": [
        "<matplotlib.figure.Figure at 0x1087c5150>"
       ]
      }
     ],
     "prompt_number": 43
    },
    {
     "cell_type": "code",
     "collapsed": false,
     "input": [
      "# computing the pressure field\n",
      "Cp = 1.0-(u**2+v**2)/freestream.Uinf**2\n",
      "\n",
      "# plotting the pressure field\n",
      "size=12\n",
      "plt.figure(figsize=(1.1*size,(yEnd-yStart)/(xEnd-xStart)*size))\n",
      "plt.xlabel('x',fontsize=16)\n",
      "plt.ylabel('y',fontsize=16)\n",
      "contf = plt.contourf(X,Y,Cp,levels=np.linspace(-2.0,1.0,100),extend='both')\n",
      "cbar = plt.colorbar(contf)\n",
      "cbar.set_label('$C_p$',fontsize=16)\n",
      "cbar.set_ticks([-2.0,-1.0,0.0,1.0])\n",
      "plt.fill([p.xc for p in panel],[p.yc for p in panel],'ko-',linewidth=2,zorder=2)\n",
      "plt.xlim(xStart,xEnd)\n",
      "plt.ylim(yStart,yEnd)\n",
      "plt.title('Contour of pressure field');"
     ],
     "language": "python",
     "metadata": {},
     "outputs": [
      {
       "metadata": {},
       "output_type": "display_data",
       "png": "[encoded data removed]",
       "text": [
        "<matplotlib.figure.Figure at 0x108ecb6d0>"
       ]
      }
     ],
     "prompt_number": 44
    },
    {
     "cell_type": "markdown",
     "metadata": {},
     "source": [
      "---"
     ]
    },
    {
     "cell_type": "code",
     "collapsed": false,
     "input": [
      "from IPython.core.display import HTML\n",
      "def css_styling():\n",
      "    styles = open('../styles/custom.css', 'r').read()\n",
      "    return HTML(styles)\n",
      "css_styling()"
     ],
     "language": "python",
     "metadata": {},
     "outputs": [
      {
       "html": [
        "<link href='http://fonts.googleapis.com/css?family=Fenix' rel='stylesheet' type='text/css'>\n",
        "<link href='http://fonts.googleapis.com/css?family=Alegreya+Sans:100,300,400,500,700,800,900,100italic,300italic,400italic,500italic,700italic,800italic,900italic' rel='stylesheet' type='text/css'>\n",
        "<link href='http://fonts.googleapis.com/css?family=Source+Code+Pro:300,400' rel='stylesheet' type='text/css'>\n",
        "<style>\n",
        "    @font-face {\n",
        "        font-family: \"Computer Modern\";\n",
        "        src: url('http://mirrors.ctan.org/fonts/cm-unicode/fonts/otf/cmunss.otf');\n",
        "    }\n",
        "    div.cell{\n",
        "        width:800px;\n",
        "        margin-left:16% !important;\n",
        "        margin-right:auto;\n",
        "    }\n",
        "    h1 {\n",
        "        font-family: 'Alegreya Sans', sans-serif;\n",
        "    }\n",
        "    h2 {\n",
        "        font-family: 'Fenix', serif;\n",
        "    }\n",
        "    h3{\n",
        "\t\tfont-family: 'Fenix', serif;\n",
        "        margin-top:12px;\n",
        "        margin-bottom: 3px;\n",
        "       }\n",
        "\th4{\n",
        "\t\tfont-family: 'Fenix', serif;\n",
        "       }\n",
        "    h5 {\n",
        "        font-family: 'Alegreya Sans', sans-serif;\n",
        "    }\t   \n",
        "    div.text_cell_render{\n",
        "        font-family: 'Alegreya Sans',Computer Modern, \"Helvetica Neue\", Arial, Helvetica, Geneva, sans-serif;\n",
        "        line-height: 135%;\n",
        "        font-size: 120%;\n",
        "        width:600px;\n",
        "        margin-left:auto;\n",
        "        margin-right:auto;\n",
        "    }\n",
        "    .CodeMirror{\n",
        "            font-family: \"Source Code Pro\";\n",
        "\t\t\tfont-size: 90%;\n",
        "    }\n",
        "/*    .prompt{\n",
        "        display: None;\n",
        "    }*/\n",
        "    .text_cell_render h1 {\n",
        "        font-weight: 200;\n",
        "        font-size: 50pt;\n",
        "\t\tline-height: 100%;\n",
        "        color:#CD2305;\n",
        "        margin-bottom: 0.5em;\n",
        "        margin-top: 0.5em;\n",
        "        display: block;\n",
        "    }\t\n",
        "    .text_cell_render h5 {\n",
        "        font-weight: 300;\n",
        "        font-size: 16pt;\n",
        "        color: #CD2305;\n",
        "        font-style: italic;\n",
        "        margin-bottom: .5em;\n",
        "        margin-top: 0.5em;\n",
        "        display: block;\n",
        "    }\n",
        "    \n",
        "    .warning{\n",
        "        color: rgb( 240, 20, 20 )\n",
        "        }  \n",
        "</style>\n",
        "<script>\n",
        "    MathJax.Hub.Config({\n",
        "                        TeX: {\n",
        "                           extensions: [\"AMSmath.js\"]\n",
        "                           },\n",
        "                tex2jax: {\n",
        "                    inlineMath: [ ['$','$'], [\"\\\\(\",\"\\\\)\"] ],\n",
        "                    displayMath: [ ['$$','$$'], [\"\\\\[\",\"\\\\]\"] ]\n",
        "                },\n",
        "                displayAlign: 'center', // Change this to 'center' to center equations.\n",
        "                \"HTML-CSS\": {\n",
        "                    styles: {'.MathJax_Display': {\"margin\": 4}}\n",
        "                }\n",
        "        });\n",
        "</script>\n"
       ],
       "output_type": "pyout",
       "prompt_number": 23,
       "text": [
        "<IPython.core.display.HTML at 0x36bc790>"
       ]
      }
     ],
     "prompt_number": 23
    }
   ],
   "metadata": {}
  }
 ]
}