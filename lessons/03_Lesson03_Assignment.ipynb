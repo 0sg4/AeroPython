{
 "metadata": {
  "name": "",
  "signature": "sha256:05acd59764046a0d25eb054be8af7eb72d67a76dfd8af5e6b512c3b30fee3a20"
 },
 "nbformat": 3,
 "nbformat_minor": 0,
 "worksheets": [
  {
   "cells": [
    {
     "cell_type": "heading",
     "level": 6,
     "metadata": {},
     "source": [
      "Text provided under a Creative Commons Attribution license, CC-BY. Code under MIT license. (c)2014 Lorena A. Barba, Pi-Yueh Chuang. Thanks: NSF for support via CAREER award #1149784."
     ]
    },
    {
     "cell_type": "heading",
     "level": 1,
     "metadata": {},
     "source": [
      "Source Distribution on an Airfoil"
     ]
    },
    {
     "cell_type": "heading",
     "level": 2,
     "metadata": {},
     "source": [
      "Problem Setup"
     ]
    },
    {
     "cell_type": "markdown",
     "metadata": {},
     "source": [
      "You will read data files containing information about the location and the strength of a set of sources located on the surface of a NACA0012 airfoil. There are three data files: NACA0012_x.txt, NACA0012_y.txt, and NACA0012_sigma.txt. To load each file into a NumPy array, you need the function [`numpy.loadtxt`](http://docs.scipy.org/doc/numpy/reference/generated/numpy.loadtxt.html)."
     ]
    },
    {
     "cell_type": "markdown",
     "metadata": {},
     "source": [
      "Using 51 mesh points in each direction, and a domain $[-1, 2]\\times[-0.5, 0.5]$, compute the velocity due to the set of sources plus a free stream with $U_{\\infty}=1$. Also compute the coefficient of pressure on your grid points."
     ]
    },
    {
     "cell_type": "heading",
     "level": 2,
     "metadata": {},
     "source": [
      "Questions:"
     ]
    },
    {
     "cell_type": "markdown",
     "metadata": {},
     "source": [
      "1. What is the value of maximum pressure coefficient, $C_p$?\n",
      "2. What are the array indices for the maximum value of $C_p$?\n",
      "\n",
      "Make the following plots to visualize and inspect the resulting flow pattern:\n",
      "\n",
      "* Stream lines in the domain and the profile of our NACA0012 airfoil, in one plot\n",
      "* Distribution of the pressure coefficient and a single marker on the location of the maximum pressure"
     ]
    },
    {
     "cell_type": "markdown",
     "metadata": {},
     "source": [
      "**Hint**: You might use the following NumPy functions: [`numpy.unravel_index`](http://docs.scipy.org/doc/numpy/reference/generated/numpy.unravel_index.html) and [`numpy.argmax`](http://docs.scipy.org/doc/numpy/reference/generated/numpy.argmax.html)"
     ]
    },
    {
     "cell_type": "heading",
     "level": 5,
     "metadata": {},
     "source": [
      "Think"
     ]
    },
    {
     "cell_type": "markdown",
     "metadata": {},
     "source": [
      "1. "
     ]
    },
    {
     "cell_type": "code",
     "collapsed": false,
     "input": [
      "from IPython.core.display import HTML\n",
      "def css_styling():\n",
      "    styles = open('../styles/custom.css', 'r').read()\n",
      "    return HTML(styles)\n",
      "css_styling()"
     ],
     "language": "python",
     "metadata": {},
     "outputs": []
    }
   ],
   "metadata": {}
  }
 ]
}