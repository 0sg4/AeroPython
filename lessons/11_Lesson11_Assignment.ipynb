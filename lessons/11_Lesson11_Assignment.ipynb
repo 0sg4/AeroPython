{
 "metadata": {
  "name": "",
  "signature": "sha256:6f1c99fdc15cd3486cf4ea1535c2c5da447b0061026e2659cfb1d486009e8790"
 },
 "nbformat": 3,
 "nbformat_minor": 0,
 "worksheets": [
  {
   "cells": [
    {
     "cell_type": "heading",
     "level": 6,
     "metadata": {},
     "source": [
      "Content under Creative Commons Attribution license CC-BY 4.0, code under MIT license (c)2015 L.A. Barba, Pi-Yueh Chuang."
     ]
    },
    {
     "cell_type": "heading",
     "level": 1,
     "metadata": {},
     "source": [
      "2D Multi-element airfoil"
     ]
    },
    {
     "cell_type": "markdown",
     "metadata": {},
     "source": [
      "This is your [_AeroPython_](https://github.com/barbagroup/AeroPython) assignment for the third and fourth course modules, titled **\"Source-panel method for non-lifting bodies\"** and **\"Vortex-panel method for lifting bodies.\"**"
     ]
    },
    {
     "cell_type": "heading",
     "level": 2,
     "metadata": {},
     "source": [
      "Problem Discription"
     ]
    },
    {
     "cell_type": "markdown",
     "metadata": {},
     "source": [
      "In this assignment, you are asked to calculate the pressure coefficient on a multi-element airfoil. This airfoil comes from *An Exact Test Case for the Plane Potential Flow About Two Adjacent Lifting Aerofoils* by B. R. Williams (1973).You have to extend the 2D vortex-source panel method and the codes you learned in the Lesson 11.\n",
      "\n",
      "Profile of the airfoil looks like this:\n",
      "<center> <img src=\"resources/MultiElementAirfoil.png\"> </center>\n",
      "\n",
      "The csv files describing the x and y coordinates of end nodes of each panel are in the \"resources\" directory. These files are named as \"MainFoil_N=XXX.csv\" and \"FlapFoil_N=XXX.csv\", where XXX represents the number of elements. You can use fewer panels for debugging when developing your codes and use more panels for more serious calculation when answering the questions in this assignment.\n",
      "\n",
      "There are also two files named \"Cp_Main_theoretical.csv\" and \"Cp_Flap_theoretical.csv\" containing the throretical values of pressure coefficient versus x-coordinates.\n",
      "\n",
      "The theoretical total lift and drag coefficient for ppotential flow over this airfoil with zero angle of attack are $3.7386$ and $0$. \n",
      "\n",
      "The key concept for the vortex-source panel method for multi-element airfoil are\n",
      "\n",
      "1. each airfoil has its own vortex strength, and\n",
      "2. the trailing edge at each airfoil must follow the Kutta condition."
     ]
    },
    {
     "cell_type": "heading",
     "level": 2,
     "metadata": {},
     "source": [
      "Hints"
     ]
    },
    {
     "cell_type": "markdown",
     "metadata": {},
     "source": [
      "Recall the [exercise in Lesson 11](http://nbviewer.ipython.org/github/barbagroup/AeroPython/blob/master/lessons/11_Lesson11_Exercise.ipynb), which asks you to derive mathematics of the vortex-source panel method. Now for the 2-element arifoil, you derive the all required mathematics, following the same logic in the exercise, starting from\n",
      "\n",
      "$$\n",
      "\\begin{split}\n",
      "\\phi(x, y) &= U_{\\infty}x\\cos\\alpha + U_{\\infty}y\\sin\\alpha \\\\\n",
      "& + \\int_{main\\ foil} \\frac{1}{2\\pi} \\sigma(s) ln \\sqrt{(x-\\xi(s))^2+(y-\\eta(s))^2} ds  \\\\\n",
      "& + \\int_{flpa\\ foil} \\frac{1}{2\\pi} \\sigma(s) ln \\sqrt{(x-\\xi(s))^2+(y-\\eta(s))^2} ds \\\\\n",
      "& + \\int_{main\\ foil} \\frac{1}{2\\pi} \\gamma(s) \\tan^{-1} \\frac{y-\\eta(s)}{\\xi-\\xi(s)} ds  \\\\\n",
      "& + \\int_{flap\\ foil} \\frac{1}{2\\pi} \\gamma(s) \\tan^{-1} \\frac{y-\\eta(s)}{\\xi-\\xi(s)} ds\n",
      "\\end{split}\n",
      "$$\n",
      "\n",
      "Assume\n",
      "\n",
      "1. $\\sigma(s)$ is constant on each panel, \n",
      "2. $\\gamma(s)$ is constant on each airfoil, and\n",
      "3. $1$th~$N_a$th and $(N_a+1)$th ~ $N$th panels (where $N=N_a+N+b$) are on the main and flap airfoils repectively.\n",
      "\n",
      "There are $N+2$ unknowns, that is, $\\sigma_1\\cdots\\sigma_N$, $gamma_a$, and $\\gamma-b$. The $gamma_a$, and $\\gamma-b$ represent the vortex strengths on the main and flap airfoils respectively.\n",
      "\n",
      "You should be able to obtain the following matrix forms of normal and tangential velocity on $i$th panel:\n",
      "\n",
      "$$\n",
      "U^n_i = b^n_i + \n",
      "\\left[\\begin{smallmatrix}A^n_{i1}\\cdots A^n_{iN}\\end{smallmatrix}, \\sum_{j=1}^{N_a}B^n_{ij}, \\sum_{j=N_a+1}^{N}B^n_{ij}\\right]\n",
      "\\left[\\begin{smallmatrix}\\sigma_1 \\\\ \\vdots \\\\ \\sigma_N \\\\ \\gamma_a \\\\ \\gamma_b\\end{smallmatrix}\\right]\n",
      "$$\n",
      "\n",
      "$$\n",
      "U^t_i = b^t_i + \n",
      "\\left[\\begin{smallmatrix}A^t_{i1}\\cdots A^t_{iN}\\end{smallmatrix}, \\sum_{j=1}^{N_a}B^t_{ij}, \\sum_{j=N_a+1}^{N}B^t_{ij}\\right]\n",
      "\\left[\\begin{smallmatrix}\\sigma_1 \\\\ \\vdots \\\\ \\sigma_N \\\\ \\gamma_a \\\\ \\gamma_b\\end{smallmatrix}\\right]\n",
      "$$\n",
      "\n",
      "Using the non-penetration conditions on the $1$st to $N$th panels, now you have $N$ linear equations. To solve the $N+2$ unknowns, the extra two linear equations you need are the Kutta conditions on the two airfoils:\n",
      "\n",
      "$$\n",
      "U^t_{1} = U^t_{N_a} \\\\\n",
      "U^t_{N_a+1} = U^t_{N}\n",
      "$$\n",
      "\n",
      "Finally, you can solve the problem now."
     ]
    },
    {
     "cell_type": "heading",
     "level": 2,
     "metadata": {},
     "source": [
      "Questions"
     ]
    },
    {
     "cell_type": "markdown",
     "metadata": {},
     "source": [
      "Run your codes using 100 panels on both main and flap airfoils and answer the following question."
     ]
    },
    {
     "cell_type": "heading",
     "level": 3,
     "metadata": {},
     "source": [
      "Q1."
     ]
    },
    {
     "cell_type": "markdown",
     "metadata": {},
     "source": [
      "What is the pressure coefficient on the $3$rd panel on the main foil?"
     ]
    },
    {
     "cell_type": "markdown",
     "metadata": {},
     "source": [
      "ANS: -0.955701172981"
     ]
    },
    {
     "cell_type": "heading",
     "level": 3,
     "metadata": {},
     "source": [
      "Q2."
     ]
    },
    {
     "cell_type": "markdown",
     "metadata": {},
     "source": [
      "What is the pressure coefficient on the $10$th panel on the flap foil?"
     ]
    },
    {
     "cell_type": "markdown",
     "metadata": {},
     "source": [
      "ANS: -0.279918398369"
     ]
    },
    {
     "cell_type": "heading",
     "level": 3,
     "metadata": {},
     "source": [
      "Q3."
     ]
    },
    {
     "cell_type": "markdown",
     "metadata": {},
     "source": [
      "What is the total lift coefficient?  \n",
      "(Hint:$L = - \\oint_{main\\ foil}p\\vec{n}\\cdot\\vec{j}dl- \\oint_{flap\\ foil}p\\vec{n}\\cdot\\vec{j}dl$)"
     ]
    },
    {
     "cell_type": "markdown",
     "metadata": {},
     "source": [
      "ANS: 3.69771447686"
     ]
    },
    {
     "cell_type": "heading",
     "level": 3,
     "metadata": {},
     "source": [
      "Q4."
     ]
    },
    {
     "cell_type": "markdown",
     "metadata": {},
     "source": [
      "What is the total drag coefficient?  "
     ]
    },
    {
     "cell_type": "markdown",
     "metadata": {},
     "source": [
      "ANS: 0.0107914032459"
     ]
    },
    {
     "cell_type": "heading",
     "level": 3,
     "metadata": {},
     "source": [
      "Q5."
     ]
    },
    {
     "cell_type": "markdown",
     "metadata": {},
     "source": [
      "Run the program again with 200 panels on both main and flap airfoils. ***What is precentage of the improvement of the absolute error?***"
     ]
    },
    {
     "cell_type": "code",
     "collapsed": false,
     "input": [
      "str(100 * (3.71843390868-3.7386) / (3.69771447686 - 3.7386)) + \"  %\""
     ],
     "language": "python",
     "metadata": {},
     "outputs": [
      {
       "metadata": {},
       "output_type": "pyout",
       "prompt_number": 4,
       "text": [
        "'49.32330509982099  %'"
       ]
      }
     ],
     "prompt_number": 4
    },
    {
     "cell_type": "markdown",
     "metadata": {},
     "source": [
      "-----------------------------"
     ]
    },
    {
     "cell_type": "code",
     "collapsed": false,
     "input": [
      "from IPython.core.display import HTML\n",
      "def css_styling():\n",
      "    styles = open('../styles/custom.css', 'r').read()\n",
      "    return HTML(styles)\n",
      "css_styling()"
     ],
     "language": "python",
     "metadata": {},
     "outputs": [
      {
       "html": [
        "<link href='http://fonts.googleapis.com/css?family=Fenix' rel='stylesheet' type='text/css'>\n",
        "<link href='http://fonts.googleapis.com/css?family=Alegreya+Sans:100,300,400,500,700,800,900,100italic,300italic,400italic,500italic,700italic,800italic,900italic' rel='stylesheet' type='text/css'>\n",
        "<link href='http://fonts.googleapis.com/css?family=Source+Code+Pro:300,400' rel='stylesheet' type='text/css'>\n",
        "<style>\n",
        "\n",
        "@font-face {\n",
        "    font-family: \"Computer Modern\";\n",
        "    src: url('http://mirrors.ctan.org/fonts/cm-unicode/fonts/otf/cmunss.otf');\n",
        "}\n",
        "\n",
        "\n",
        "#notebook_panel { /* main background */\n",
        "    background: rgb(245,245,245);\n",
        "}\n",
        "\n",
        "div.cell { /* set cell width */\n",
        "    width: 750px;\n",
        "}\n",
        "\n",
        "div #notebook { /* centre the content */\n",
        "    background: #fff; /* white background for content */\n",
        "    width: 1000px;\n",
        "    margin: auto;\n",
        "    padding-left: 0em;\n",
        "}\n",
        "\n",
        "#notebook li { /* More space between bullet points */\n",
        "margin-top:0.8em;\n",
        "}\n",
        "\n",
        "/* draw border around running cells */\n",
        "div.cell.border-box-sizing.code_cell.running { \n",
        "    border: 1px solid #111;\n",
        "}\n",
        "\n",
        "/* Put a solid color box around each cell and its output, visually linking them*/\n",
        "div.cell.code_cell {\n",
        "    background-color: rgb(256,256,256); \n",
        "    border-radius: 0px; \n",
        "    padding: 0.5em;\n",
        "    margin-left:1em;\n",
        "    margin-top: 1em;\n",
        "}\n",
        "\n",
        "\n",
        "div.text_cell_render{\n",
        "    font-family: 'Alegreya Sans' sans-serif;\n",
        "    line-height: 140%;\n",
        "    font-size: 125%;\n",
        "    font-weight: 400;\n",
        "    width:600px;\n",
        "    margin-left:auto;\n",
        "    margin-right:auto;\n",
        "}\n",
        "\n",
        "/* Formatting for header cells */\n",
        ".text_cell_render h1 {\n",
        "    font-family: 'Alegreya Sans', sans-serif;\n",
        "    font-style:regular;\n",
        "    font-weight: 200;    \n",
        "    font-size: 50pt;\n",
        "    line-height: 100%;\n",
        "    color:#CD2305;\n",
        "    margin-bottom: 0.5em;\n",
        "    margin-top: 0.5em;\n",
        "    display: block;\n",
        "}\t\n",
        ".text_cell_render h2 {\n",
        "    font-family: 'Fenix', serif;\n",
        "    font-size: 22pt;\n",
        "    line-height: 100%;\n",
        "    margin-bottom: 0.1em;\n",
        "    margin-top: 0.3em;\n",
        "    display: block;\n",
        "}\t\n",
        "\n",
        ".text_cell_render h3 {\n",
        "    font-family: 'Fenix', serif;\n",
        "    margin-top:12px;\n",
        "\tfont-size: 16pt;\n",
        "    margin-bottom: 3px;\n",
        "    font-style: regular;\n",
        "}\n",
        "\n",
        ".text_cell_render h4 {    /*Use this for captions*/\n",
        "    font-family: 'Fenix', serif;\n",
        "    font-size: 2pt;\n",
        "    text-align: center;\n",
        "    margin-top: 0em;\n",
        "    margin-bottom: 2em;\n",
        "    font-style: regular;\n",
        "}\n",
        "\n",
        ".text_cell_render h5 {  /*Use this for small titles*/\n",
        "    font-family: 'Alegreya Sans', sans-serif;\n",
        "    font-weight: 300;\n",
        "    font-size: 16pt;\n",
        "    color: #CD2305;\n",
        "    font-style: italic;\n",
        "    margin-bottom: .5em;\n",
        "    margin-top: 0.5em;\n",
        "    display: block;\n",
        "}\n",
        "\n",
        ".text_cell_render h6 { /*use this for copyright note*/\n",
        "    font-family: 'Source Code Pro', sans-serif;\n",
        "    font-weight: 300;\n",
        "    font-size: 9pt;\n",
        "    line-height: 100%;\n",
        "    color: grey;\n",
        "    margin-bottom: 1px;\n",
        "    margin-top: 1px;\n",
        "}\n",
        "\n",
        "    .CodeMirror{\n",
        "            font-family: \"Source Code Pro\";\n",
        "\t\t\tfont-size: 90%;\n",
        "    }\n",
        "/*    .prompt{\n",
        "        display: None;\n",
        "    }*/\n",
        "\t\n",
        "    \n",
        "    .warning{\n",
        "        color: rgb( 240, 20, 20 )\n",
        "        }  \n",
        "</style>\n",
        "<script>\n",
        "    MathJax.Hub.Config({\n",
        "                        TeX: {\n",
        "                           extensions: [\"AMSmath.js\"], \n",
        "                           equationNumbers: { autoNumber: \"AMS\", useLabelIds: true}\n",
        "                           },\n",
        "                tex2jax: {\n",
        "                    inlineMath: [ ['$','$'], [\"\\\\(\",\"\\\\)\"] ],\n",
        "                    displayMath: [ ['$$','$$'], [\"\\\\[\",\"\\\\]\"] ]\n",
        "                },\n",
        "                displayAlign: 'center', // Change this to 'center' to center equations.\n",
        "                \"HTML-CSS\": {\n",
        "                    styles: {'.MathJax_Display': {\"margin\": 4}}\n",
        "                }\n",
        "        });\n",
        "</script>\n"
       ],
       "metadata": {},
       "output_type": "pyout",
       "prompt_number": 1,
       "text": [
        "<IPython.core.display.HTML at 0x7f4ba452ce48>"
       ]
      }
     ],
     "prompt_number": 1
    }
   ],
   "metadata": {}
  }
 ]
}