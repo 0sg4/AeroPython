{
 "metadata": {
  "name": "07_Lesson07_vortexSourcePanelMethod"
 },
 "nbformat": 3,
 "nbformat_minor": 0,
 "worksheets": [
  {
   "cells": [
    {
     "cell_type": "raw",
     "metadata": {},
     "source": [
      "Text and code provided under a Creative Commons Attribution license, CC-BY. (c) Lorena A. Barba, Olivier Mesnard, 2014. Thanks: NSF for support via CAREER award #1149784."
     ]
    },
    {
     "cell_type": "markdown",
     "metadata": {},
     "source": [
      "[@LorenaABarba](https://twitter.com/LorenaABarba)"
     ]
    },
    {
     "cell_type": "heading",
     "level": 5,
     "metadata": {},
     "source": [
      "Version 0.1 -- January 2014"
     ]
    },
    {
     "cell_type": "heading",
     "level": 1,
     "metadata": {},
     "source": [
      "Source-vortex panel method"
     ]
    },
    {
     "cell_type": "markdown",
     "metadata": {},
     "source": [
      "[ content pending to be added ]"
     ]
    },
    {
     "cell_type": "markdown",
     "metadata": {},
     "source": [
      "Start by importing the libraries that will be used in this notebook. Note that, in this notebook, we will only use the function `integrate` from `Scipy`, therefore, no need to import the entire library."
     ]
    },
    {
     "cell_type": "code",
     "collapsed": false,
     "input": [
      "import numpy as np\n",
      "from scipy import integrate\n",
      "from math import *\n",
      "import matplotlib.pyplot as plt"
     ],
     "language": "python",
     "metadata": {},
     "outputs": [],
     "prompt_number": 1
    },
    {
     "cell_type": "markdown",
     "metadata": {},
     "source": [
      "The objective in this notebook is to implement a *source-vortex panel* code to calculate the pressure coefficient on the surface of a NACA 0012 airfoil section. We need to import the geometry from the data file *naca0012.dat*."
     ]
    },
    {
     "cell_type": "code",
     "collapsed": false,
     "input": [
      "# function to read the coordinates to store into two 1D arrays\n",
      "def readGeometry():\n",
      "    inFile = open('../resources/naca0012.dat','r')\n",
      "    #inFile = open('../resources/cylinder.dat','r')\n",
      "    x,y = [],[]\n",
      "    for line in inFile:\n",
      "        data = line.split()\n",
      "        x.append(float(data[0]))\n",
      "        y.append(float(data[1]))\n",
      "    x,y = np.array(x),np.array(y)\n",
      "    inFile.close()\n",
      "    return x,y"
     ],
     "language": "python",
     "metadata": {},
     "outputs": [],
     "prompt_number": 2
    },
    {
     "cell_type": "code",
     "collapsed": false,
     "input": [
      "xp,yp = readGeometry()         # read of the geometry from a data file\n",
      "\n",
      "# plotting the geometry\n",
      "valX,valY = 0.1,0.2\n",
      "xmin,xmax = min(xp),max(xp)\n",
      "ymin,ymax = min(yp),max(yp)\n",
      "xStart,xEnd = xmin-valX*(xmax-xmin),xmax+valX*(xmax-xmin)\n",
      "yStart,yEnd = ymin-valY*(ymax-ymin),ymax+valY*(ymax-ymin)\n",
      "size = 10\n",
      "plt.figure(figsize=(size,(yEnd-yStart)/(xEnd-xStart)*size))\n",
      "plt.grid(True)\n",
      "plt.xlabel('x',fontsize=16)\n",
      "plt.ylabel('y',fontsize=16)\n",
      "plt.xlim(xStart,xEnd)\n",
      "plt.ylim(yStart,yEnd)\n",
      "plt.plot(xp,yp,'k-',linewidth=2)"
     ],
     "language": "python",
     "metadata": {},
     "outputs": [
      {
       "output_type": "pyout",
       "prompt_number": 3,
       "text": [
        "[<matplotlib.lines.Line2D at 0x260c950>]"
       ]
      },
      {
       "output_type": "display_data",
       "png": "[encoded data removed]"
      }
     ],
     "prompt_number": 3
    },
    {
     "cell_type": "markdown",
     "metadata": {},
     "source": [
      "The contour defining the object is partitioned into `N` piecewise straight segments, called panels. \n",
      "\n",
      "A panel is defined by its control point $\\left(x_c,y_c\\right)$ (center of the panel) and two end-points $\\left(x_a,y_a\\right)$ and $\\left(x_a,y_a\\right)$. The unit vector normal to the panel $\\underline{n}$ forms an angle $\\beta$ with the $x$ axis, the tangential vector is denotes by $\\underline{t}$.\n",
      "\n",
      "![caption](files/panelSketch.png)\n",
      "\n",
      "A constant source strength $\\sigma$ is associated with each panel (and can vary from a panel to another)."
     ]
    },
    {
     "cell_type": "markdown",
     "metadata": {},
     "source": [
      "Let's define a class `Panel` that will contain all the information about one panel. As said previously a panel is defined by its control point, two end-points from which we can compute the length of the panel and the angle between the $x$-axis and the normal vector. In addition to that we add three other attributes that will be useful later: the source strength of the panel, the tangential velocity and the coefficient of pressure. Moreover, in order to plot pretty figures, we determine if the panel is located on the intrados or on the extrados."
     ]
    },
    {
     "cell_type": "code",
     "collapsed": false,
     "input": [
      "# class Panel containing the info about one panel\n",
      "class Panel:\n",
      "    def __init__(self,xa,ya,xb,yb):\n",
      "        self.xa,self.ya = xa,ya                     # 1st end-point\n",
      "        self.xb,self.yb = xb,yb                     # 2nd end-point\n",
      "        self.xc,self.yc = (xa+xb)/2,(ya+yb)/2       # control point\n",
      "        self.length = sqrt((xb-xa)**2+(yb-ya)**2)   # length of the panel\n",
      "        \n",
      "        # orientation of the panel\n",
      "        if (xb-xa<=0.): self.beta = acos((yb-ya)/self.length)\n",
      "        elif (xb-xa>0.): self.beta = pi+acos(-(yb-ya)/self.length)\n",
      "        \n",
      "        # location of the panel\n",
      "        if (self.beta<=pi): self.loc = 'extrados'\n",
      "        else: self.loc = 'intrados'\n",
      "        \n",
      "        self.sigma = 0.                             # source strength\n",
      "        self.vt = 0.                                # tangential velocity\n",
      "        self.Cp = 0.                                # pressure coefficient"
     ],
     "language": "python",
     "metadata": {},
     "outputs": [],
     "prompt_number": 4
    },
    {
     "cell_type": "markdown",
     "metadata": {},
     "source": [
      "As said earlier, the geometry of the airfoil is defined as a collection of panels. We create a function `definePanels()` that will return an array where each element is object of the class `Panel`."
     ]
    },
    {
     "cell_type": "code",
     "collapsed": false,
     "input": [
      "# function to descretize the geometry into panels\n",
      "def definePanels(N,xp,yp):\n",
      "    Np = len(xp)\n",
      "    length = sum(np.sqrt((xp[1:Np]-xp[0:Np-1])**2+(yp[1:Np]-yp[0:Np-1])**2))\n",
      "    length += sqrt((xp[0]-xp[Np-1])**2+(yp[0]-yp[Np-1])**2)\n",
      "    lc = length/N\n",
      "    \n",
      "    x,y = np.empty(N,dtype=float),np.empty(N,dtype=float)\n",
      "    x[0],y[0] = xp[0],yp[0]\n",
      "    i = 0\n",
      "    for j in range(N-1):\n",
      "        xStart,yStart = x[j],y[j]\n",
      "        xEnd,yEnd = xp[i+1],yp[i+1]\n",
      "        d = sqrt((xStart-xEnd)**2+(yStart-yEnd)**2)\n",
      "        if (d>=lc): d = 0\n",
      "        elif (d<lc):\n",
      "            while (i<Np-1):\n",
      "                i += 1\n",
      "                xStart,yStart = xEnd,yEnd\n",
      "                if (i<Np-2): xEnd,yEnd = xp[i+1],yp[i+1]\n",
      "                else: xEnd,yEnd = xp[0],yp[0]\n",
      "                dd = sqrt((xStart-xEnd)**2+(yStart-yEnd)**2)\n",
      "                if (d+dd<lc): d += dd\n",
      "                else: break\n",
      "        x[j+1] = xStart+(lc-d)/sqrt((xEnd-xStart)**2+(yEnd-yStart)**2)*(xEnd-xStart)\n",
      "        y[j+1] = yStart+(lc-d)/sqrt((xEnd-xStart)**2+(yEnd-yStart)**2)*(yEnd-yStart)\n",
      "                \n",
      "    panel = np.empty(N,dtype=object)\n",
      "    for i in range(N-1):\n",
      "        panel[i] = Panel(x[i],y[i],x[i+1],y[i+1])\n",
      "    panel[N-1] = Panel(x[N-1],y[N-1],x[0],y[0])\n",
      "    \n",
      "    return panel"
     ],
     "language": "python",
     "metadata": {},
     "outputs": [],
     "prompt_number": 5
    },
    {
     "cell_type": "code",
     "collapsed": false,
     "input": [
      "N = 100                        # number of panels\n",
      "panel = definePanels(N,xp,yp)  # discretization of the geometry into panels\n",
      "\n",
      "# plotting the geometry with the panels\n",
      "valX,valY = 0.1,0.2\n",
      "xmin,xmax = min([p.xa for p in panel]),max([p.xa for p in panel])\n",
      "ymin,ymax = min([p.ya for p in panel]),max([p.ya for p in panel])\n",
      "xStart,xEnd = xmin-valX*(xmax-xmin),xmax+valX*(xmax-xmin)\n",
      "yStart,yEnd = ymin-valY*(ymax-ymin),ymax+valY*(ymax-ymin)\n",
      "size = 10\n",
      "plt.figure(figsize=(size,(yEnd-yStart)/(xEnd-xStart)*size))\n",
      "plt.grid(True)\n",
      "plt.xlabel('x',fontsize=16)\n",
      "plt.ylabel('y',fontsize=16)\n",
      "plt.xlim(xStart,xEnd)\n",
      "plt.ylim(yStart,yEnd)\n",
      "plt.plot(xp,yp,'k-',linewidth=2)\n",
      "plt.plot(append([p.xa for p in panel],panel[0].xa),\\\n",
      "        append([p.ya for p in panel],panel[0].ya),\\\n",
      "        linestyle='-',linewidth=1,\\\n",
      "        marker='o',markersize=6,color='#CD2305')"
     ],
     "language": "python",
     "metadata": {},
     "outputs": [
      {
       "output_type": "pyout",
       "prompt_number": 6,
       "text": [
        "[<matplotlib.lines.Line2D at 0x27dfc50>]"
       ]
      },
      {
       "output_type": "display_data",
       "png": "[encoded data removed]"
      }
     ],
     "prompt_number": 6
    },
    {
     "cell_type": "markdown",
     "metadata": {},
     "source": [
      "The source on the panel induces a velocity potential at the distance $r$:\n",
      "\n",
      "$$d\\phi = \\frac{\\sigma ds}{2\\pi}\\ln r$$\n",
      "\n",
      "If the geometry is discretized into `N` panels, the velocity potential at point $P\\left(x,y\\right)$ induced by all the panels is given by:\n",
      "\n",
      "$$\\phi\\left(x,y\\right) = \\sum_{j=1}^N \\frac{\\sigma_j}{2\\pi} \\int_j \\ln r\\left(x,y,s_j\\right)ds_j$$\n",
      "\n",
      "where $s_j$ is the running coordinate along the $j$-th panel.\n",
      "\n",
      "The freestream ($V_\\infty$,$\\alpha$) also induces a potential at point $P\\left(x,y\\right)$:\n",
      "\n",
      "$$\\phi\\left(x,y\\right) = V_\\infty \\cos \\alpha x + V_\\infty \\sin \\alpha y$$"
     ]
    },
    {
     "cell_type": "code",
     "collapsed": false,
     "input": [
      "# class Freestream containing the freestream conditions\n",
      "class Freestream:\n",
      "\tdef __init__(self,Uinf,alpha):\n",
      "\t\tself.Uinf = Uinf                   # velocity magnitude\n",
      "\t\tself.alpha = alpha*pi/180          # angle of attack (degrees --> radians)"
     ],
     "language": "python",
     "metadata": {},
     "outputs": [],
     "prompt_number": 7
    },
    {
     "cell_type": "code",
     "collapsed": false,
     "input": [
      "# definition of the object freestream\n",
      "Uinf = 1.0                               # freestream speed\n",
      "alpha = 0.0                              # angle of attack (in degrees)\n",
      "freestream = Freestream(Uinf,alpha)      # instantiation of the object freestream"
     ],
     "language": "python",
     "metadata": {},
     "outputs": [],
     "prompt_number": 8
    },
    {
     "cell_type": "markdown",
     "metadata": {},
     "source": [
      "The flow tangency boundary condition is applied on every control points, so we need to evaluate the tangential velocity component at $\\left(x_{c_i},y_{c_i}\\right)$ the control point of the $i$-th panel. The potential induced by all the panels and the freestream at the control point $\\left(x_{c_i},y_{c_i}\\right)$ is given by:\n",
      "\n",
      "$$\\phi\\left(x_{c_i},y_{c_i}\\right) = V_\\infty x_{c_i} \\cos \\alpha + V_\\infty y_{c_i} \\sin \\alpha + \\sum_{j=1}^N \\frac{\\sigma_j}{2\\pi} \\int_j \\ln r\\left(x_{c_i},y_{c_i},s_j\\right)ds_j$$\n",
      "\n",
      "and the boundary condition at the control point $\\left(x_{c_i},y_{c_i}\\right)$ is given by the equation:\n",
      "\n",
      "$$0 = \\underline{V}\\cdot\\underline{n}_i = \\frac{\\partial}{\\partial n_i} \\left(\\phi\\left(x_{c_i},y_{c_i}\\right)\\right)$$\n",
      "\n",
      "$$0 = V_\\infty \\cos \\left(\\alpha-\\beta_i\\right) + \\frac{\\sigma_i}{2} + \\sum_{j=1,j\\neq i}^N \\frac{\\sigma_j}{2\\pi} \\int_j \\frac{\\partial}{\\partial n_i}\\ln r\\left(x_{c_i},y_{c_i},s_j\\right)ds_j$$"
     ]
    },
    {
     "cell_type": "markdown",
     "metadata": {},
     "source": [
      "We define a panel as an instance of the class `Panel` given above. The function `definePanels` return a list of object, `panel`, containing all the necessary information of each panel."
     ]
    },
    {
     "cell_type": "markdown",
     "metadata": {},
     "source": [
      "Let note\n",
      "\n",
      "$$I_{ij}\\left(z_i\\right) = \\int_j \\frac{\\partial}{\\partial z_i} \\ln r\\left(x_{c_i},y_{c_i},s_j\\right) ds_j$$\n",
      "\n",
      "To evaluate the normal velocity, we take $z_i = n_i$.\n",
      "\n",
      "$$I_{ij}\\left(n_i\\right) = \\int_j \\frac{\\partial}{\\partial n_i} \\ln r\\left(x_{c_i},y_{c_i},s_j\\right) ds_j$$\n",
      "\n",
      "where $r$ is the distance between the control point of the $i$-th panel $\\left(x_{c_i},y_{c_i}\\right)$ and the running point along the $j$-th panel $s_j$ given by the coordinates:\n",
      "\n",
      "$$x_j(s_j) = x_{b_j} + \\frac{x_{b_j}-x_{a_j}}{l_j}s_j$$\n",
      "\n",
      "$$y_j(s_j) = y_{b_j} + \\frac{y_{b_j}-y_{a_j}}{l_j}s_j$$\n",
      "\n",
      "which can be related with the angle $\\beta_j$:\n",
      "\n",
      "$$x_j(s_j) = x_{b_j} - s_j \\sin \\beta_j$$\n",
      "\n",
      "$$y_j(s_j) = y_{b_j} + s_j \\cos \\beta_j$$\n",
      "\n",
      "The derivation of the integrand leads to:\n",
      "\n",
      "$$I_{ij}\\left(n_i\\right) = \\int_j \\frac{\\left(x_{c_i}-x_j\\right)\\frac{\\partial x_{c_i}}{\\partial n_i} + \\left(y_{c_i}-y_j\\right)\\frac{\\partial y_{c_i}}{\\partial n_i}}{\\left(x_{c_i}-x_j\\right)^2 + \\left(x_{c_i}-x_j\\right)^2} ds_j$$\n",
      "\n",
      "with $\\frac{\\partial x_{c_i}}{\\partial n_i} = \\cos \\beta_i$ and $\\frac{\\partial y_{c_i}}{\\partial n_i} = \\sin \\beta_i$.\n",
      "\n",
      "We integrate along the $j$-th panel, from $0$ to the length of the panel, using `scipy`'s function `integrate.quad()` which computes a definite intregral."
     ]
    },
    {
     "cell_type": "code",
     "collapsed": false,
     "input": [
      "# function to evaluate the integral Iij(zi)\n",
      "def I(xci,yci,panelj,dxdz,dydz):\n",
      "\tdef func(s):\n",
      "\t\treturn (+(xci-(panelj.xa-sin(panelj.beta)*s))*dxdz\\\n",
      "\t\t\t\t+(yci-(panelj.ya+cos(panelj.beta)*s))*dydz)\\\n",
      "\t\t\t   /((xci-(panelj.xa-sin(panelj.beta)*s))**2\\\n",
      "\t\t\t   + (yci-(panelj.ya+cos(panelj.beta)*s))**2)\n",
      "\treturn integrate.quad(lambda s:func(s),0.,panelj.length)[0]"
     ],
     "language": "python",
     "metadata": {},
     "outputs": [],
     "prompt_number": 9
    },
    {
     "cell_type": "code",
     "collapsed": false,
     "input": [
      "# function to build the source matrix\n",
      "def sourceMatrix(p):\n",
      "\tN = len(p)\n",
      "\tA = np.empty((N,N),dtype=float)\n",
      "\tnp.fill_diagonal(A,0.5)\n",
      "\tfor i in range(N):\n",
      "\t\tfor j in range(N):\n",
      "\t\t\tif (i!=j):\n",
      "\t\t\t\tA[i,j] = 0.5/pi*I(p[i].xc,p[i].yc,p[j],cos(p[i].beta),sin(p[i].beta))\n",
      "\treturn A\n",
      "\n",
      "# function to build the vortex array\n",
      "def vortexArray(p):\n",
      "\tN = len(p)\n",
      "\tB = np.zeros(N,dtype=float)\n",
      "\tfor i in range(N):\n",
      "\t\tfor j in range(N):\n",
      "\t\t\tif (j!=i):\n",
      "\t\t\t\tB[i] -= 0.5/pi*I(p[i].xc,p[i].yc,p[j],sin(p[i].beta),-cos(p[i].beta))\n",
      "\treturn B\n",
      "\n",
      "# function to build the Kutta condition array\n",
      "def kuttaArray(p):\n",
      "\tN = len(p)\n",
      "\tB = np.zeros(N+1,dtype=float)\n",
      "\tfor j in range(N):\n",
      "\t\tif (j!=0) and (j!=N-1):\n",
      "\t\t\tB[j] = 0.5/pi*I(p[0].xc,p[0].yc,p[j],sin(p[0].beta),-cos(p[0].beta))\\\n",
      "\t\t\t\t+ 0.5/pi*I(p[N-1].xc,p[N-1].yc,p[j],sin(p[N-1].beta),-cos(p[N-1].beta))\n",
      "\t\t\tB[N] -= 0.5/pi*I(p[0].xc,p[0].yc,p[j],cos(p[0].beta),sin(p[0].beta))\\\n",
      "\t\t\t\t+ 0.5/pi*I(p[N-1].xc,p[N-1].yc,p[j],cos(p[N-1].beta),sin(p[N-1].beta))\n",
      "\treturn B\n",
      "\n",
      "# function to assemble the global matrix\n",
      "def buildMatrix(panel):\n",
      "\tN = len(panel)\n",
      "\tA = np.empty((N+1,N+1),dtype=float)\n",
      "\tAS = sourceMatrix(panel)\n",
      "\tBV = vortexArray(panel)\n",
      "\tBK = kuttaArray(panel)\n",
      "\tA[0:N,0:N],A[0:N,N],A[N,:] = AS[:,:],BV[:],BK[:]\n",
      "\treturn A\n",
      "\n",
      "# function to build the right hand-side of the linear system\n",
      "def buildRHS(p,fs):\n",
      "\tN = len(p)\n",
      "\tB = np.zeros(N+1,dtype=float)\n",
      "\tfor i in range(N):\n",
      "\t\tB[i] = -fs.Uinf*cos(fs.alpha-p[i].beta)\n",
      "\tB[N] = -fs.Uinf*(sin(fs.alpha+p[0].beta)+sin(fs.alpha+p[N-1].beta))\n",
      "\treturn B"
     ],
     "language": "python",
     "metadata": {},
     "outputs": [],
     "prompt_number": 10
    },
    {
     "cell_type": "code",
     "collapsed": false,
     "input": [
      "A = buildMatrix(panel)\t\t\t\t\t# calculate the singularity matrix\n",
      "B = buildRHS(panel,freestream)\t\t\t# calculate the freestream RHS"
     ],
     "language": "python",
     "metadata": {},
     "outputs": [],
     "prompt_number": 11
    },
    {
     "cell_type": "code",
     "collapsed": false,
     "input": [
      "# solve the linear system\n",
      "var = np.linalg.solve(A,B)\n",
      "for i in range(len(panel)):\n",
      "\tpanel[i].sigma = var[i]\n",
      "gamma = var[-1]"
     ],
     "language": "python",
     "metadata": {},
     "outputs": [],
     "prompt_number": 12
    },
    {
     "cell_type": "code",
     "collapsed": false,
     "input": [
      "# function to calculate the tangential velocity at each control point\n",
      "def getTangentVelocity(p,fs,gamma):\n",
      "\tN = len(p)\n",
      "\tA = np.zeros((N,N+1),dtype=float)\n",
      "\tfor i in range(N):\n",
      "\t\tfor j in range(N):\n",
      "\t\t\tif (i!=j):\n",
      "\t\t\t\tA[i,j] = 0.5/pi*I(p[i].xc,p[i].yc,p[j],sin(p[i].beta),-cos(p[i].beta))\n",
      "\t\t\t\tA[i,N] += -0.5/pi*I(p[i].xc,p[i].yc,p[j],cos(p[i].beta),sin(p[i].beta))\n",
      "\tB = fs.Uinf*np.sin([fs.alpha+pp.beta for pp in p])\n",
      "\tvar = np.empty(N+1,dtype=float)\n",
      "\tvar = np.append([pp.sigma for pp in p],gamma)\n",
      "\tvt = np.dot(A,var)+B\n",
      "\tfor i in range(N):\n",
      "\t\tp[i].vt = vt[i]"
     ],
     "language": "python",
     "metadata": {},
     "outputs": [],
     "prompt_number": 13
    },
    {
     "cell_type": "code",
     "collapsed": false,
     "input": [
      "getTangentVelocity(panel,freestream,gamma)\t# get tangential velocity"
     ],
     "language": "python",
     "metadata": {},
     "outputs": [],
     "prompt_number": 14
    },
    {
     "cell_type": "code",
     "collapsed": false,
     "input": [
      "# function to calculate the pressure coefficient at each control point\n",
      "def getPressureCoefficient(p,fs):\n",
      "\tfor i in range(len(p)):\n",
      "\t\tp[i].Cp = 1-(p[i].vt/fs.Uinf)**2"
     ],
     "language": "python",
     "metadata": {},
     "outputs": [],
     "prompt_number": 15
    },
    {
     "cell_type": "code",
     "collapsed": false,
     "input": [
      "getPressureCoefficient(panel,freestream)\t# get pressure coefficient"
     ],
     "language": "python",
     "metadata": {},
     "outputs": [],
     "prompt_number": 16
    },
    {
     "cell_type": "code",
     "collapsed": false,
     "input": [
      "# plotting the coefficient of pressure\n",
      "valX,valY = 0.1,0.2\n",
      "xmin,xmax = min([p.xa for p in panel]),max([p.xa for p in panel])\n",
      "Cpmin,Cpmax = min([p.Cp for p in panel]),max([p.Cp for p in panel])\n",
      "xStart,xEnd = xmin-valX*(xmax-xmin),xmax+valX*(xmax-xmin)\n",
      "yStart,yEnd = Cpmin-valY*(Cpmax-Cpmin),Cpmax+valY*(Cpmax-Cpmin)\n",
      "plt.figure(figsize=(10,6))\n",
      "plt.grid(True)\n",
      "plt.xlabel('x',fontsize=16)\n",
      "plt.ylabel('$C_p$',fontsize=16)\n",
      "plt.plot([p.xc for p in panel if p.loc=='extrados'],\\\n",
      "\t\t[p.Cp for p in panel if p.loc=='extrados'],\\\n",
      "\t\t'ro-',linewidth=2)\n",
      "plt.plot([p.xc for p in panel if p.loc=='intrados'],\\\n",
      "\t\t[p.Cp for p in panel if p.loc=='intrados'],\\\n",
      "\t\t'bo-',linewidth=1)\n",
      "plt.legend(['extrados','intrados'],'best',prop={'size':14})\n",
      "plt.xlim(xStart,xEnd)\n",
      "plt.ylim(yStart,yEnd)\n",
      "plt.title('Number of panels : %d'%len(panel))\n",
      "print min([p.Cp for p in panel])"
     ],
     "language": "python",
     "metadata": {},
     "outputs": [
      {
       "output_type": "stream",
       "stream": "stdout",
       "text": [
        "-0.422862813458\n"
       ]
      },
      {
       "output_type": "display_data",
       "png": "[encoded data removed]"
      }
     ],
     "prompt_number": 17
    },
    {
     "cell_type": "code",
     "collapsed": false,
     "input": [
      "# sum of all source/sink strengths\n",
      "print '--> source/sink circulation :',sum([p.sigma*p.length for p in panel])"
     ],
     "language": "python",
     "metadata": {},
     "outputs": [
      {
       "output_type": "stream",
       "stream": "stdout",
       "text": [
        "--> source/sink circulation : 0.0042642053172\n"
       ]
      }
     ],
     "prompt_number": 18
    },
    {
     "cell_type": "code",
     "collapsed": false,
     "input": [
      "# calculation of the lift\n",
      "Cl = gamma*sum([p.length for p in panel])/(0.5*freestream.Uinf*(xmax-xmin))\n",
      "print '--> Lift coefficient: Cl =',Cl,\\\n",
      "\t'\\t','(','2*pi*alpha =',(2*pi*freestream.alpha),')'"
     ],
     "language": "python",
     "metadata": {},
     "outputs": [
      {
       "output_type": "stream",
       "stream": "stdout",
       "text": [
        "--> Lift coefficient: Cl = 2.30855837708e-15 \t( 2*pi*alpha = 0.0 )\n"
       ]
      }
     ],
     "prompt_number": 19
    },
    {
     "cell_type": "code",
     "collapsed": false,
     "input": [
      "# function to calculate the velocity field given a mesh grid\n",
      "def getVelocityField(panel,freestream,gamma,X,Y):\n",
      "    Nx,Ny = X.shape\n",
      "    u,v = np.empty((Nx,Ny),dtype=float),np.empty((Nx,Ny),dtype=float)\n",
      "    for i in range(Nx):\n",
      "        for j in range(Ny):\n",
      "            u[i,j] = freestream.Uinf*cos(freestream.alpha)\\\n",
      "\t\t\t\t+ 0.5/pi*sum([p.sigma*I(X[i,j],Y[i,j],p,1,0) for p in panel])\\\n",
      "\t\t\t\t- 0.5/pi*gamma*sum([I(X[i,j],Y[i,j],p,0,-1) for p in panel])\n",
      "            v[i,j] = freestream.Uinf*sin(freestream.alpha)\\\n",
      "\t\t\t\t+ 0.5/pi*sum([p.sigma*I(X[i,j],Y[i,j],p,0,1) for p in panel])\\\n",
      "\t\t\t\t- 0.5/pi*gamma*sum([I(X[i,j],Y[i,j],p,1,0) for p in panel])\n",
      "    return u,v"
     ],
     "language": "python",
     "metadata": {},
     "outputs": [],
     "prompt_number": 20
    },
    {
     "cell_type": "code",
     "collapsed": false,
     "input": [
      "# definition of the mesh grid\n",
      "Nx,Ny = 40,40\n",
      "valX,valY = 1.0,2.0\n",
      "xmin,xmax = min([p.xa for p in panel]),max([p.xa for p in panel])\n",
      "ymin,ymax = min([p.ya for p in panel]),max([p.ya for p in panel])\n",
      "xStart,xEnd = xmin-valX*(xmax-xmin),xmax+valX*(xmax-xmin)\n",
      "yStart,yEnd = ymin-valY*(ymax-ymin),ymax+valY*(ymax-ymin)\n",
      "X,Y = np.meshgrid(np.linspace(xStart,xEnd,Nx),np.linspace(yStart,yEnd,Ny))\n",
      "\n",
      "# get the velicity field on the mesh grid\n",
      "u,v = getVelocityField(panel,freestream,gamma,X,Y)"
     ],
     "language": "python",
     "metadata": {},
     "outputs": [],
     "prompt_number": 21
    },
    {
     "cell_type": "code",
     "collapsed": false,
     "input": [
      "# plotting the velocity field\n",
      "size=10\n",
      "plt.figure(figsize=(size,(yEnd-yStart)/(xEnd-xStart)*size))\n",
      "plt.xlabel('x',fontsize=16)\n",
      "plt.ylabel('y',fontsize=16)\n",
      "plt.streamplot(X,Y,u,v,density=1,linewidth=1,arrowsize=1,arrowstyle='->')\n",
      "plt.fill([p.xa for p in panel],[p.ya for p in panel],'ko-',linewidth=2,zorder=2)\n",
      "plt.xlim(xStart,xEnd)\n",
      "plt.ylim(yStart,yEnd)\n",
      "plt.title('Contour of velocity field')"
     ],
     "language": "python",
     "metadata": {},
     "outputs": [
      {
       "output_type": "pyout",
       "prompt_number": 22,
       "text": [
        "<matplotlib.text.Text at 0x2a10110>"
       ]
      },
      {
       "output_type": "display_data",
       "png": "[encoded data removed]"
      }
     ],
     "prompt_number": 22
    },
    {
     "cell_type": "code",
     "collapsed": false,
     "input": [
      "# computing the pressure field\n",
      "Cp = 1.0-(u**2+v**2)/freestream.Uinf**2\n",
      "\n",
      "# plotting the pressure field\n",
      "size=10\n",
      "plt.figure(figsize=(1.1*size,(yEnd-yStart)/(xEnd-xStart)*size))\n",
      "plt.xlabel('x',fontsize=16)\n",
      "plt.ylabel('y',fontsize=16)\n",
      "contf = plt.contourf(X,Y,Cp,levels=np.linspace(-2.0,1.0,100),extend='both')\n",
      "cbar = plt.colorbar(contf)\n",
      "cbar.set_label('$C_p$',fontsize=16)\n",
      "cbar.set_ticks([-2.0,-1.0,0.0,1.0])\n",
      "plt.fill([p.xc for p in panel],[p.yc for p in panel],'ko-',linewidth=2,zorder=2)\n",
      "plt.xlim(xStart,xEnd)\n",
      "plt.ylim(yStart,yEnd)\n",
      "plt.title('Contour of pressure field')"
     ],
     "language": "python",
     "metadata": {},
     "outputs": [
      {
       "output_type": "pyout",
       "prompt_number": 23,
       "text": [
        "<matplotlib.text.Text at 0x306c810>"
       ]
      },
      {
       "output_type": "display_data",
       "png": "[encoded data removed]"
      }
     ],
     "prompt_number": 23
    },
    {
     "cell_type": "markdown",
     "metadata": {},
     "source": [
      "---"
     ]
    },
    {
     "cell_type": "code",
     "collapsed": false,
     "input": [
      "from IPython.core.display import HTML\n",
      "def css_styling():\n",
      "    styles = open('../styles/custom.css', 'r').read()\n",
      "    return HTML(styles)\n",
      "css_styling()"
     ],
     "language": "python",
     "metadata": {},
     "outputs": [
      {
       "html": [
        "<link href='http://fonts.googleapis.com/css?family=Fenix' rel='stylesheet' type='text/css'>\n",
        "<link href='http://fonts.googleapis.com/css?family=Alegreya+Sans:100,300,400,500,700,800,900,100italic,300italic,400italic,500italic,700italic,800italic,900italic' rel='stylesheet' type='text/css'>\n",
        "<link href='http://fonts.googleapis.com/css?family=Source+Code+Pro:300,400' rel='stylesheet' type='text/css'>\n",
        "<style>\n",
        "    @font-face {\n",
        "        font-family: \"Computer Modern\";\n",
        "        src: url('http://mirrors.ctan.org/fonts/cm-unicode/fonts/otf/cmunss.otf');\n",
        "    }\n",
        "    div.cell{\n",
        "        width:800px;\n",
        "        margin-left:16% !important;\n",
        "        margin-right:auto;\n",
        "    }\n",
        "    h1 {\n",
        "        font-family: 'Alegreya Sans', sans-serif;\n",
        "    }\n",
        "    h2 {\n",
        "        font-family: 'Fenix', serif;\n",
        "    }\n",
        "    h3{\n",
        "\t\tfont-family: 'Fenix', serif;\n",
        "        margin-top:12px;\n",
        "        margin-bottom: 3px;\n",
        "       }\n",
        "\th4{\n",
        "\t\tfont-family: 'Fenix', serif;\n",
        "       }\n",
        "    h5 {\n",
        "        font-family: 'Alegreya Sans', sans-serif;\n",
        "    }\t   \n",
        "    div.text_cell_render{\n",
        "        font-family: 'Alegreya Sans',Computer Modern, \"Helvetica Neue\", Arial, Helvetica, Geneva, sans-serif;\n",
        "        line-height: 135%;\n",
        "        font-size: 120%;\n",
        "        width:600px;\n",
        "        margin-left:auto;\n",
        "        margin-right:auto;\n",
        "    }\n",
        "    .CodeMirror{\n",
        "            font-family: \"Source Code Pro\";\n",
        "\t\t\tfont-size: 90%;\n",
        "    }\n",
        "/*    .prompt{\n",
        "        display: None;\n",
        "    }*/\n",
        "    .text_cell_render h1 {\n",
        "        font-weight: 200;\n",
        "        font-size: 50pt;\n",
        "\t\tline-height: 100%;\n",
        "        color:#CD2305;\n",
        "        margin-bottom: 0.5em;\n",
        "        margin-top: 0.5em;\n",
        "        display: block;\n",
        "    }\t\n",
        "    .text_cell_render h5 {\n",
        "        font-weight: 300;\n",
        "        font-size: 16pt;\n",
        "        color: #CD2305;\n",
        "        font-style: italic;\n",
        "        margin-bottom: .5em;\n",
        "        margin-top: 0.5em;\n",
        "        display: block;\n",
        "    }\n",
        "    \n",
        "    .warning{\n",
        "        color: rgb( 240, 20, 20 )\n",
        "        }  \n",
        "</style>\n",
        "<script>\n",
        "    MathJax.Hub.Config({\n",
        "                        TeX: {\n",
        "                           extensions: [\"AMSmath.js\"]\n",
        "                           },\n",
        "                tex2jax: {\n",
        "                    inlineMath: [ ['$','$'], [\"\\\\(\",\"\\\\)\"] ],\n",
        "                    displayMath: [ ['$$','$$'], [\"\\\\[\",\"\\\\]\"] ]\n",
        "                },\n",
        "                displayAlign: 'center', // Change this to 'center' to center equations.\n",
        "                \"HTML-CSS\": {\n",
        "                    styles: {'.MathJax_Display': {\"margin\": 4}}\n",
        "                }\n",
        "        });\n",
        "</script>\n"
       ],
       "output_type": "pyout",
       "prompt_number": 24,
       "text": [
        "<IPython.core.display.HTML at 0x27d8890>"
       ]
      }
     ],
     "prompt_number": 24
    },
    {
     "cell_type": "code",
     "collapsed": false,
     "input": [],
     "language": "python",
     "metadata": {},
     "outputs": [],
     "prompt_number": 24
    }
   ],
   "metadata": {}
  }
 ]
}